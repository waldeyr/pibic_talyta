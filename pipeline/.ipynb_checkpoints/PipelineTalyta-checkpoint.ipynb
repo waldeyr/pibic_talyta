{
 "cells": [
  {
   "cell_type": "code",
   "execution_count": 44,
   "id": "4e26e022",
   "metadata": {},
   "outputs": [],
   "source": [
    "from Bio import SeqIO\n",
    "import os\n",
    "import pathlib\n",
    "from textwrap import wrap\n",
    "from Bio.Blast.Applications import *\n",
    "import pandas as pd\n",
    "import plotly.express as px"
   ]
  },
  {
   "cell_type": "markdown",
   "id": "9b3da68b",
   "metadata": {},
   "source": [
    "# Parte 01"
   ]
  },
  {
   "cell_type": "markdown",
   "id": "85997f35",
   "metadata": {},
   "source": [
    "## Tratar os arquivos de enzimas\n",
    "* Inserindo EC\n",
    "* Filtrando enzimas com 100 aminoacidos ou mais\n",
    "* Removendo arquivos que não passaram no filtro"
   ]
  },
  {
   "cell_type": "code",
   "execution_count": 2,
   "id": "ab0b5365",
   "metadata": {},
   "outputs": [],
   "source": [
    "def formatSequence(sequence, length):\n",
    "    '''\n",
    "    Função para formatar as sequencias\n",
    "    '''\n",
    "    formatedSequence = ''\n",
    "    listTemp = wrap(sequence, length)\n",
    "    for temp in listTemp:\n",
    "        formatedSequence = formatedSequence + str(temp) + '\\n'\n",
    "    return formatedSequence.rstrip('\\n')"
   ]
  },
  {
   "cell_type": "code",
   "execution_count": 3,
   "id": "270e58b5",
   "metadata": {},
   "outputs": [],
   "source": [
    "def runForClass(subfolders):\n",
    "    '''\n",
    "    Função para ler os arquivos dentro de cada pasta e salvar o s arquivs filtrados e tratados\n",
    "    '''\n",
    "    for sufolder in subfolders:\n",
    "        with open(sufolder + \".faa\", 'w') as outpuFile:\n",
    "            for inputFile in os.listdir(sufolder):\n",
    "                if inputFile.endswith(\".faa\"):\n",
    "                    with open(os.path.join(sufolder, inputFile)) as handle:\n",
    "                        for record in SeqIO.parse(handle, \"fasta\"):\n",
    "                            if len(record.seq) > 100: # sequencias com mais de 100 aminoacidos\n",
    "                                outpuFile.write(f\">{record.description} EC={inputFile[:-4]}\\n\")\n",
    "                                outpuFile.write(formatSequence(str(record.seq), 80) + \"\\n\")"
   ]
  },
  {
   "cell_type": "code",
   "execution_count": 4,
   "id": "efd0a594",
   "metadata": {},
   "outputs": [],
   "source": [
    "def checkFile(subfolders):\n",
    "    '''\n",
    "    Função que remove os arquivos que não passarm no filtro\n",
    "    '''\n",
    "    for file in subfolders:\n",
    "        if os.path.getsize(str(file + \".faa\")) == 0:# Arquivo vazio?\n",
    "            os.remove(str(file + \".faa\")) # remove"
   ]
  },
  {
   "cell_type": "markdown",
   "id": "32475021",
   "metadata": {},
   "source": [
    "### Flavonoids"
   ]
  },
  {
   "cell_type": "code",
   "execution_count": 5,
   "id": "b4d956db",
   "metadata": {},
   "outputs": [],
   "source": [
    "subfolders = [ f.path for f in os.scandir(\"flavonoids\") if f.is_dir() ]\n",
    "runForClass(subfolders)\n",
    "checkFile(subfolders)"
   ]
  },
  {
   "cell_type": "markdown",
   "id": "971d2419",
   "metadata": {},
   "source": [
    "### Monoterpenes"
   ]
  },
  {
   "cell_type": "code",
   "execution_count": 6,
   "id": "556df76b",
   "metadata": {},
   "outputs": [],
   "source": [
    "subfolders = [ f.path for f in os.scandir(\"monoterpenes\") if f.is_dir() ]\n",
    "runForClass(subfolders)\n",
    "checkFile(subfolders)"
   ]
  },
  {
   "cell_type": "markdown",
   "id": "9bd3b9cb",
   "metadata": {},
   "source": [
    "### Sesquiterpenes"
   ]
  },
  {
   "cell_type": "code",
   "execution_count": 7,
   "id": "aa06fd68",
   "metadata": {},
   "outputs": [],
   "source": [
    "subfolders = [ f.path for f in os.scandir(\"sesquiterpenes\") if f.is_dir() ]\n",
    "runForClass(subfolders)\n",
    "checkFile(subfolders)"
   ]
  },
  {
   "cell_type": "markdown",
   "id": "5ecec868",
   "metadata": {},
   "source": [
    "### Others"
   ]
  },
  {
   "cell_type": "code",
   "execution_count": 8,
   "id": "8e496cc7",
   "metadata": {},
   "outputs": [],
   "source": [
    "subfolders = [ f.path for f in os.scandir(\"others\") if f.is_dir() ]\n",
    "runForClass(subfolders)\n",
    "checkFile(subfolders)"
   ]
  },
  {
   "cell_type": "markdown",
   "id": "178ed92a",
   "metadata": {},
   "source": [
    "## Criando o banco de dados Blast com os arquivos tratados de enzymas"
   ]
  },
  {
   "cell_type": "code",
   "execution_count": 9,
   "id": "7827af1b",
   "metadata": {},
   "outputs": [],
   "source": [
    "def createBlastDb(folder_class):\n",
    "    blast_cmds = []\n",
    "    # Cria uma pasta para o banco de dados Blast, caso ela ainda nao existir\n",
    "    if not os.path.exists(\"blastdb\"):\n",
    "        os.makedirs(\"blastdb\")\n",
    "    files = pathlib.Path(folder_class).glob(\"*.faa\") # lista arquivos .faa da pasta\n",
    "    for file in files:\n",
    "        output = \"blastdb/\" + str(file).split(\"/\")[-1][:-4]\n",
    "        cline = NcbimakeblastdbCommandline(dbtype=\"prot\", input_file = file, out = output)\n",
    "        blast_cmds.append(cline)\n",
    "    return blast_cmds"
   ]
  },
  {
   "cell_type": "markdown",
   "id": "bb1976e0",
   "metadata": {},
   "source": [
    "### Flavonoids"
   ]
  },
  {
   "cell_type": "code",
   "execution_count": 10,
   "id": "ab71bb69",
   "metadata": {},
   "outputs": [],
   "source": [
    "blast_cmds = createBlastDb(\"flavonoids\")\n",
    "for cmd in blast_cmds:\n",
    "    stdout, stderr = cmd()"
   ]
  },
  {
   "cell_type": "markdown",
   "id": "fff3221c",
   "metadata": {},
   "source": [
    "### Monoterpenes"
   ]
  },
  {
   "cell_type": "code",
   "execution_count": 11,
   "id": "307d4b08",
   "metadata": {},
   "outputs": [],
   "source": [
    "blast_cmds = createBlastDb(\"monoterpenes\")\n",
    "for cmd in blast_cmds:\n",
    "    stdout, stderr = cmd()"
   ]
  },
  {
   "cell_type": "markdown",
   "id": "ea5bb7ee",
   "metadata": {},
   "source": [
    "### Sesquiterpenes"
   ]
  },
  {
   "cell_type": "code",
   "execution_count": 12,
   "id": "2848bb1a",
   "metadata": {},
   "outputs": [],
   "source": [
    "blast_cmds = createBlastDb(\"sesquiterpenes\")\n",
    "for cmd in blast_cmds:\n",
    "    stdout, stderr = cmd()"
   ]
  },
  {
   "cell_type": "markdown",
   "id": "9f319298",
   "metadata": {},
   "source": [
    "### Others"
   ]
  },
  {
   "cell_type": "code",
   "execution_count": 13,
   "id": "4726e460",
   "metadata": {},
   "outputs": [],
   "source": [
    "blast_cmds = createBlastDb(\"others\")\n",
    "for cmd in blast_cmds:\n",
    "    stdout, stderr = cmd()"
   ]
  },
  {
   "cell_type": "markdown",
   "id": "1debace4",
   "metadata": {},
   "source": [
    "# Parte 02"
   ]
  },
  {
   "cell_type": "markdown",
   "id": "7587879a",
   "metadata": {},
   "source": [
    "## Tratar os arquivos de proteinas das plantas\n",
    "* Formatando os arquivos fasta\n",
    "* Filtrando proteinas com 100 aminoacidos ou mais\n",
    "* Removendo arquivos que não passaram no filtro"
   ]
  },
  {
   "cell_type": "code",
   "execution_count": 14,
   "id": "8ed69609",
   "metadata": {},
   "outputs": [],
   "source": [
    "def runForProteins(folder):\n",
    "    '''\n",
    "    Função para ler os arquivos de proteinas de cada planta e trata-los\n",
    "    '''\n",
    "    files = pathlib.Path(folder).glob(\"*.fasta\") # lista arquivos .fasta da pasta\n",
    "    for file in files:\n",
    "        with open(str(file)[:-6]+\".faa\", 'w') as outpuFile:\n",
    "            with open(file) as handle:\n",
    "                for record in SeqIO.parse(handle, \"fasta\"):\n",
    "                    if len(record.seq) > 100: # sequencias com mais de 100 aminoacidos\n",
    "                        outpuFile.write(f\">{record.description}\\n\")\n",
    "                        outpuFile.write(formatSequence(str(record.seq)+\"\\n\", 80))"
   ]
  },
  {
   "cell_type": "code",
   "execution_count": 15,
   "id": "0537cc8e",
   "metadata": {},
   "outputs": [],
   "source": [
    "runForProteins(\"proteinas_plantas_daninhas\")"
   ]
  },
  {
   "cell_type": "markdown",
   "id": "91e5a713",
   "metadata": {},
   "source": [
    "# Parte 03"
   ]
  },
  {
   "cell_type": "markdown",
   "id": "635e3290",
   "metadata": {},
   "source": [
    "## Rodando Blast para todas as plantas contra todas as enzimas"
   ]
  },
  {
   "cell_type": "code",
   "execution_count": 70,
   "id": "eb79ed19",
   "metadata": {},
   "outputs": [],
   "source": [
    "def runBlast(folder_proteins, folder_blastdb):\n",
    "    # Cria uma pasta para resultados Blast, caso ela ainda nao existir\n",
    "    if not os.path.exists(\"blast_results\"):\n",
    "        os.makedirs(\"blast_results\")\n",
    "    protein_files = pathlib.Path(folder_proteins).glob(\"*.faa\") # lista arquivos .faa da pasta\n",
    "    for protein_file in protein_files:\n",
    "        blastdb_files = pathlib.Path(folder_blastdb).glob(\"*.phr\") # lista arquivos .faa da pasta\n",
    "        for blastdb_file in blastdb_files:\n",
    "            E_VALUE_THRESH = 0.00001\n",
    "            protein = str(protein_file).split(\"/\")[-1][:-4]\n",
    "            enzyme  = str(blastdb_file).split(\"/\")[-1][:-4]\n",
    "            protein = protein.replace(\" \",\"_\")\n",
    "            result_file = \"blast_results/\" + protein + \"_VERSUS_\" + enzyme + \".blast.tab\"\n",
    "            blastp_cline = NcbiblastpCommandline(\n",
    "                query    = str(protein_file), \n",
    "                db       = str(blastdb_file)[:-4], \n",
    "                evalue   = E_VALUE_THRESH,\n",
    "                num_threads = 4,\n",
    "                max_hsps = 1,\n",
    "                outfmt   = 6, \n",
    "                out      = result_file\n",
    "            )\n",
    "            print(f\"Rodando {protein} VERSUS {enzyme}...\")\n",
    "            stdout, stderr = blastp_cline()"
   ]
  },
  {
   "cell_type": "code",
   "execution_count": 71,
   "id": "16ac05cc",
   "metadata": {},
   "outputs": [
    {
     "name": "stdout",
     "output_type": "stream",
     "text": [
      "Rodando Euphorbia_heterophylla VERSUS ethylene...\n",
      "Rodando Euphorbia_heterophylla VERSUS bicylogermacrene...\n",
      "Rodando Euphorbia_heterophylla VERSUS E-beta-ocimene...\n",
      "Rodando Euphorbia_heterophylla VERSUS beta-ocimene...\n",
      "Rodando Euphorbia_heterophylla VERSUS eugenol...\n",
      "Rodando Euphorbia_heterophylla VERSUS alpha-humulene...\n",
      "Rodando Euphorbia_heterophylla VERSUS strigol...\n",
      "Rodando Euphorbia_heterophylla VERSUS beta-phellandrene...\n",
      "Rodando Euphorbia_heterophylla VERSUS gamma-terpinene...\n",
      "Rodando Euphorbia_heterophylla VERSUS beta-bisabolene...\n",
      "Rodando Euphorbia_heterophylla VERSUS alpha-pinene...\n",
      "Rodando Euphorbia_heterophylla VERSUS 1-8-cineole...\n",
      "Rodando Euphorbia_heterophylla VERSUS terpinolene...\n",
      "Rodando Euphorbia_heterophylla VERSUS dimboa...\n",
      "Rodando Euphorbia_heterophylla VERSUS 8-cadinene...\n",
      "Rodando Euphorbia_heterophylla VERSUS myrcene...\n",
      "Rodando Euphorbia_heterophylla VERSUS luteolin...\n",
      "Rodando Euphorbia_heterophylla VERSUS methyl_jasmonate...\n",
      "Rodando Euphorbia_heterophylla VERSUS hexenal...\n",
      "Rodando Euphorbia_heterophylla VERSUS beta-caryophyllene...\n",
      "Rodando Euphorbia_heterophylla VERSUS tricine...\n",
      "Rodando Euphorbia_heterophylla VERSUS jasmonic_acid...\n",
      "Rodando Euphorbia_heterophylla VERSUS indole...\n",
      "Rodando Euphorbia_heterophylla VERSUS alpha-terpinene...\n",
      "Rodando Emilia_sonchifolia VERSUS ethylene...\n",
      "Rodando Emilia_sonchifolia VERSUS bicylogermacrene...\n",
      "Rodando Emilia_sonchifolia VERSUS E-beta-ocimene...\n",
      "Rodando Emilia_sonchifolia VERSUS beta-ocimene...\n",
      "Rodando Emilia_sonchifolia VERSUS eugenol...\n",
      "Rodando Emilia_sonchifolia VERSUS alpha-humulene...\n",
      "Rodando Emilia_sonchifolia VERSUS strigol...\n",
      "Rodando Emilia_sonchifolia VERSUS beta-phellandrene...\n",
      "Rodando Emilia_sonchifolia VERSUS gamma-terpinene...\n",
      "Rodando Emilia_sonchifolia VERSUS beta-bisabolene...\n",
      "Rodando Emilia_sonchifolia VERSUS alpha-pinene...\n",
      "Rodando Emilia_sonchifolia VERSUS 1-8-cineole...\n",
      "Rodando Emilia_sonchifolia VERSUS terpinolene...\n",
      "Rodando Emilia_sonchifolia VERSUS dimboa...\n",
      "Rodando Emilia_sonchifolia VERSUS 8-cadinene...\n",
      "Rodando Emilia_sonchifolia VERSUS myrcene...\n",
      "Rodando Emilia_sonchifolia VERSUS luteolin...\n",
      "Rodando Emilia_sonchifolia VERSUS methyl_jasmonate...\n",
      "Rodando Emilia_sonchifolia VERSUS hexenal...\n",
      "Rodando Emilia_sonchifolia VERSUS beta-caryophyllene...\n",
      "Rodando Emilia_sonchifolia VERSUS tricine...\n",
      "Rodando Emilia_sonchifolia VERSUS jasmonic_acid...\n",
      "Rodando Emilia_sonchifolia VERSUS indole...\n",
      "Rodando Emilia_sonchifolia VERSUS alpha-terpinene...\n",
      "Rodando Desmodium_tortuosum VERSUS ethylene...\n",
      "Rodando Desmodium_tortuosum VERSUS bicylogermacrene...\n",
      "Rodando Desmodium_tortuosum VERSUS E-beta-ocimene...\n",
      "Rodando Desmodium_tortuosum VERSUS beta-ocimene...\n",
      "Rodando Desmodium_tortuosum VERSUS eugenol...\n",
      "Rodando Desmodium_tortuosum VERSUS alpha-humulene...\n",
      "Rodando Desmodium_tortuosum VERSUS strigol...\n",
      "Rodando Desmodium_tortuosum VERSUS beta-phellandrene...\n",
      "Rodando Desmodium_tortuosum VERSUS gamma-terpinene...\n",
      "Rodando Desmodium_tortuosum VERSUS beta-bisabolene...\n",
      "Rodando Desmodium_tortuosum VERSUS alpha-pinene...\n",
      "Rodando Desmodium_tortuosum VERSUS 1-8-cineole...\n",
      "Rodando Desmodium_tortuosum VERSUS terpinolene...\n",
      "Rodando Desmodium_tortuosum VERSUS dimboa...\n",
      "Rodando Desmodium_tortuosum VERSUS 8-cadinene...\n",
      "Rodando Desmodium_tortuosum VERSUS myrcene...\n",
      "Rodando Desmodium_tortuosum VERSUS luteolin...\n",
      "Rodando Desmodium_tortuosum VERSUS methyl_jasmonate...\n",
      "Rodando Desmodium_tortuosum VERSUS hexenal...\n",
      "Rodando Desmodium_tortuosum VERSUS beta-caryophyllene...\n",
      "Rodando Desmodium_tortuosum VERSUS tricine...\n",
      "Rodando Desmodium_tortuosum VERSUS jasmonic_acid...\n",
      "Rodando Desmodium_tortuosum VERSUS indole...\n",
      "Rodando Desmodium_tortuosum VERSUS alpha-terpinene...\n",
      "Rodando Sida_rhombifolia VERSUS ethylene...\n",
      "Rodando Sida_rhombifolia VERSUS bicylogermacrene...\n",
      "Rodando Sida_rhombifolia VERSUS E-beta-ocimene...\n",
      "Rodando Sida_rhombifolia VERSUS beta-ocimene...\n",
      "Rodando Sida_rhombifolia VERSUS eugenol...\n",
      "Rodando Sida_rhombifolia VERSUS alpha-humulene...\n",
      "Rodando Sida_rhombifolia VERSUS strigol...\n",
      "Rodando Sida_rhombifolia VERSUS beta-phellandrene...\n",
      "Rodando Sida_rhombifolia VERSUS gamma-terpinene...\n",
      "Rodando Sida_rhombifolia VERSUS beta-bisabolene...\n",
      "Rodando Sida_rhombifolia VERSUS alpha-pinene...\n",
      "Rodando Sida_rhombifolia VERSUS 1-8-cineole...\n",
      "Rodando Sida_rhombifolia VERSUS terpinolene...\n",
      "Rodando Sida_rhombifolia VERSUS dimboa...\n",
      "Rodando Sida_rhombifolia VERSUS 8-cadinene...\n",
      "Rodando Sida_rhombifolia VERSUS myrcene...\n",
      "Rodando Sida_rhombifolia VERSUS luteolin...\n",
      "Rodando Sida_rhombifolia VERSUS methyl_jasmonate...\n",
      "Rodando Sida_rhombifolia VERSUS hexenal...\n",
      "Rodando Sida_rhombifolia VERSUS beta-caryophyllene...\n",
      "Rodando Sida_rhombifolia VERSUS tricine...\n",
      "Rodando Sida_rhombifolia VERSUS jasmonic_acid...\n",
      "Rodando Sida_rhombifolia VERSUS indole...\n",
      "Rodando Sida_rhombifolia VERSUS alpha-terpinene...\n",
      "Rodando Siegesbeckia_orientalis VERSUS ethylene...\n",
      "Rodando Siegesbeckia_orientalis VERSUS bicylogermacrene...\n",
      "Rodando Siegesbeckia_orientalis VERSUS E-beta-ocimene...\n",
      "Rodando Siegesbeckia_orientalis VERSUS beta-ocimene...\n",
      "Rodando Siegesbeckia_orientalis VERSUS eugenol...\n",
      "Rodando Siegesbeckia_orientalis VERSUS alpha-humulene...\n",
      "Rodando Siegesbeckia_orientalis VERSUS strigol...\n",
      "Rodando Siegesbeckia_orientalis VERSUS beta-phellandrene...\n",
      "Rodando Siegesbeckia_orientalis VERSUS gamma-terpinene...\n",
      "Rodando Siegesbeckia_orientalis VERSUS beta-bisabolene...\n",
      "Rodando Siegesbeckia_orientalis VERSUS alpha-pinene...\n",
      "Rodando Siegesbeckia_orientalis VERSUS 1-8-cineole...\n",
      "Rodando Siegesbeckia_orientalis VERSUS terpinolene...\n",
      "Rodando Siegesbeckia_orientalis VERSUS dimboa...\n",
      "Rodando Siegesbeckia_orientalis VERSUS 8-cadinene...\n",
      "Rodando Siegesbeckia_orientalis VERSUS myrcene...\n",
      "Rodando Siegesbeckia_orientalis VERSUS luteolin...\n",
      "Rodando Siegesbeckia_orientalis VERSUS methyl_jasmonate...\n",
      "Rodando Siegesbeckia_orientalis VERSUS hexenal...\n",
      "Rodando Siegesbeckia_orientalis VERSUS beta-caryophyllene...\n",
      "Rodando Siegesbeckia_orientalis VERSUS tricine...\n",
      "Rodando Siegesbeckia_orientalis VERSUS jasmonic_acid...\n",
      "Rodando Siegesbeckia_orientalis VERSUS indole...\n",
      "Rodando Siegesbeckia_orientalis VERSUS alpha-terpinene...\n",
      "Rodando Spermacoce_latifolia VERSUS ethylene...\n",
      "Rodando Spermacoce_latifolia VERSUS bicylogermacrene...\n",
      "Rodando Spermacoce_latifolia VERSUS E-beta-ocimene...\n",
      "Rodando Spermacoce_latifolia VERSUS beta-ocimene...\n",
      "Rodando Spermacoce_latifolia VERSUS eugenol...\n",
      "Rodando Spermacoce_latifolia VERSUS alpha-humulene...\n",
      "Rodando Spermacoce_latifolia VERSUS strigol...\n",
      "Rodando Spermacoce_latifolia VERSUS beta-phellandrene...\n",
      "Rodando Spermacoce_latifolia VERSUS gamma-terpinene...\n",
      "Rodando Spermacoce_latifolia VERSUS beta-bisabolene...\n",
      "Rodando Spermacoce_latifolia VERSUS alpha-pinene...\n",
      "Rodando Spermacoce_latifolia VERSUS 1-8-cineole...\n",
      "Rodando Spermacoce_latifolia VERSUS terpinolene...\n",
      "Rodando Spermacoce_latifolia VERSUS dimboa...\n",
      "Rodando Spermacoce_latifolia VERSUS 8-cadinene...\n",
      "Rodando Spermacoce_latifolia VERSUS myrcene...\n",
      "Rodando Spermacoce_latifolia VERSUS luteolin...\n",
      "Rodando Spermacoce_latifolia VERSUS methyl_jasmonate...\n",
      "Rodando Spermacoce_latifolia VERSUS hexenal...\n",
      "Rodando Spermacoce_latifolia VERSUS beta-caryophyllene...\n",
      "Rodando Spermacoce_latifolia VERSUS tricine...\n",
      "Rodando Spermacoce_latifolia VERSUS jasmonic_acid...\n",
      "Rodando Spermacoce_latifolia VERSUS indole...\n",
      "Rodando Spermacoce_latifolia VERSUS alpha-terpinene...\n",
      "Rodando Senecio_brasiliensis VERSUS ethylene...\n",
      "Rodando Senecio_brasiliensis VERSUS bicylogermacrene...\n",
      "Rodando Senecio_brasiliensis VERSUS E-beta-ocimene...\n",
      "Rodando Senecio_brasiliensis VERSUS beta-ocimene...\n",
      "Rodando Senecio_brasiliensis VERSUS eugenol...\n",
      "Rodando Senecio_brasiliensis VERSUS alpha-humulene...\n",
      "Rodando Senecio_brasiliensis VERSUS strigol...\n",
      "Rodando Senecio_brasiliensis VERSUS beta-phellandrene...\n",
      "Rodando Senecio_brasiliensis VERSUS gamma-terpinene...\n",
      "Rodando Senecio_brasiliensis VERSUS beta-bisabolene...\n",
      "Rodando Senecio_brasiliensis VERSUS alpha-pinene...\n",
      "Rodando Senecio_brasiliensis VERSUS 1-8-cineole...\n",
      "Rodando Senecio_brasiliensis VERSUS terpinolene...\n",
      "Rodando Senecio_brasiliensis VERSUS dimboa...\n",
      "Rodando Senecio_brasiliensis VERSUS 8-cadinene...\n",
      "Rodando Senecio_brasiliensis VERSUS myrcene...\n",
      "Rodando Senecio_brasiliensis VERSUS luteolin...\n",
      "Rodando Senecio_brasiliensis VERSUS methyl_jasmonate...\n",
      "Rodando Senecio_brasiliensis VERSUS hexenal...\n",
      "Rodando Senecio_brasiliensis VERSUS beta-caryophyllene...\n",
      "Rodando Senecio_brasiliensis VERSUS tricine...\n",
      "Rodando Senecio_brasiliensis VERSUS jasmonic_acid...\n"
     ]
    },
    {
     "name": "stdout",
     "output_type": "stream",
     "text": [
      "Rodando Senecio_brasiliensis VERSUS indole...\n",
      "Rodando Senecio_brasiliensis VERSUS alpha-terpinene...\n",
      "Rodando Melampodium_perfoliatum VERSUS ethylene...\n",
      "Rodando Melampodium_perfoliatum VERSUS bicylogermacrene...\n",
      "Rodando Melampodium_perfoliatum VERSUS E-beta-ocimene...\n",
      "Rodando Melampodium_perfoliatum VERSUS beta-ocimene...\n",
      "Rodando Melampodium_perfoliatum VERSUS eugenol...\n",
      "Rodando Melampodium_perfoliatum VERSUS alpha-humulene...\n",
      "Rodando Melampodium_perfoliatum VERSUS strigol...\n",
      "Rodando Melampodium_perfoliatum VERSUS beta-phellandrene...\n",
      "Rodando Melampodium_perfoliatum VERSUS gamma-terpinene...\n",
      "Rodando Melampodium_perfoliatum VERSUS beta-bisabolene...\n",
      "Rodando Melampodium_perfoliatum VERSUS alpha-pinene...\n",
      "Rodando Melampodium_perfoliatum VERSUS 1-8-cineole...\n",
      "Rodando Melampodium_perfoliatum VERSUS terpinolene...\n",
      "Rodando Melampodium_perfoliatum VERSUS dimboa...\n",
      "Rodando Melampodium_perfoliatum VERSUS 8-cadinene...\n",
      "Rodando Melampodium_perfoliatum VERSUS myrcene...\n",
      "Rodando Melampodium_perfoliatum VERSUS luteolin...\n",
      "Rodando Melampodium_perfoliatum VERSUS methyl_jasmonate...\n",
      "Rodando Melampodium_perfoliatum VERSUS hexenal...\n",
      "Rodando Melampodium_perfoliatum VERSUS beta-caryophyllene...\n",
      "Rodando Melampodium_perfoliatum VERSUS tricine...\n",
      "Rodando Melampodium_perfoliatum VERSUS jasmonic_acid...\n",
      "Rodando Melampodium_perfoliatum VERSUS indole...\n",
      "Rodando Melampodium_perfoliatum VERSUS alpha-terpinene...\n",
      "Rodando Echinochloa_colonum VERSUS ethylene...\n",
      "Rodando Echinochloa_colonum VERSUS bicylogermacrene...\n",
      "Rodando Echinochloa_colonum VERSUS E-beta-ocimene...\n",
      "Rodando Echinochloa_colonum VERSUS beta-ocimene...\n",
      "Rodando Echinochloa_colonum VERSUS eugenol...\n",
      "Rodando Echinochloa_colonum VERSUS alpha-humulene...\n",
      "Rodando Echinochloa_colonum VERSUS strigol...\n",
      "Rodando Echinochloa_colonum VERSUS beta-phellandrene...\n",
      "Rodando Echinochloa_colonum VERSUS gamma-terpinene...\n",
      "Rodando Echinochloa_colonum VERSUS beta-bisabolene...\n",
      "Rodando Echinochloa_colonum VERSUS alpha-pinene...\n",
      "Rodando Echinochloa_colonum VERSUS 1-8-cineole...\n",
      "Rodando Echinochloa_colonum VERSUS terpinolene...\n",
      "Rodando Echinochloa_colonum VERSUS dimboa...\n",
      "Rodando Echinochloa_colonum VERSUS 8-cadinene...\n",
      "Rodando Echinochloa_colonum VERSUS myrcene...\n",
      "Rodando Echinochloa_colonum VERSUS luteolin...\n",
      "Rodando Echinochloa_colonum VERSUS methyl_jasmonate...\n",
      "Rodando Echinochloa_colonum VERSUS hexenal...\n",
      "Rodando Echinochloa_colonum VERSUS beta-caryophyllene...\n",
      "Rodando Echinochloa_colonum VERSUS tricine...\n",
      "Rodando Echinochloa_colonum VERSUS jasmonic_acid...\n",
      "Rodando Echinochloa_colonum VERSUS indole...\n",
      "Rodando Echinochloa_colonum VERSUS alpha-terpinene...\n",
      "Rodando Croton_glandulosus VERSUS ethylene...\n",
      "Rodando Croton_glandulosus VERSUS bicylogermacrene...\n",
      "Rodando Croton_glandulosus VERSUS E-beta-ocimene...\n",
      "Rodando Croton_glandulosus VERSUS beta-ocimene...\n",
      "Rodando Croton_glandulosus VERSUS eugenol...\n",
      "Rodando Croton_glandulosus VERSUS alpha-humulene...\n",
      "Rodando Croton_glandulosus VERSUS strigol...\n",
      "Rodando Croton_glandulosus VERSUS beta-phellandrene...\n",
      "Rodando Croton_glandulosus VERSUS gamma-terpinene...\n",
      "Rodando Croton_glandulosus VERSUS beta-bisabolene...\n",
      "Rodando Croton_glandulosus VERSUS alpha-pinene...\n",
      "Rodando Croton_glandulosus VERSUS 1-8-cineole...\n",
      "Rodando Croton_glandulosus VERSUS terpinolene...\n",
      "Rodando Croton_glandulosus VERSUS dimboa...\n",
      "Rodando Croton_glandulosus VERSUS 8-cadinene...\n",
      "Rodando Croton_glandulosus VERSUS myrcene...\n",
      "Rodando Croton_glandulosus VERSUS luteolin...\n",
      "Rodando Croton_glandulosus VERSUS methyl_jasmonate...\n",
      "Rodando Croton_glandulosus VERSUS hexenal...\n",
      "Rodando Croton_glandulosus VERSUS beta-caryophyllene...\n",
      "Rodando Croton_glandulosus VERSUS tricine...\n",
      "Rodando Croton_glandulosus VERSUS jasmonic_acid...\n",
      "Rodando Croton_glandulosus VERSUS indole...\n",
      "Rodando Croton_glandulosus VERSUS alpha-terpinene...\n",
      "Rodando Chamaesyce_hirta VERSUS ethylene...\n",
      "Rodando Chamaesyce_hirta VERSUS bicylogermacrene...\n",
      "Rodando Chamaesyce_hirta VERSUS E-beta-ocimene...\n",
      "Rodando Chamaesyce_hirta VERSUS beta-ocimene...\n",
      "Rodando Chamaesyce_hirta VERSUS eugenol...\n",
      "Rodando Chamaesyce_hirta VERSUS alpha-humulene...\n",
      "Rodando Chamaesyce_hirta VERSUS strigol...\n",
      "Rodando Chamaesyce_hirta VERSUS beta-phellandrene...\n",
      "Rodando Chamaesyce_hirta VERSUS gamma-terpinene...\n",
      "Rodando Chamaesyce_hirta VERSUS beta-bisabolene...\n",
      "Rodando Chamaesyce_hirta VERSUS alpha-pinene...\n",
      "Rodando Chamaesyce_hirta VERSUS 1-8-cineole...\n",
      "Rodando Chamaesyce_hirta VERSUS terpinolene...\n",
      "Rodando Chamaesyce_hirta VERSUS dimboa...\n",
      "Rodando Chamaesyce_hirta VERSUS 8-cadinene...\n",
      "Rodando Chamaesyce_hirta VERSUS myrcene...\n",
      "Rodando Chamaesyce_hirta VERSUS luteolin...\n",
      "Rodando Chamaesyce_hirta VERSUS methyl_jasmonate...\n",
      "Rodando Chamaesyce_hirta VERSUS hexenal...\n",
      "Rodando Chamaesyce_hirta VERSUS beta-caryophyllene...\n",
      "Rodando Chamaesyce_hirta VERSUS tricine...\n",
      "Rodando Chamaesyce_hirta VERSUS jasmonic_acid...\n",
      "Rodando Chamaesyce_hirta VERSUS indole...\n",
      "Rodando Chamaesyce_hirta VERSUS alpha-terpinene...\n",
      "Rodando Leonurus_sibiricus VERSUS ethylene...\n",
      "Rodando Leonurus_sibiricus VERSUS bicylogermacrene...\n",
      "Rodando Leonurus_sibiricus VERSUS E-beta-ocimene...\n",
      "Rodando Leonurus_sibiricus VERSUS beta-ocimene...\n",
      "Rodando Leonurus_sibiricus VERSUS eugenol...\n",
      "Rodando Leonurus_sibiricus VERSUS alpha-humulene...\n",
      "Rodando Leonurus_sibiricus VERSUS strigol...\n",
      "Rodando Leonurus_sibiricus VERSUS beta-phellandrene...\n",
      "Rodando Leonurus_sibiricus VERSUS gamma-terpinene...\n",
      "Rodando Leonurus_sibiricus VERSUS beta-bisabolene...\n",
      "Rodando Leonurus_sibiricus VERSUS alpha-pinene...\n",
      "Rodando Leonurus_sibiricus VERSUS 1-8-cineole...\n",
      "Rodando Leonurus_sibiricus VERSUS terpinolene...\n",
      "Rodando Leonurus_sibiricus VERSUS dimboa...\n",
      "Rodando Leonurus_sibiricus VERSUS 8-cadinene...\n",
      "Rodando Leonurus_sibiricus VERSUS myrcene...\n",
      "Rodando Leonurus_sibiricus VERSUS luteolin...\n",
      "Rodando Leonurus_sibiricus VERSUS methyl_jasmonate...\n",
      "Rodando Leonurus_sibiricus VERSUS hexenal...\n",
      "Rodando Leonurus_sibiricus VERSUS beta-caryophyllene...\n",
      "Rodando Leonurus_sibiricus VERSUS tricine...\n",
      "Rodando Leonurus_sibiricus VERSUS jasmonic_acid...\n",
      "Rodando Leonurus_sibiricus VERSUS indole...\n",
      "Rodando Leonurus_sibiricus VERSUS alpha-terpinene...\n",
      "Rodando Lolium_multiflorum VERSUS ethylene...\n",
      "Rodando Lolium_multiflorum VERSUS bicylogermacrene...\n",
      "Rodando Lolium_multiflorum VERSUS E-beta-ocimene...\n",
      "Rodando Lolium_multiflorum VERSUS beta-ocimene...\n",
      "Rodando Lolium_multiflorum VERSUS eugenol...\n",
      "Rodando Lolium_multiflorum VERSUS alpha-humulene...\n",
      "Rodando Lolium_multiflorum VERSUS strigol...\n",
      "Rodando Lolium_multiflorum VERSUS beta-phellandrene...\n",
      "Rodando Lolium_multiflorum VERSUS gamma-terpinene...\n",
      "Rodando Lolium_multiflorum VERSUS beta-bisabolene...\n",
      "Rodando Lolium_multiflorum VERSUS alpha-pinene...\n",
      "Rodando Lolium_multiflorum VERSUS 1-8-cineole...\n",
      "Rodando Lolium_multiflorum VERSUS terpinolene...\n",
      "Rodando Lolium_multiflorum VERSUS dimboa...\n",
      "Rodando Lolium_multiflorum VERSUS 8-cadinene...\n",
      "Rodando Lolium_multiflorum VERSUS myrcene...\n",
      "Rodando Lolium_multiflorum VERSUS luteolin...\n",
      "Rodando Lolium_multiflorum VERSUS methyl_jasmonate...\n",
      "Rodando Lolium_multiflorum VERSUS hexenal...\n",
      "Rodando Lolium_multiflorum VERSUS beta-caryophyllene...\n",
      "Rodando Lolium_multiflorum VERSUS tricine...\n",
      "Rodando Lolium_multiflorum VERSUS jasmonic_acid...\n",
      "Rodando Lolium_multiflorum VERSUS indole...\n",
      "Rodando Lolium_multiflorum VERSUS alpha-terpinene...\n",
      "Rodando Solanum_americanum VERSUS ethylene...\n",
      "Rodando Solanum_americanum VERSUS bicylogermacrene...\n",
      "Rodando Solanum_americanum VERSUS E-beta-ocimene...\n",
      "Rodando Solanum_americanum VERSUS beta-ocimene...\n",
      "Rodando Solanum_americanum VERSUS eugenol...\n",
      "Rodando Solanum_americanum VERSUS alpha-humulene...\n",
      "Rodando Solanum_americanum VERSUS strigol...\n",
      "Rodando Solanum_americanum VERSUS beta-phellandrene...\n",
      "Rodando Solanum_americanum VERSUS gamma-terpinene...\n",
      "Rodando Solanum_americanum VERSUS beta-bisabolene...\n",
      "Rodando Solanum_americanum VERSUS alpha-pinene...\n",
      "Rodando Solanum_americanum VERSUS 1-8-cineole...\n",
      "Rodando Solanum_americanum VERSUS terpinolene...\n",
      "Rodando Solanum_americanum VERSUS dimboa...\n",
      "Rodando Solanum_americanum VERSUS 8-cadinene...\n",
      "Rodando Solanum_americanum VERSUS myrcene...\n",
      "Rodando Solanum_americanum VERSUS luteolin...\n",
      "Rodando Solanum_americanum VERSUS methyl_jasmonate...\n",
      "Rodando Solanum_americanum VERSUS hexenal...\n"
     ]
    },
    {
     "name": "stdout",
     "output_type": "stream",
     "text": [
      "Rodando Solanum_americanum VERSUS beta-caryophyllene...\n",
      "Rodando Solanum_americanum VERSUS tricine...\n",
      "Rodando Solanum_americanum VERSUS jasmonic_acid...\n",
      "Rodando Solanum_americanum VERSUS indole...\n",
      "Rodando Solanum_americanum VERSUS alpha-terpinene...\n",
      "Rodando Hyptys_suaveolens VERSUS ethylene...\n",
      "Rodando Hyptys_suaveolens VERSUS bicylogermacrene...\n",
      "Rodando Hyptys_suaveolens VERSUS E-beta-ocimene...\n",
      "Rodando Hyptys_suaveolens VERSUS beta-ocimene...\n",
      "Rodando Hyptys_suaveolens VERSUS eugenol...\n",
      "Rodando Hyptys_suaveolens VERSUS alpha-humulene...\n",
      "Rodando Hyptys_suaveolens VERSUS strigol...\n",
      "Rodando Hyptys_suaveolens VERSUS beta-phellandrene...\n",
      "Rodando Hyptys_suaveolens VERSUS gamma-terpinene...\n",
      "Rodando Hyptys_suaveolens VERSUS beta-bisabolene...\n",
      "Rodando Hyptys_suaveolens VERSUS alpha-pinene...\n",
      "Rodando Hyptys_suaveolens VERSUS 1-8-cineole...\n",
      "Rodando Hyptys_suaveolens VERSUS terpinolene...\n",
      "Rodando Hyptys_suaveolens VERSUS dimboa...\n",
      "Rodando Hyptys_suaveolens VERSUS 8-cadinene...\n",
      "Rodando Hyptys_suaveolens VERSUS myrcene...\n",
      "Rodando Hyptys_suaveolens VERSUS luteolin...\n",
      "Rodando Hyptys_suaveolens VERSUS methyl_jasmonate...\n",
      "Rodando Hyptys_suaveolens VERSUS hexenal...\n",
      "Rodando Hyptys_suaveolens VERSUS beta-caryophyllene...\n",
      "Rodando Hyptys_suaveolens VERSUS tricine...\n",
      "Rodando Hyptys_suaveolens VERSUS jasmonic_acid...\n",
      "Rodando Hyptys_suaveolens VERSUS indole...\n",
      "Rodando Hyptys_suaveolens VERSUS alpha-terpinene...\n",
      "Rodando Parthenium_hysterophorus VERSUS ethylene...\n",
      "Rodando Parthenium_hysterophorus VERSUS bicylogermacrene...\n",
      "Rodando Parthenium_hysterophorus VERSUS E-beta-ocimene...\n",
      "Rodando Parthenium_hysterophorus VERSUS beta-ocimene...\n",
      "Rodando Parthenium_hysterophorus VERSUS eugenol...\n",
      "Rodando Parthenium_hysterophorus VERSUS alpha-humulene...\n",
      "Rodando Parthenium_hysterophorus VERSUS strigol...\n",
      "Rodando Parthenium_hysterophorus VERSUS beta-phellandrene...\n",
      "Rodando Parthenium_hysterophorus VERSUS gamma-terpinene...\n",
      "Rodando Parthenium_hysterophorus VERSUS beta-bisabolene...\n",
      "Rodando Parthenium_hysterophorus VERSUS alpha-pinene...\n",
      "Rodando Parthenium_hysterophorus VERSUS 1-8-cineole...\n",
      "Rodando Parthenium_hysterophorus VERSUS terpinolene...\n",
      "Rodando Parthenium_hysterophorus VERSUS dimboa...\n",
      "Rodando Parthenium_hysterophorus VERSUS 8-cadinene...\n",
      "Rodando Parthenium_hysterophorus VERSUS myrcene...\n",
      "Rodando Parthenium_hysterophorus VERSUS luteolin...\n",
      "Rodando Parthenium_hysterophorus VERSUS methyl_jasmonate...\n",
      "Rodando Parthenium_hysterophorus VERSUS hexenal...\n",
      "Rodando Parthenium_hysterophorus VERSUS beta-caryophyllene...\n",
      "Rodando Parthenium_hysterophorus VERSUS tricine...\n",
      "Rodando Parthenium_hysterophorus VERSUS jasmonic_acid...\n",
      "Rodando Parthenium_hysterophorus VERSUS indole...\n",
      "Rodando Parthenium_hysterophorus VERSUS alpha-terpinene...\n",
      "Rodando Amaranthus_deflexus VERSUS ethylene...\n",
      "Rodando Amaranthus_deflexus VERSUS bicylogermacrene...\n",
      "Rodando Amaranthus_deflexus VERSUS E-beta-ocimene...\n",
      "Rodando Amaranthus_deflexus VERSUS beta-ocimene...\n",
      "Rodando Amaranthus_deflexus VERSUS eugenol...\n",
      "Rodando Amaranthus_deflexus VERSUS alpha-humulene...\n",
      "Rodando Amaranthus_deflexus VERSUS strigol...\n",
      "Rodando Amaranthus_deflexus VERSUS beta-phellandrene...\n",
      "Rodando Amaranthus_deflexus VERSUS gamma-terpinene...\n",
      "Rodando Amaranthus_deflexus VERSUS beta-bisabolene...\n",
      "Rodando Amaranthus_deflexus VERSUS alpha-pinene...\n",
      "Rodando Amaranthus_deflexus VERSUS 1-8-cineole...\n",
      "Rodando Amaranthus_deflexus VERSUS terpinolene...\n",
      "Rodando Amaranthus_deflexus VERSUS dimboa...\n",
      "Rodando Amaranthus_deflexus VERSUS 8-cadinene...\n",
      "Rodando Amaranthus_deflexus VERSUS myrcene...\n",
      "Rodando Amaranthus_deflexus VERSUS luteolin...\n",
      "Rodando Amaranthus_deflexus VERSUS methyl_jasmonate...\n",
      "Rodando Amaranthus_deflexus VERSUS hexenal...\n",
      "Rodando Amaranthus_deflexus VERSUS beta-caryophyllene...\n",
      "Rodando Amaranthus_deflexus VERSUS tricine...\n",
      "Rodando Amaranthus_deflexus VERSUS jasmonic_acid...\n",
      "Rodando Amaranthus_deflexus VERSUS indole...\n",
      "Rodando Amaranthus_deflexus VERSUS alpha-terpinene...\n",
      "Rodando Brachiaria_plantaginea VERSUS ethylene...\n",
      "Rodando Brachiaria_plantaginea VERSUS bicylogermacrene...\n",
      "Rodando Brachiaria_plantaginea VERSUS E-beta-ocimene...\n",
      "Rodando Brachiaria_plantaginea VERSUS beta-ocimene...\n",
      "Rodando Brachiaria_plantaginea VERSUS eugenol...\n",
      "Rodando Brachiaria_plantaginea VERSUS alpha-humulene...\n",
      "Rodando Brachiaria_plantaginea VERSUS strigol...\n",
      "Rodando Brachiaria_plantaginea VERSUS beta-phellandrene...\n",
      "Rodando Brachiaria_plantaginea VERSUS gamma-terpinene...\n",
      "Rodando Brachiaria_plantaginea VERSUS beta-bisabolene...\n",
      "Rodando Brachiaria_plantaginea VERSUS alpha-pinene...\n",
      "Rodando Brachiaria_plantaginea VERSUS 1-8-cineole...\n",
      "Rodando Brachiaria_plantaginea VERSUS terpinolene...\n",
      "Rodando Brachiaria_plantaginea VERSUS dimboa...\n",
      "Rodando Brachiaria_plantaginea VERSUS 8-cadinene...\n",
      "Rodando Brachiaria_plantaginea VERSUS myrcene...\n",
      "Rodando Brachiaria_plantaginea VERSUS luteolin...\n",
      "Rodando Brachiaria_plantaginea VERSUS methyl_jasmonate...\n",
      "Rodando Brachiaria_plantaginea VERSUS hexenal...\n",
      "Rodando Brachiaria_plantaginea VERSUS beta-caryophyllene...\n",
      "Rodando Brachiaria_plantaginea VERSUS tricine...\n",
      "Rodando Brachiaria_plantaginea VERSUS jasmonic_acid...\n",
      "Rodando Brachiaria_plantaginea VERSUS indole...\n",
      "Rodando Brachiaria_plantaginea VERSUS alpha-terpinene...\n",
      "Rodando Sonchus_oleraceus VERSUS ethylene...\n",
      "Rodando Sonchus_oleraceus VERSUS bicylogermacrene...\n",
      "Rodando Sonchus_oleraceus VERSUS E-beta-ocimene...\n",
      "Rodando Sonchus_oleraceus VERSUS beta-ocimene...\n",
      "Rodando Sonchus_oleraceus VERSUS eugenol...\n",
      "Rodando Sonchus_oleraceus VERSUS alpha-humulene...\n",
      "Rodando Sonchus_oleraceus VERSUS strigol...\n",
      "Rodando Sonchus_oleraceus VERSUS beta-phellandrene...\n",
      "Rodando Sonchus_oleraceus VERSUS gamma-terpinene...\n",
      "Rodando Sonchus_oleraceus VERSUS beta-bisabolene...\n",
      "Rodando Sonchus_oleraceus VERSUS alpha-pinene...\n",
      "Rodando Sonchus_oleraceus VERSUS 1-8-cineole...\n",
      "Rodando Sonchus_oleraceus VERSUS terpinolene...\n",
      "Rodando Sonchus_oleraceus VERSUS dimboa...\n",
      "Rodando Sonchus_oleraceus VERSUS 8-cadinene...\n",
      "Rodando Sonchus_oleraceus VERSUS myrcene...\n",
      "Rodando Sonchus_oleraceus VERSUS luteolin...\n",
      "Rodando Sonchus_oleraceus VERSUS methyl_jasmonate...\n",
      "Rodando Sonchus_oleraceus VERSUS hexenal...\n",
      "Rodando Sonchus_oleraceus VERSUS beta-caryophyllene...\n",
      "Rodando Sonchus_oleraceus VERSUS tricine...\n",
      "Rodando Sonchus_oleraceus VERSUS jasmonic_acid...\n",
      "Rodando Sonchus_oleraceus VERSUS indole...\n",
      "Rodando Sonchus_oleraceus VERSUS alpha-terpinene...\n",
      "Rodando Porophyllum_ruderale VERSUS ethylene...\n",
      "Rodando Porophyllum_ruderale VERSUS bicylogermacrene...\n",
      "Rodando Porophyllum_ruderale VERSUS E-beta-ocimene...\n",
      "Rodando Porophyllum_ruderale VERSUS beta-ocimene...\n",
      "Rodando Porophyllum_ruderale VERSUS eugenol...\n",
      "Rodando Porophyllum_ruderale VERSUS alpha-humulene...\n",
      "Rodando Porophyllum_ruderale VERSUS strigol...\n",
      "Rodando Porophyllum_ruderale VERSUS beta-phellandrene...\n",
      "Rodando Porophyllum_ruderale VERSUS gamma-terpinene...\n",
      "Rodando Porophyllum_ruderale VERSUS beta-bisabolene...\n",
      "Rodando Porophyllum_ruderale VERSUS alpha-pinene...\n",
      "Rodando Porophyllum_ruderale VERSUS 1-8-cineole...\n",
      "Rodando Porophyllum_ruderale VERSUS terpinolene...\n",
      "Rodando Porophyllum_ruderale VERSUS dimboa...\n",
      "Rodando Porophyllum_ruderale VERSUS 8-cadinene...\n",
      "Rodando Porophyllum_ruderale VERSUS myrcene...\n",
      "Rodando Porophyllum_ruderale VERSUS luteolin...\n",
      "Rodando Porophyllum_ruderale VERSUS methyl_jasmonate...\n",
      "Rodando Porophyllum_ruderale VERSUS hexenal...\n",
      "Rodando Porophyllum_ruderale VERSUS beta-caryophyllene...\n",
      "Rodando Porophyllum_ruderale VERSUS tricine...\n",
      "Rodando Porophyllum_ruderale VERSUS jasmonic_acid...\n",
      "Rodando Porophyllum_ruderale VERSUS indole...\n",
      "Rodando Porophyllum_ruderale VERSUS alpha-terpinene...\n",
      "Rodando Bidens_spp. VERSUS ethylene...\n",
      "Rodando Bidens_spp. VERSUS bicylogermacrene...\n",
      "Rodando Bidens_spp. VERSUS E-beta-ocimene...\n",
      "Rodando Bidens_spp. VERSUS beta-ocimene...\n",
      "Rodando Bidens_spp. VERSUS eugenol...\n",
      "Rodando Bidens_spp. VERSUS alpha-humulene...\n",
      "Rodando Bidens_spp. VERSUS strigol...\n",
      "Rodando Bidens_spp. VERSUS beta-phellandrene...\n",
      "Rodando Bidens_spp. VERSUS gamma-terpinene...\n",
      "Rodando Bidens_spp. VERSUS beta-bisabolene...\n",
      "Rodando Bidens_spp. VERSUS alpha-pinene...\n",
      "Rodando Bidens_spp. VERSUS 1-8-cineole...\n",
      "Rodando Bidens_spp. VERSUS terpinolene...\n",
      "Rodando Bidens_spp. VERSUS dimboa...\n",
      "Rodando Bidens_spp. VERSUS 8-cadinene...\n"
     ]
    },
    {
     "name": "stdout",
     "output_type": "stream",
     "text": [
      "Rodando Bidens_spp. VERSUS myrcene...\n",
      "Rodando Bidens_spp. VERSUS luteolin...\n",
      "Rodando Bidens_spp. VERSUS methyl_jasmonate...\n",
      "Rodando Bidens_spp. VERSUS hexenal...\n",
      "Rodando Bidens_spp. VERSUS beta-caryophyllene...\n",
      "Rodando Bidens_spp. VERSUS tricine...\n",
      "Rodando Bidens_spp. VERSUS jasmonic_acid...\n",
      "Rodando Bidens_spp. VERSUS indole...\n",
      "Rodando Bidens_spp. VERSUS alpha-terpinene...\n",
      "Rodando Leonotis_nepetifolia VERSUS ethylene...\n",
      "Rodando Leonotis_nepetifolia VERSUS bicylogermacrene...\n",
      "Rodando Leonotis_nepetifolia VERSUS E-beta-ocimene...\n",
      "Rodando Leonotis_nepetifolia VERSUS beta-ocimene...\n",
      "Rodando Leonotis_nepetifolia VERSUS eugenol...\n",
      "Rodando Leonotis_nepetifolia VERSUS alpha-humulene...\n",
      "Rodando Leonotis_nepetifolia VERSUS strigol...\n",
      "Rodando Leonotis_nepetifolia VERSUS beta-phellandrene...\n",
      "Rodando Leonotis_nepetifolia VERSUS gamma-terpinene...\n",
      "Rodando Leonotis_nepetifolia VERSUS beta-bisabolene...\n",
      "Rodando Leonotis_nepetifolia VERSUS alpha-pinene...\n",
      "Rodando Leonotis_nepetifolia VERSUS 1-8-cineole...\n",
      "Rodando Leonotis_nepetifolia VERSUS terpinolene...\n",
      "Rodando Leonotis_nepetifolia VERSUS dimboa...\n",
      "Rodando Leonotis_nepetifolia VERSUS 8-cadinene...\n",
      "Rodando Leonotis_nepetifolia VERSUS myrcene...\n",
      "Rodando Leonotis_nepetifolia VERSUS luteolin...\n",
      "Rodando Leonotis_nepetifolia VERSUS methyl_jasmonate...\n",
      "Rodando Leonotis_nepetifolia VERSUS hexenal...\n",
      "Rodando Leonotis_nepetifolia VERSUS beta-caryophyllene...\n",
      "Rodando Leonotis_nepetifolia VERSUS tricine...\n",
      "Rodando Leonotis_nepetifolia VERSUS jasmonic_acid...\n",
      "Rodando Leonotis_nepetifolia VERSUS indole...\n",
      "Rodando Leonotis_nepetifolia VERSUS alpha-terpinene...\n",
      "Rodando Richardia_brasiliensis VERSUS ethylene...\n",
      "Rodando Richardia_brasiliensis VERSUS bicylogermacrene...\n",
      "Rodando Richardia_brasiliensis VERSUS E-beta-ocimene...\n",
      "Rodando Richardia_brasiliensis VERSUS beta-ocimene...\n",
      "Rodando Richardia_brasiliensis VERSUS eugenol...\n",
      "Rodando Richardia_brasiliensis VERSUS alpha-humulene...\n",
      "Rodando Richardia_brasiliensis VERSUS strigol...\n",
      "Rodando Richardia_brasiliensis VERSUS beta-phellandrene...\n",
      "Rodando Richardia_brasiliensis VERSUS gamma-terpinene...\n",
      "Rodando Richardia_brasiliensis VERSUS beta-bisabolene...\n",
      "Rodando Richardia_brasiliensis VERSUS alpha-pinene...\n",
      "Rodando Richardia_brasiliensis VERSUS 1-8-cineole...\n",
      "Rodando Richardia_brasiliensis VERSUS terpinolene...\n",
      "Rodando Richardia_brasiliensis VERSUS dimboa...\n",
      "Rodando Richardia_brasiliensis VERSUS 8-cadinene...\n",
      "Rodando Richardia_brasiliensis VERSUS myrcene...\n",
      "Rodando Richardia_brasiliensis VERSUS luteolin...\n",
      "Rodando Richardia_brasiliensis VERSUS methyl_jasmonate...\n",
      "Rodando Richardia_brasiliensis VERSUS hexenal...\n",
      "Rodando Richardia_brasiliensis VERSUS beta-caryophyllene...\n",
      "Rodando Richardia_brasiliensis VERSUS tricine...\n",
      "Rodando Richardia_brasiliensis VERSUS jasmonic_acid...\n",
      "Rodando Richardia_brasiliensis VERSUS indole...\n",
      "Rodando Richardia_brasiliensis VERSUS alpha-terpinene...\n",
      "Rodando Cardiospermum_halicacabum VERSUS ethylene...\n",
      "Rodando Cardiospermum_halicacabum VERSUS bicylogermacrene...\n",
      "Rodando Cardiospermum_halicacabum VERSUS E-beta-ocimene...\n",
      "Rodando Cardiospermum_halicacabum VERSUS beta-ocimene...\n",
      "Rodando Cardiospermum_halicacabum VERSUS eugenol...\n",
      "Rodando Cardiospermum_halicacabum VERSUS alpha-humulene...\n",
      "Rodando Cardiospermum_halicacabum VERSUS strigol...\n",
      "Rodando Cardiospermum_halicacabum VERSUS beta-phellandrene...\n",
      "Rodando Cardiospermum_halicacabum VERSUS gamma-terpinene...\n",
      "Rodando Cardiospermum_halicacabum VERSUS beta-bisabolene...\n",
      "Rodando Cardiospermum_halicacabum VERSUS alpha-pinene...\n",
      "Rodando Cardiospermum_halicacabum VERSUS 1-8-cineole...\n",
      "Rodando Cardiospermum_halicacabum VERSUS terpinolene...\n",
      "Rodando Cardiospermum_halicacabum VERSUS dimboa...\n",
      "Rodando Cardiospermum_halicacabum VERSUS 8-cadinene...\n",
      "Rodando Cardiospermum_halicacabum VERSUS myrcene...\n",
      "Rodando Cardiospermum_halicacabum VERSUS luteolin...\n",
      "Rodando Cardiospermum_halicacabum VERSUS methyl_jasmonate...\n",
      "Rodando Cardiospermum_halicacabum VERSUS hexenal...\n",
      "Rodando Cardiospermum_halicacabum VERSUS beta-caryophyllene...\n",
      "Rodando Cardiospermum_halicacabum VERSUS tricine...\n",
      "Rodando Cardiospermum_halicacabum VERSUS jasmonic_acid...\n",
      "Rodando Cardiospermum_halicacabum VERSUS indole...\n",
      "Rodando Cardiospermum_halicacabum VERSUS alpha-terpinene...\n",
      "Rodando Tridax_procumbens VERSUS ethylene...\n",
      "Rodando Tridax_procumbens VERSUS bicylogermacrene...\n",
      "Rodando Tridax_procumbens VERSUS E-beta-ocimene...\n",
      "Rodando Tridax_procumbens VERSUS beta-ocimene...\n",
      "Rodando Tridax_procumbens VERSUS eugenol...\n",
      "Rodando Tridax_procumbens VERSUS alpha-humulene...\n",
      "Rodando Tridax_procumbens VERSUS strigol...\n",
      "Rodando Tridax_procumbens VERSUS beta-phellandrene...\n",
      "Rodando Tridax_procumbens VERSUS gamma-terpinene...\n",
      "Rodando Tridax_procumbens VERSUS beta-bisabolene...\n",
      "Rodando Tridax_procumbens VERSUS alpha-pinene...\n",
      "Rodando Tridax_procumbens VERSUS 1-8-cineole...\n",
      "Rodando Tridax_procumbens VERSUS terpinolene...\n",
      "Rodando Tridax_procumbens VERSUS dimboa...\n",
      "Rodando Tridax_procumbens VERSUS 8-cadinene...\n",
      "Rodando Tridax_procumbens VERSUS myrcene...\n",
      "Rodando Tridax_procumbens VERSUS luteolin...\n",
      "Rodando Tridax_procumbens VERSUS methyl_jasmonate...\n",
      "Rodando Tridax_procumbens VERSUS hexenal...\n",
      "Rodando Tridax_procumbens VERSUS beta-caryophyllene...\n",
      "Rodando Tridax_procumbens VERSUS tricine...\n",
      "Rodando Tridax_procumbens VERSUS jasmonic_acid...\n",
      "Rodando Tridax_procumbens VERSUS indole...\n",
      "Rodando Tridax_procumbens VERSUS alpha-terpinene...\n",
      "Rodando Alternanthera_tenella VERSUS ethylene...\n",
      "Rodando Alternanthera_tenella VERSUS bicylogermacrene...\n",
      "Rodando Alternanthera_tenella VERSUS E-beta-ocimene...\n",
      "Rodando Alternanthera_tenella VERSUS beta-ocimene...\n",
      "Rodando Alternanthera_tenella VERSUS eugenol...\n",
      "Rodando Alternanthera_tenella VERSUS alpha-humulene...\n",
      "Rodando Alternanthera_tenella VERSUS strigol...\n",
      "Rodando Alternanthera_tenella VERSUS beta-phellandrene...\n",
      "Rodando Alternanthera_tenella VERSUS gamma-terpinene...\n",
      "Rodando Alternanthera_tenella VERSUS beta-bisabolene...\n",
      "Rodando Alternanthera_tenella VERSUS alpha-pinene...\n",
      "Rodando Alternanthera_tenella VERSUS 1-8-cineole...\n",
      "Rodando Alternanthera_tenella VERSUS terpinolene...\n",
      "Rodando Alternanthera_tenella VERSUS dimboa...\n",
      "Rodando Alternanthera_tenella VERSUS 8-cadinene...\n",
      "Rodando Alternanthera_tenella VERSUS myrcene...\n",
      "Rodando Alternanthera_tenella VERSUS luteolin...\n",
      "Rodando Alternanthera_tenella VERSUS methyl_jasmonate...\n",
      "Rodando Alternanthera_tenella VERSUS hexenal...\n",
      "Rodando Alternanthera_tenella VERSUS beta-caryophyllene...\n",
      "Rodando Alternanthera_tenella VERSUS tricine...\n",
      "Rodando Alternanthera_tenella VERSUS jasmonic_acid...\n",
      "Rodando Alternanthera_tenella VERSUS indole...\n",
      "Rodando Alternanthera_tenella VERSUS alpha-terpinene...\n",
      "Rodando Panicum_maximum VERSUS ethylene...\n",
      "Rodando Panicum_maximum VERSUS bicylogermacrene...\n",
      "Rodando Panicum_maximum VERSUS E-beta-ocimene...\n",
      "Rodando Panicum_maximum VERSUS beta-ocimene...\n",
      "Rodando Panicum_maximum VERSUS eugenol...\n",
      "Rodando Panicum_maximum VERSUS alpha-humulene...\n",
      "Rodando Panicum_maximum VERSUS strigol...\n",
      "Rodando Panicum_maximum VERSUS beta-phellandrene...\n",
      "Rodando Panicum_maximum VERSUS gamma-terpinene...\n",
      "Rodando Panicum_maximum VERSUS beta-bisabolene...\n",
      "Rodando Panicum_maximum VERSUS alpha-pinene...\n",
      "Rodando Panicum_maximum VERSUS 1-8-cineole...\n",
      "Rodando Panicum_maximum VERSUS terpinolene...\n",
      "Rodando Panicum_maximum VERSUS dimboa...\n",
      "Rodando Panicum_maximum VERSUS 8-cadinene...\n",
      "Rodando Panicum_maximum VERSUS myrcene...\n",
      "Rodando Panicum_maximum VERSUS luteolin...\n",
      "Rodando Panicum_maximum VERSUS methyl_jasmonate...\n",
      "Rodando Panicum_maximum VERSUS hexenal...\n",
      "Rodando Panicum_maximum VERSUS beta-caryophyllene...\n",
      "Rodando Panicum_maximum VERSUS tricine...\n",
      "Rodando Panicum_maximum VERSUS jasmonic_acid...\n",
      "Rodando Panicum_maximum VERSUS indole...\n",
      "Rodando Panicum_maximum VERSUS alpha-terpinene...\n",
      "Rodando Amaranthus_viridis VERSUS ethylene...\n",
      "Rodando Amaranthus_viridis VERSUS bicylogermacrene...\n",
      "Rodando Amaranthus_viridis VERSUS E-beta-ocimene...\n",
      "Rodando Amaranthus_viridis VERSUS beta-ocimene...\n",
      "Rodando Amaranthus_viridis VERSUS eugenol...\n",
      "Rodando Amaranthus_viridis VERSUS alpha-humulene...\n",
      "Rodando Amaranthus_viridis VERSUS strigol...\n",
      "Rodando Amaranthus_viridis VERSUS beta-phellandrene...\n",
      "Rodando Amaranthus_viridis VERSUS gamma-terpinene...\n",
      "Rodando Amaranthus_viridis VERSUS beta-bisabolene...\n",
      "Rodando Amaranthus_viridis VERSUS alpha-pinene...\n"
     ]
    },
    {
     "name": "stdout",
     "output_type": "stream",
     "text": [
      "Rodando Amaranthus_viridis VERSUS 1-8-cineole...\n",
      "Rodando Amaranthus_viridis VERSUS terpinolene...\n",
      "Rodando Amaranthus_viridis VERSUS dimboa...\n",
      "Rodando Amaranthus_viridis VERSUS 8-cadinene...\n",
      "Rodando Amaranthus_viridis VERSUS myrcene...\n",
      "Rodando Amaranthus_viridis VERSUS luteolin...\n",
      "Rodando Amaranthus_viridis VERSUS methyl_jasmonate...\n",
      "Rodando Amaranthus_viridis VERSUS hexenal...\n",
      "Rodando Amaranthus_viridis VERSUS beta-caryophyllene...\n",
      "Rodando Amaranthus_viridis VERSUS tricine...\n",
      "Rodando Amaranthus_viridis VERSUS jasmonic_acid...\n",
      "Rodando Amaranthus_viridis VERSUS indole...\n",
      "Rodando Amaranthus_viridis VERSUS alpha-terpinene...\n",
      "Rodando Portulaca_oleracea VERSUS ethylene...\n",
      "Rodando Portulaca_oleracea VERSUS bicylogermacrene...\n",
      "Rodando Portulaca_oleracea VERSUS E-beta-ocimene...\n",
      "Rodando Portulaca_oleracea VERSUS beta-ocimene...\n",
      "Rodando Portulaca_oleracea VERSUS eugenol...\n",
      "Rodando Portulaca_oleracea VERSUS alpha-humulene...\n",
      "Rodando Portulaca_oleracea VERSUS strigol...\n",
      "Rodando Portulaca_oleracea VERSUS beta-phellandrene...\n",
      "Rodando Portulaca_oleracea VERSUS gamma-terpinene...\n",
      "Rodando Portulaca_oleracea VERSUS beta-bisabolene...\n",
      "Rodando Portulaca_oleracea VERSUS alpha-pinene...\n",
      "Rodando Portulaca_oleracea VERSUS 1-8-cineole...\n",
      "Rodando Portulaca_oleracea VERSUS terpinolene...\n",
      "Rodando Portulaca_oleracea VERSUS dimboa...\n",
      "Rodando Portulaca_oleracea VERSUS 8-cadinene...\n",
      "Rodando Portulaca_oleracea VERSUS myrcene...\n",
      "Rodando Portulaca_oleracea VERSUS luteolin...\n",
      "Rodando Portulaca_oleracea VERSUS methyl_jasmonate...\n",
      "Rodando Portulaca_oleracea VERSUS hexenal...\n",
      "Rodando Portulaca_oleracea VERSUS beta-caryophyllene...\n",
      "Rodando Portulaca_oleracea VERSUS tricine...\n",
      "Rodando Portulaca_oleracea VERSUS jasmonic_acid...\n",
      "Rodando Portulaca_oleracea VERSUS indole...\n",
      "Rodando Portulaca_oleracea VERSUS alpha-terpinene...\n",
      "Rodando Amaranthus_hybridus VERSUS ethylene...\n",
      "Rodando Amaranthus_hybridus VERSUS bicylogermacrene...\n",
      "Rodando Amaranthus_hybridus VERSUS E-beta-ocimene...\n",
      "Rodando Amaranthus_hybridus VERSUS beta-ocimene...\n",
      "Rodando Amaranthus_hybridus VERSUS eugenol...\n",
      "Rodando Amaranthus_hybridus VERSUS alpha-humulene...\n",
      "Rodando Amaranthus_hybridus VERSUS strigol...\n",
      "Rodando Amaranthus_hybridus VERSUS beta-phellandrene...\n",
      "Rodando Amaranthus_hybridus VERSUS gamma-terpinene...\n",
      "Rodando Amaranthus_hybridus VERSUS beta-bisabolene...\n",
      "Rodando Amaranthus_hybridus VERSUS alpha-pinene...\n",
      "Rodando Amaranthus_hybridus VERSUS 1-8-cineole...\n",
      "Rodando Amaranthus_hybridus VERSUS terpinolene...\n",
      "Rodando Amaranthus_hybridus VERSUS dimboa...\n",
      "Rodando Amaranthus_hybridus VERSUS 8-cadinene...\n",
      "Rodando Amaranthus_hybridus VERSUS myrcene...\n",
      "Rodando Amaranthus_hybridus VERSUS luteolin...\n",
      "Rodando Amaranthus_hybridus VERSUS methyl_jasmonate...\n",
      "Rodando Amaranthus_hybridus VERSUS hexenal...\n",
      "Rodando Amaranthus_hybridus VERSUS beta-caryophyllene...\n",
      "Rodando Amaranthus_hybridus VERSUS tricine...\n",
      "Rodando Amaranthus_hybridus VERSUS jasmonic_acid...\n",
      "Rodando Amaranthus_hybridus VERSUS indole...\n",
      "Rodando Amaranthus_hybridus VERSUS alpha-terpinene...\n",
      "Rodando Brachiaria_decumbens VERSUS ethylene...\n",
      "Rodando Brachiaria_decumbens VERSUS bicylogermacrene...\n",
      "Rodando Brachiaria_decumbens VERSUS E-beta-ocimene...\n",
      "Rodando Brachiaria_decumbens VERSUS beta-ocimene...\n",
      "Rodando Brachiaria_decumbens VERSUS eugenol...\n",
      "Rodando Brachiaria_decumbens VERSUS alpha-humulene...\n",
      "Rodando Brachiaria_decumbens VERSUS strigol...\n",
      "Rodando Brachiaria_decumbens VERSUS beta-phellandrene...\n",
      "Rodando Brachiaria_decumbens VERSUS gamma-terpinene...\n",
      "Rodando Brachiaria_decumbens VERSUS beta-bisabolene...\n",
      "Rodando Brachiaria_decumbens VERSUS alpha-pinene...\n",
      "Rodando Brachiaria_decumbens VERSUS 1-8-cineole...\n",
      "Rodando Brachiaria_decumbens VERSUS terpinolene...\n",
      "Rodando Brachiaria_decumbens VERSUS dimboa...\n",
      "Rodando Brachiaria_decumbens VERSUS 8-cadinene...\n",
      "Rodando Brachiaria_decumbens VERSUS myrcene...\n",
      "Rodando Brachiaria_decumbens VERSUS luteolin...\n",
      "Rodando Brachiaria_decumbens VERSUS methyl_jasmonate...\n",
      "Rodando Brachiaria_decumbens VERSUS hexenal...\n",
      "Rodando Brachiaria_decumbens VERSUS beta-caryophyllene...\n",
      "Rodando Brachiaria_decumbens VERSUS tricine...\n",
      "Rodando Brachiaria_decumbens VERSUS jasmonic_acid...\n",
      "Rodando Brachiaria_decumbens VERSUS indole...\n",
      "Rodando Brachiaria_decumbens VERSUS alpha-terpinene...\n",
      "Rodando Cenchrus_echinatus VERSUS ethylene...\n",
      "Rodando Cenchrus_echinatus VERSUS bicylogermacrene...\n",
      "Rodando Cenchrus_echinatus VERSUS E-beta-ocimene...\n",
      "Rodando Cenchrus_echinatus VERSUS beta-ocimene...\n",
      "Rodando Cenchrus_echinatus VERSUS eugenol...\n",
      "Rodando Cenchrus_echinatus VERSUS alpha-humulene...\n",
      "Rodando Cenchrus_echinatus VERSUS strigol...\n",
      "Rodando Cenchrus_echinatus VERSUS beta-phellandrene...\n",
      "Rodando Cenchrus_echinatus VERSUS gamma-terpinene...\n",
      "Rodando Cenchrus_echinatus VERSUS beta-bisabolene...\n",
      "Rodando Cenchrus_echinatus VERSUS alpha-pinene...\n",
      "Rodando Cenchrus_echinatus VERSUS 1-8-cineole...\n",
      "Rodando Cenchrus_echinatus VERSUS terpinolene...\n",
      "Rodando Cenchrus_echinatus VERSUS dimboa...\n",
      "Rodando Cenchrus_echinatus VERSUS 8-cadinene...\n",
      "Rodando Cenchrus_echinatus VERSUS myrcene...\n",
      "Rodando Cenchrus_echinatus VERSUS luteolin...\n",
      "Rodando Cenchrus_echinatus VERSUS methyl_jasmonate...\n",
      "Rodando Cenchrus_echinatus VERSUS hexenal...\n",
      "Rodando Cenchrus_echinatus VERSUS beta-caryophyllene...\n",
      "Rodando Cenchrus_echinatus VERSUS tricine...\n",
      "Rodando Cenchrus_echinatus VERSUS jasmonic_acid...\n",
      "Rodando Cenchrus_echinatus VERSUS indole...\n",
      "Rodando Cenchrus_echinatus VERSUS alpha-terpinene...\n",
      "Rodando Acanthospermum_hispidum VERSUS ethylene...\n",
      "Rodando Acanthospermum_hispidum VERSUS bicylogermacrene...\n",
      "Rodando Acanthospermum_hispidum VERSUS E-beta-ocimene...\n",
      "Rodando Acanthospermum_hispidum VERSUS beta-ocimene...\n",
      "Rodando Acanthospermum_hispidum VERSUS eugenol...\n",
      "Rodando Acanthospermum_hispidum VERSUS alpha-humulene...\n",
      "Rodando Acanthospermum_hispidum VERSUS strigol...\n",
      "Rodando Acanthospermum_hispidum VERSUS beta-phellandrene...\n",
      "Rodando Acanthospermum_hispidum VERSUS gamma-terpinene...\n",
      "Rodando Acanthospermum_hispidum VERSUS beta-bisabolene...\n",
      "Rodando Acanthospermum_hispidum VERSUS alpha-pinene...\n",
      "Rodando Acanthospermum_hispidum VERSUS 1-8-cineole...\n",
      "Rodando Acanthospermum_hispidum VERSUS terpinolene...\n",
      "Rodando Acanthospermum_hispidum VERSUS dimboa...\n",
      "Rodando Acanthospermum_hispidum VERSUS 8-cadinene...\n",
      "Rodando Acanthospermum_hispidum VERSUS myrcene...\n",
      "Rodando Acanthospermum_hispidum VERSUS luteolin...\n",
      "Rodando Acanthospermum_hispidum VERSUS methyl_jasmonate...\n",
      "Rodando Acanthospermum_hispidum VERSUS hexenal...\n",
      "Rodando Acanthospermum_hispidum VERSUS beta-caryophyllene...\n",
      "Rodando Acanthospermum_hispidum VERSUS tricine...\n",
      "Rodando Acanthospermum_hispidum VERSUS jasmonic_acid...\n",
      "Rodando Acanthospermum_hispidum VERSUS indole...\n",
      "Rodando Acanthospermum_hispidum VERSUS alpha-terpinene...\n",
      "Rodando Brachiaria_brizantha VERSUS ethylene...\n",
      "Rodando Brachiaria_brizantha VERSUS bicylogermacrene...\n",
      "Rodando Brachiaria_brizantha VERSUS E-beta-ocimene...\n",
      "Rodando Brachiaria_brizantha VERSUS beta-ocimene...\n",
      "Rodando Brachiaria_brizantha VERSUS eugenol...\n",
      "Rodando Brachiaria_brizantha VERSUS alpha-humulene...\n",
      "Rodando Brachiaria_brizantha VERSUS strigol...\n",
      "Rodando Brachiaria_brizantha VERSUS beta-phellandrene...\n",
      "Rodando Brachiaria_brizantha VERSUS gamma-terpinene...\n",
      "Rodando Brachiaria_brizantha VERSUS beta-bisabolene...\n",
      "Rodando Brachiaria_brizantha VERSUS alpha-pinene...\n",
      "Rodando Brachiaria_brizantha VERSUS 1-8-cineole...\n",
      "Rodando Brachiaria_brizantha VERSUS terpinolene...\n",
      "Rodando Brachiaria_brizantha VERSUS dimboa...\n",
      "Rodando Brachiaria_brizantha VERSUS 8-cadinene...\n",
      "Rodando Brachiaria_brizantha VERSUS myrcene...\n",
      "Rodando Brachiaria_brizantha VERSUS luteolin...\n",
      "Rodando Brachiaria_brizantha VERSUS methyl_jasmonate...\n",
      "Rodando Brachiaria_brizantha VERSUS hexenal...\n",
      "Rodando Brachiaria_brizantha VERSUS beta-caryophyllene...\n",
      "Rodando Brachiaria_brizantha VERSUS tricine...\n",
      "Rodando Brachiaria_brizantha VERSUS jasmonic_acid...\n",
      "Rodando Brachiaria_brizantha VERSUS indole...\n",
      "Rodando Brachiaria_brizantha VERSUS alpha-terpinene...\n",
      "Rodando Acanthospermum_australe VERSUS ethylene...\n",
      "Rodando Acanthospermum_australe VERSUS bicylogermacrene...\n",
      "Rodando Acanthospermum_australe VERSUS E-beta-ocimene...\n",
      "Rodando Acanthospermum_australe VERSUS beta-ocimene...\n",
      "Rodando Acanthospermum_australe VERSUS eugenol...\n",
      "Rodando Acanthospermum_australe VERSUS alpha-humulene...\n",
      "Rodando Acanthospermum_australe VERSUS strigol...\n"
     ]
    },
    {
     "name": "stdout",
     "output_type": "stream",
     "text": [
      "Rodando Acanthospermum_australe VERSUS beta-phellandrene...\n",
      "Rodando Acanthospermum_australe VERSUS gamma-terpinene...\n",
      "Rodando Acanthospermum_australe VERSUS beta-bisabolene...\n",
      "Rodando Acanthospermum_australe VERSUS alpha-pinene...\n",
      "Rodando Acanthospermum_australe VERSUS 1-8-cineole...\n",
      "Rodando Acanthospermum_australe VERSUS terpinolene...\n",
      "Rodando Acanthospermum_australe VERSUS dimboa...\n",
      "Rodando Acanthospermum_australe VERSUS 8-cadinene...\n",
      "Rodando Acanthospermum_australe VERSUS myrcene...\n",
      "Rodando Acanthospermum_australe VERSUS luteolin...\n",
      "Rodando Acanthospermum_australe VERSUS methyl_jasmonate...\n",
      "Rodando Acanthospermum_australe VERSUS hexenal...\n",
      "Rodando Acanthospermum_australe VERSUS beta-caryophyllene...\n",
      "Rodando Acanthospermum_australe VERSUS tricine...\n",
      "Rodando Acanthospermum_australe VERSUS jasmonic_acid...\n",
      "Rodando Acanthospermum_australe VERSUS indole...\n",
      "Rodando Acanthospermum_australe VERSUS alpha-terpinene...\n",
      "Rodando Senna_obtusifolia VERSUS ethylene...\n",
      "Rodando Senna_obtusifolia VERSUS bicylogermacrene...\n",
      "Rodando Senna_obtusifolia VERSUS E-beta-ocimene...\n",
      "Rodando Senna_obtusifolia VERSUS beta-ocimene...\n",
      "Rodando Senna_obtusifolia VERSUS eugenol...\n",
      "Rodando Senna_obtusifolia VERSUS alpha-humulene...\n",
      "Rodando Senna_obtusifolia VERSUS strigol...\n",
      "Rodando Senna_obtusifolia VERSUS beta-phellandrene...\n",
      "Rodando Senna_obtusifolia VERSUS gamma-terpinene...\n",
      "Rodando Senna_obtusifolia VERSUS beta-bisabolene...\n",
      "Rodando Senna_obtusifolia VERSUS alpha-pinene...\n",
      "Rodando Senna_obtusifolia VERSUS 1-8-cineole...\n",
      "Rodando Senna_obtusifolia VERSUS terpinolene...\n",
      "Rodando Senna_obtusifolia VERSUS dimboa...\n",
      "Rodando Senna_obtusifolia VERSUS 8-cadinene...\n",
      "Rodando Senna_obtusifolia VERSUS myrcene...\n",
      "Rodando Senna_obtusifolia VERSUS luteolin...\n",
      "Rodando Senna_obtusifolia VERSUS methyl_jasmonate...\n",
      "Rodando Senna_obtusifolia VERSUS hexenal...\n",
      "Rodando Senna_obtusifolia VERSUS beta-caryophyllene...\n",
      "Rodando Senna_obtusifolia VERSUS tricine...\n",
      "Rodando Senna_obtusifolia VERSUS jasmonic_acid...\n",
      "Rodando Senna_obtusifolia VERSUS indole...\n",
      "Rodando Senna_obtusifolia VERSUS alpha-terpinene...\n",
      "Rodando Eleusine_indica VERSUS ethylene...\n",
      "Rodando Eleusine_indica VERSUS bicylogermacrene...\n",
      "Rodando Eleusine_indica VERSUS E-beta-ocimene...\n",
      "Rodando Eleusine_indica VERSUS beta-ocimene...\n",
      "Rodando Eleusine_indica VERSUS eugenol...\n",
      "Rodando Eleusine_indica VERSUS alpha-humulene...\n",
      "Rodando Eleusine_indica VERSUS strigol...\n",
      "Rodando Eleusine_indica VERSUS beta-phellandrene...\n",
      "Rodando Eleusine_indica VERSUS gamma-terpinene...\n",
      "Rodando Eleusine_indica VERSUS beta-bisabolene...\n",
      "Rodando Eleusine_indica VERSUS alpha-pinene...\n",
      "Rodando Eleusine_indica VERSUS 1-8-cineole...\n",
      "Rodando Eleusine_indica VERSUS terpinolene...\n",
      "Rodando Eleusine_indica VERSUS dimboa...\n",
      "Rodando Eleusine_indica VERSUS 8-cadinene...\n",
      "Rodando Eleusine_indica VERSUS myrcene...\n",
      "Rodando Eleusine_indica VERSUS luteolin...\n",
      "Rodando Eleusine_indica VERSUS methyl_jasmonate...\n",
      "Rodando Eleusine_indica VERSUS hexenal...\n",
      "Rodando Eleusine_indica VERSUS beta-caryophyllene...\n",
      "Rodando Eleusine_indica VERSUS tricine...\n",
      "Rodando Eleusine_indica VERSUS jasmonic_acid...\n",
      "Rodando Eleusine_indica VERSUS indole...\n",
      "Rodando Eleusine_indica VERSUS alpha-terpinene...\n",
      "Rodando Pogostemon_patchouli VERSUS ethylene...\n",
      "Rodando Pogostemon_patchouli VERSUS bicylogermacrene...\n",
      "Rodando Pogostemon_patchouli VERSUS E-beta-ocimene...\n",
      "Rodando Pogostemon_patchouli VERSUS beta-ocimene...\n",
      "Rodando Pogostemon_patchouli VERSUS eugenol...\n",
      "Rodando Pogostemon_patchouli VERSUS alpha-humulene...\n",
      "Rodando Pogostemon_patchouli VERSUS strigol...\n",
      "Rodando Pogostemon_patchouli VERSUS beta-phellandrene...\n",
      "Rodando Pogostemon_patchouli VERSUS gamma-terpinene...\n",
      "Rodando Pogostemon_patchouli VERSUS beta-bisabolene...\n",
      "Rodando Pogostemon_patchouli VERSUS alpha-pinene...\n",
      "Rodando Pogostemon_patchouli VERSUS 1-8-cineole...\n",
      "Rodando Pogostemon_patchouli VERSUS terpinolene...\n",
      "Rodando Pogostemon_patchouli VERSUS dimboa...\n",
      "Rodando Pogostemon_patchouli VERSUS 8-cadinene...\n",
      "Rodando Pogostemon_patchouli VERSUS myrcene...\n",
      "Rodando Pogostemon_patchouli VERSUS luteolin...\n",
      "Rodando Pogostemon_patchouli VERSUS methyl_jasmonate...\n",
      "Rodando Pogostemon_patchouli VERSUS hexenal...\n",
      "Rodando Pogostemon_patchouli VERSUS beta-caryophyllene...\n",
      "Rodando Pogostemon_patchouli VERSUS tricine...\n",
      "Rodando Pogostemon_patchouli VERSUS jasmonic_acid...\n",
      "Rodando Pogostemon_patchouli VERSUS indole...\n",
      "Rodando Pogostemon_patchouli VERSUS alpha-terpinene...\n",
      "Rodando cyperus_rotundus VERSUS ethylene...\n",
      "Rodando cyperus_rotundus VERSUS bicylogermacrene...\n",
      "Rodando cyperus_rotundus VERSUS E-beta-ocimene...\n",
      "Rodando cyperus_rotundus VERSUS beta-ocimene...\n",
      "Rodando cyperus_rotundus VERSUS eugenol...\n",
      "Rodando cyperus_rotundus VERSUS alpha-humulene...\n",
      "Rodando cyperus_rotundus VERSUS strigol...\n",
      "Rodando cyperus_rotundus VERSUS beta-phellandrene...\n",
      "Rodando cyperus_rotundus VERSUS gamma-terpinene...\n",
      "Rodando cyperus_rotundus VERSUS beta-bisabolene...\n",
      "Rodando cyperus_rotundus VERSUS alpha-pinene...\n",
      "Rodando cyperus_rotundus VERSUS 1-8-cineole...\n",
      "Rodando cyperus_rotundus VERSUS terpinolene...\n",
      "Rodando cyperus_rotundus VERSUS dimboa...\n",
      "Rodando cyperus_rotundus VERSUS 8-cadinene...\n",
      "Rodando cyperus_rotundus VERSUS myrcene...\n",
      "Rodando cyperus_rotundus VERSUS luteolin...\n",
      "Rodando cyperus_rotundus VERSUS methyl_jasmonate...\n",
      "Rodando cyperus_rotundus VERSUS hexenal...\n",
      "Rodando cyperus_rotundus VERSUS beta-caryophyllene...\n",
      "Rodando cyperus_rotundus VERSUS tricine...\n",
      "Rodando cyperus_rotundus VERSUS jasmonic_acid...\n",
      "Rodando cyperus_rotundus VERSUS indole...\n",
      "Rodando cyperus_rotundus VERSUS alpha-terpinene...\n",
      "Rodando Amaranthus_palmeri VERSUS ethylene...\n",
      "Rodando Amaranthus_palmeri VERSUS bicylogermacrene...\n",
      "Rodando Amaranthus_palmeri VERSUS E-beta-ocimene...\n",
      "Rodando Amaranthus_palmeri VERSUS beta-ocimene...\n",
      "Rodando Amaranthus_palmeri VERSUS eugenol...\n",
      "Rodando Amaranthus_palmeri VERSUS alpha-humulene...\n",
      "Rodando Amaranthus_palmeri VERSUS strigol...\n",
      "Rodando Amaranthus_palmeri VERSUS beta-phellandrene...\n",
      "Rodando Amaranthus_palmeri VERSUS gamma-terpinene...\n",
      "Rodando Amaranthus_palmeri VERSUS beta-bisabolene...\n",
      "Rodando Amaranthus_palmeri VERSUS alpha-pinene...\n",
      "Rodando Amaranthus_palmeri VERSUS 1-8-cineole...\n",
      "Rodando Amaranthus_palmeri VERSUS terpinolene...\n",
      "Rodando Amaranthus_palmeri VERSUS dimboa...\n",
      "Rodando Amaranthus_palmeri VERSUS 8-cadinene...\n",
      "Rodando Amaranthus_palmeri VERSUS myrcene...\n",
      "Rodando Amaranthus_palmeri VERSUS luteolin...\n",
      "Rodando Amaranthus_palmeri VERSUS methyl_jasmonate...\n",
      "Rodando Amaranthus_palmeri VERSUS hexenal...\n",
      "Rodando Amaranthus_palmeri VERSUS beta-caryophyllene...\n",
      "Rodando Amaranthus_palmeri VERSUS tricine...\n",
      "Rodando Amaranthus_palmeri VERSUS jasmonic_acid...\n",
      "Rodando Amaranthus_palmeri VERSUS indole...\n",
      "Rodando Amaranthus_palmeri VERSUS alpha-terpinene...\n",
      "Rodando Chamaesyce_hyssopifolia VERSUS ethylene...\n",
      "Rodando Chamaesyce_hyssopifolia VERSUS bicylogermacrene...\n",
      "Rodando Chamaesyce_hyssopifolia VERSUS E-beta-ocimene...\n",
      "Rodando Chamaesyce_hyssopifolia VERSUS beta-ocimene...\n",
      "Rodando Chamaesyce_hyssopifolia VERSUS eugenol...\n",
      "Rodando Chamaesyce_hyssopifolia VERSUS alpha-humulene...\n",
      "Rodando Chamaesyce_hyssopifolia VERSUS strigol...\n",
      "Rodando Chamaesyce_hyssopifolia VERSUS beta-phellandrene...\n",
      "Rodando Chamaesyce_hyssopifolia VERSUS gamma-terpinene...\n",
      "Rodando Chamaesyce_hyssopifolia VERSUS beta-bisabolene...\n",
      "Rodando Chamaesyce_hyssopifolia VERSUS alpha-pinene...\n",
      "Rodando Chamaesyce_hyssopifolia VERSUS 1-8-cineole...\n",
      "Rodando Chamaesyce_hyssopifolia VERSUS terpinolene...\n",
      "Rodando Chamaesyce_hyssopifolia VERSUS dimboa...\n",
      "Rodando Chamaesyce_hyssopifolia VERSUS 8-cadinene...\n",
      "Rodando Chamaesyce_hyssopifolia VERSUS myrcene...\n",
      "Rodando Chamaesyce_hyssopifolia VERSUS luteolin...\n",
      "Rodando Chamaesyce_hyssopifolia VERSUS methyl_jasmonate...\n",
      "Rodando Chamaesyce_hyssopifolia VERSUS hexenal...\n",
      "Rodando Chamaesyce_hyssopifolia VERSUS beta-caryophyllene...\n",
      "Rodando Chamaesyce_hyssopifolia VERSUS tricine...\n",
      "Rodando Chamaesyce_hyssopifolia VERSUS jasmonic_acid...\n",
      "Rodando Chamaesyce_hyssopifolia VERSUS indole...\n",
      "Rodando Chamaesyce_hyssopifolia VERSUS alpha-terpinene...\n",
      "Rodando Nicandra_physaloides VERSUS ethylene...\n",
      "Rodando Nicandra_physaloides VERSUS bicylogermacrene...\n",
      "Rodando Nicandra_physaloides VERSUS E-beta-ocimene...\n",
      "Rodando Nicandra_physaloides VERSUS beta-ocimene...\n"
     ]
    },
    {
     "name": "stdout",
     "output_type": "stream",
     "text": [
      "Rodando Nicandra_physaloides VERSUS eugenol...\n",
      "Rodando Nicandra_physaloides VERSUS alpha-humulene...\n",
      "Rodando Nicandra_physaloides VERSUS strigol...\n",
      "Rodando Nicandra_physaloides VERSUS beta-phellandrene...\n",
      "Rodando Nicandra_physaloides VERSUS gamma-terpinene...\n",
      "Rodando Nicandra_physaloides VERSUS beta-bisabolene...\n",
      "Rodando Nicandra_physaloides VERSUS alpha-pinene...\n",
      "Rodando Nicandra_physaloides VERSUS 1-8-cineole...\n",
      "Rodando Nicandra_physaloides VERSUS terpinolene...\n",
      "Rodando Nicandra_physaloides VERSUS dimboa...\n",
      "Rodando Nicandra_physaloides VERSUS 8-cadinene...\n",
      "Rodando Nicandra_physaloides VERSUS myrcene...\n",
      "Rodando Nicandra_physaloides VERSUS luteolin...\n",
      "Rodando Nicandra_physaloides VERSUS methyl_jasmonate...\n",
      "Rodando Nicandra_physaloides VERSUS hexenal...\n",
      "Rodando Nicandra_physaloides VERSUS beta-caryophyllene...\n",
      "Rodando Nicandra_physaloides VERSUS tricine...\n",
      "Rodando Nicandra_physaloides VERSUS jasmonic_acid...\n",
      "Rodando Nicandra_physaloides VERSUS indole...\n",
      "Rodando Nicandra_physaloides VERSUS alpha-terpinene...\n",
      "Rodando Galinsoga_parviflora VERSUS ethylene...\n",
      "Rodando Galinsoga_parviflora VERSUS bicylogermacrene...\n",
      "Rodando Galinsoga_parviflora VERSUS E-beta-ocimene...\n",
      "Rodando Galinsoga_parviflora VERSUS beta-ocimene...\n",
      "Rodando Galinsoga_parviflora VERSUS eugenol...\n",
      "Rodando Galinsoga_parviflora VERSUS alpha-humulene...\n",
      "Rodando Galinsoga_parviflora VERSUS strigol...\n",
      "Rodando Galinsoga_parviflora VERSUS beta-phellandrene...\n",
      "Rodando Galinsoga_parviflora VERSUS gamma-terpinene...\n",
      "Rodando Galinsoga_parviflora VERSUS beta-bisabolene...\n",
      "Rodando Galinsoga_parviflora VERSUS alpha-pinene...\n",
      "Rodando Galinsoga_parviflora VERSUS 1-8-cineole...\n",
      "Rodando Galinsoga_parviflora VERSUS terpinolene...\n",
      "Rodando Galinsoga_parviflora VERSUS dimboa...\n",
      "Rodando Galinsoga_parviflora VERSUS 8-cadinene...\n",
      "Rodando Galinsoga_parviflora VERSUS myrcene...\n",
      "Rodando Galinsoga_parviflora VERSUS luteolin...\n",
      "Rodando Galinsoga_parviflora VERSUS methyl_jasmonate...\n",
      "Rodando Galinsoga_parviflora VERSUS hexenal...\n",
      "Rodando Galinsoga_parviflora VERSUS beta-caryophyllene...\n",
      "Rodando Galinsoga_parviflora VERSUS tricine...\n",
      "Rodando Galinsoga_parviflora VERSUS jasmonic_acid...\n",
      "Rodando Galinsoga_parviflora VERSUS indole...\n",
      "Rodando Galinsoga_parviflora VERSUS alpha-terpinene...\n",
      "Rodando Ageratum_conyzoides VERSUS ethylene...\n",
      "Rodando Ageratum_conyzoides VERSUS bicylogermacrene...\n",
      "Rodando Ageratum_conyzoides VERSUS E-beta-ocimene...\n",
      "Rodando Ageratum_conyzoides VERSUS beta-ocimene...\n",
      "Rodando Ageratum_conyzoides VERSUS eugenol...\n",
      "Rodando Ageratum_conyzoides VERSUS alpha-humulene...\n",
      "Rodando Ageratum_conyzoides VERSUS strigol...\n",
      "Rodando Ageratum_conyzoides VERSUS beta-phellandrene...\n",
      "Rodando Ageratum_conyzoides VERSUS gamma-terpinene...\n",
      "Rodando Ageratum_conyzoides VERSUS beta-bisabolene...\n",
      "Rodando Ageratum_conyzoides VERSUS alpha-pinene...\n",
      "Rodando Ageratum_conyzoides VERSUS 1-8-cineole...\n",
      "Rodando Ageratum_conyzoides VERSUS terpinolene...\n",
      "Rodando Ageratum_conyzoides VERSUS dimboa...\n",
      "Rodando Ageratum_conyzoides VERSUS 8-cadinene...\n",
      "Rodando Ageratum_conyzoides VERSUS myrcene...\n",
      "Rodando Ageratum_conyzoides VERSUS luteolin...\n",
      "Rodando Ageratum_conyzoides VERSUS methyl_jasmonate...\n",
      "Rodando Ageratum_conyzoides VERSUS hexenal...\n",
      "Rodando Ageratum_conyzoides VERSUS beta-caryophyllene...\n",
      "Rodando Ageratum_conyzoides VERSUS tricine...\n",
      "Rodando Ageratum_conyzoides VERSUS jasmonic_acid...\n",
      "Rodando Ageratum_conyzoides VERSUS indole...\n",
      "Rodando Ageratum_conyzoides VERSUS alpha-terpinene...\n",
      "Rodando Commelina_benghalensis VERSUS ethylene...\n",
      "Rodando Commelina_benghalensis VERSUS bicylogermacrene...\n",
      "Rodando Commelina_benghalensis VERSUS E-beta-ocimene...\n",
      "Rodando Commelina_benghalensis VERSUS beta-ocimene...\n",
      "Rodando Commelina_benghalensis VERSUS eugenol...\n",
      "Rodando Commelina_benghalensis VERSUS alpha-humulene...\n",
      "Rodando Commelina_benghalensis VERSUS strigol...\n",
      "Rodando Commelina_benghalensis VERSUS beta-phellandrene...\n",
      "Rodando Commelina_benghalensis VERSUS gamma-terpinene...\n",
      "Rodando Commelina_benghalensis VERSUS beta-bisabolene...\n",
      "Rodando Commelina_benghalensis VERSUS alpha-pinene...\n",
      "Rodando Commelina_benghalensis VERSUS 1-8-cineole...\n",
      "Rodando Commelina_benghalensis VERSUS terpinolene...\n",
      "Rodando Commelina_benghalensis VERSUS dimboa...\n",
      "Rodando Commelina_benghalensis VERSUS 8-cadinene...\n",
      "Rodando Commelina_benghalensis VERSUS myrcene...\n",
      "Rodando Commelina_benghalensis VERSUS luteolin...\n",
      "Rodando Commelina_benghalensis VERSUS methyl_jasmonate...\n",
      "Rodando Commelina_benghalensis VERSUS hexenal...\n",
      "Rodando Commelina_benghalensis VERSUS beta-caryophyllene...\n",
      "Rodando Commelina_benghalensis VERSUS tricine...\n",
      "Rodando Commelina_benghalensis VERSUS jasmonic_acid...\n",
      "Rodando Commelina_benghalensis VERSUS indole...\n",
      "Rodando Commelina_benghalensis VERSUS alpha-terpinene...\n",
      "Rodando Avena_fatua VERSUS ethylene...\n",
      "Rodando Avena_fatua VERSUS bicylogermacrene...\n",
      "Rodando Avena_fatua VERSUS E-beta-ocimene...\n",
      "Rodando Avena_fatua VERSUS beta-ocimene...\n",
      "Rodando Avena_fatua VERSUS eugenol...\n",
      "Rodando Avena_fatua VERSUS alpha-humulene...\n",
      "Rodando Avena_fatua VERSUS strigol...\n",
      "Rodando Avena_fatua VERSUS beta-phellandrene...\n",
      "Rodando Avena_fatua VERSUS gamma-terpinene...\n",
      "Rodando Avena_fatua VERSUS beta-bisabolene...\n",
      "Rodando Avena_fatua VERSUS alpha-pinene...\n",
      "Rodando Avena_fatua VERSUS 1-8-cineole...\n",
      "Rodando Avena_fatua VERSUS terpinolene...\n",
      "Rodando Avena_fatua VERSUS dimboa...\n",
      "Rodando Avena_fatua VERSUS 8-cadinene...\n",
      "Rodando Avena_fatua VERSUS myrcene...\n",
      "Rodando Avena_fatua VERSUS luteolin...\n",
      "Rodando Avena_fatua VERSUS methyl_jasmonate...\n",
      "Rodando Avena_fatua VERSUS hexenal...\n",
      "Rodando Avena_fatua VERSUS beta-caryophyllene...\n",
      "Rodando Avena_fatua VERSUS tricine...\n",
      "Rodando Avena_fatua VERSUS jasmonic_acid...\n",
      "Rodando Avena_fatua VERSUS indole...\n",
      "Rodando Avena_fatua VERSUS alpha-terpinene...\n",
      "Rodando Raphanus_raphanistrum VERSUS ethylene...\n",
      "Rodando Raphanus_raphanistrum VERSUS bicylogermacrene...\n",
      "Rodando Raphanus_raphanistrum VERSUS E-beta-ocimene...\n",
      "Rodando Raphanus_raphanistrum VERSUS beta-ocimene...\n",
      "Rodando Raphanus_raphanistrum VERSUS eugenol...\n",
      "Rodando Raphanus_raphanistrum VERSUS alpha-humulene...\n",
      "Rodando Raphanus_raphanistrum VERSUS strigol...\n",
      "Rodando Raphanus_raphanistrum VERSUS beta-phellandrene...\n",
      "Rodando Raphanus_raphanistrum VERSUS gamma-terpinene...\n",
      "Rodando Raphanus_raphanistrum VERSUS beta-bisabolene...\n",
      "Rodando Raphanus_raphanistrum VERSUS alpha-pinene...\n",
      "Rodando Raphanus_raphanistrum VERSUS 1-8-cineole...\n",
      "Rodando Raphanus_raphanistrum VERSUS terpinolene...\n",
      "Rodando Raphanus_raphanistrum VERSUS dimboa...\n",
      "Rodando Raphanus_raphanistrum VERSUS 8-cadinene...\n",
      "Rodando Raphanus_raphanistrum VERSUS myrcene...\n",
      "Rodando Raphanus_raphanistrum VERSUS luteolin...\n",
      "Rodando Raphanus_raphanistrum VERSUS methyl_jasmonate...\n",
      "Rodando Raphanus_raphanistrum VERSUS hexenal...\n",
      "Rodando Raphanus_raphanistrum VERSUS beta-caryophyllene...\n",
      "Rodando Raphanus_raphanistrum VERSUS tricine...\n",
      "Rodando Raphanus_raphanistrum VERSUS jasmonic_acid...\n",
      "Rodando Raphanus_raphanistrum VERSUS indole...\n",
      "Rodando Raphanus_raphanistrum VERSUS alpha-terpinene...\n",
      "Rodando Ipomoea_nil VERSUS ethylene...\n",
      "Rodando Ipomoea_nil VERSUS bicylogermacrene...\n",
      "Rodando Ipomoea_nil VERSUS E-beta-ocimene...\n",
      "Rodando Ipomoea_nil VERSUS beta-ocimene...\n",
      "Rodando Ipomoea_nil VERSUS eugenol...\n",
      "Rodando Ipomoea_nil VERSUS alpha-humulene...\n",
      "Rodando Ipomoea_nil VERSUS strigol...\n",
      "Rodando Ipomoea_nil VERSUS beta-phellandrene...\n",
      "Rodando Ipomoea_nil VERSUS gamma-terpinene...\n",
      "Rodando Ipomoea_nil VERSUS beta-bisabolene...\n",
      "Rodando Ipomoea_nil VERSUS alpha-pinene...\n",
      "Rodando Ipomoea_nil VERSUS 1-8-cineole...\n",
      "Rodando Ipomoea_nil VERSUS terpinolene...\n",
      "Rodando Ipomoea_nil VERSUS dimboa...\n",
      "Rodando Ipomoea_nil VERSUS 8-cadinene...\n",
      "Rodando Ipomoea_nil VERSUS myrcene...\n",
      "Rodando Ipomoea_nil VERSUS luteolin...\n",
      "Rodando Ipomoea_nil VERSUS methyl_jasmonate...\n",
      "Rodando Ipomoea_nil VERSUS hexenal...\n",
      "Rodando Ipomoea_nil VERSUS beta-caryophyllene...\n",
      "Rodando Ipomoea_nil VERSUS tricine...\n",
      "Rodando Ipomoea_nil VERSUS jasmonic_acid...\n",
      "Rodando Ipomoea_nil VERSUS indole...\n",
      "Rodando Ipomoea_nil VERSUS alpha-terpinene...\n",
      "Rodando Amaranthus_spinosus VERSUS ethylene...\n",
      "Rodando Amaranthus_spinosus VERSUS bicylogermacrene...\n",
      "Rodando Amaranthus_spinosus VERSUS E-beta-ocimene...\n",
      "Rodando Amaranthus_spinosus VERSUS beta-ocimene...\n",
      "Rodando Amaranthus_spinosus VERSUS eugenol...\n",
      "Rodando Amaranthus_spinosus VERSUS alpha-humulene...\n",
      "Rodando Amaranthus_spinosus VERSUS strigol...\n"
     ]
    },
    {
     "name": "stdout",
     "output_type": "stream",
     "text": [
      "Rodando Amaranthus_spinosus VERSUS beta-phellandrene...\n",
      "Rodando Amaranthus_spinosus VERSUS gamma-terpinene...\n",
      "Rodando Amaranthus_spinosus VERSUS beta-bisabolene...\n",
      "Rodando Amaranthus_spinosus VERSUS alpha-pinene...\n",
      "Rodando Amaranthus_spinosus VERSUS 1-8-cineole...\n",
      "Rodando Amaranthus_spinosus VERSUS terpinolene...\n",
      "Rodando Amaranthus_spinosus VERSUS dimboa...\n",
      "Rodando Amaranthus_spinosus VERSUS 8-cadinene...\n",
      "Rodando Amaranthus_spinosus VERSUS myrcene...\n",
      "Rodando Amaranthus_spinosus VERSUS luteolin...\n",
      "Rodando Amaranthus_spinosus VERSUS methyl_jasmonate...\n",
      "Rodando Amaranthus_spinosus VERSUS hexenal...\n",
      "Rodando Amaranthus_spinosus VERSUS beta-caryophyllene...\n",
      "Rodando Amaranthus_spinosus VERSUS tricine...\n",
      "Rodando Amaranthus_spinosus VERSUS jasmonic_acid...\n",
      "Rodando Amaranthus_spinosus VERSUS indole...\n",
      "Rodando Amaranthus_spinosus VERSUS alpha-terpinene...\n",
      "Rodando Digitaria_spp. VERSUS ethylene...\n",
      "Rodando Digitaria_spp. VERSUS bicylogermacrene...\n",
      "Rodando Digitaria_spp. VERSUS E-beta-ocimene...\n",
      "Rodando Digitaria_spp. VERSUS beta-ocimene...\n",
      "Rodando Digitaria_spp. VERSUS eugenol...\n",
      "Rodando Digitaria_spp. VERSUS alpha-humulene...\n",
      "Rodando Digitaria_spp. VERSUS strigol...\n",
      "Rodando Digitaria_spp. VERSUS beta-phellandrene...\n",
      "Rodando Digitaria_spp. VERSUS gamma-terpinene...\n",
      "Rodando Digitaria_spp. VERSUS beta-bisabolene...\n",
      "Rodando Digitaria_spp. VERSUS alpha-pinene...\n",
      "Rodando Digitaria_spp. VERSUS 1-8-cineole...\n",
      "Rodando Digitaria_spp. VERSUS terpinolene...\n",
      "Rodando Digitaria_spp. VERSUS dimboa...\n",
      "Rodando Digitaria_spp. VERSUS 8-cadinene...\n",
      "Rodando Digitaria_spp. VERSUS myrcene...\n",
      "Rodando Digitaria_spp. VERSUS luteolin...\n",
      "Rodando Digitaria_spp. VERSUS methyl_jasmonate...\n",
      "Rodando Digitaria_spp. VERSUS hexenal...\n",
      "Rodando Digitaria_spp. VERSUS beta-caryophyllene...\n",
      "Rodando Digitaria_spp. VERSUS tricine...\n",
      "Rodando Digitaria_spp. VERSUS jasmonic_acid...\n",
      "Rodando Digitaria_spp. VERSUS indole...\n",
      "Rodando Digitaria_spp. VERSUS alpha-terpinene...\n",
      "Rodando Murdannia_nudiflora VERSUS ethylene...\n",
      "Rodando Murdannia_nudiflora VERSUS bicylogermacrene...\n",
      "Rodando Murdannia_nudiflora VERSUS E-beta-ocimene...\n",
      "Rodando Murdannia_nudiflora VERSUS beta-ocimene...\n",
      "Rodando Murdannia_nudiflora VERSUS eugenol...\n",
      "Rodando Murdannia_nudiflora VERSUS alpha-humulene...\n",
      "Rodando Murdannia_nudiflora VERSUS strigol...\n",
      "Rodando Murdannia_nudiflora VERSUS beta-phellandrene...\n",
      "Rodando Murdannia_nudiflora VERSUS gamma-terpinene...\n",
      "Rodando Murdannia_nudiflora VERSUS beta-bisabolene...\n",
      "Rodando Murdannia_nudiflora VERSUS alpha-pinene...\n",
      "Rodando Murdannia_nudiflora VERSUS 1-8-cineole...\n",
      "Rodando Murdannia_nudiflora VERSUS terpinolene...\n",
      "Rodando Murdannia_nudiflora VERSUS dimboa...\n",
      "Rodando Murdannia_nudiflora VERSUS 8-cadinene...\n",
      "Rodando Murdannia_nudiflora VERSUS myrcene...\n",
      "Rodando Murdannia_nudiflora VERSUS luteolin...\n",
      "Rodando Murdannia_nudiflora VERSUS methyl_jasmonate...\n",
      "Rodando Murdannia_nudiflora VERSUS hexenal...\n",
      "Rodando Murdannia_nudiflora VERSUS beta-caryophyllene...\n",
      "Rodando Murdannia_nudiflora VERSUS tricine...\n",
      "Rodando Murdannia_nudiflora VERSUS jasmonic_acid...\n",
      "Rodando Murdannia_nudiflora VERSUS indole...\n",
      "Rodando Murdannia_nudiflora VERSUS alpha-terpinene...\n",
      "Rodando Rhynchelytrum_repens VERSUS ethylene...\n",
      "Rodando Rhynchelytrum_repens VERSUS bicylogermacrene...\n",
      "Rodando Rhynchelytrum_repens VERSUS E-beta-ocimene...\n",
      "Rodando Rhynchelytrum_repens VERSUS beta-ocimene...\n",
      "Rodando Rhynchelytrum_repens VERSUS eugenol...\n",
      "Rodando Rhynchelytrum_repens VERSUS alpha-humulene...\n",
      "Rodando Rhynchelytrum_repens VERSUS strigol...\n",
      "Rodando Rhynchelytrum_repens VERSUS beta-phellandrene...\n",
      "Rodando Rhynchelytrum_repens VERSUS gamma-terpinene...\n",
      "Rodando Rhynchelytrum_repens VERSUS beta-bisabolene...\n",
      "Rodando Rhynchelytrum_repens VERSUS alpha-pinene...\n",
      "Rodando Rhynchelytrum_repens VERSUS 1-8-cineole...\n",
      "Rodando Rhynchelytrum_repens VERSUS terpinolene...\n",
      "Rodando Rhynchelytrum_repens VERSUS dimboa...\n",
      "Rodando Rhynchelytrum_repens VERSUS 8-cadinene...\n",
      "Rodando Rhynchelytrum_repens VERSUS myrcene...\n",
      "Rodando Rhynchelytrum_repens VERSUS luteolin...\n",
      "Rodando Rhynchelytrum_repens VERSUS methyl_jasmonate...\n",
      "Rodando Rhynchelytrum_repens VERSUS hexenal...\n",
      "Rodando Rhynchelytrum_repens VERSUS beta-caryophyllene...\n",
      "Rodando Rhynchelytrum_repens VERSUS tricine...\n",
      "Rodando Rhynchelytrum_repens VERSUS jasmonic_acid...\n",
      "Rodando Rhynchelytrum_repens VERSUS indole...\n",
      "Rodando Rhynchelytrum_repens VERSUS alpha-terpinene...\n",
      "Rodando Ipomoea_purpurea VERSUS ethylene...\n",
      "Rodando Ipomoea_purpurea VERSUS bicylogermacrene...\n",
      "Rodando Ipomoea_purpurea VERSUS E-beta-ocimene...\n",
      "Rodando Ipomoea_purpurea VERSUS beta-ocimene...\n",
      "Rodando Ipomoea_purpurea VERSUS eugenol...\n",
      "Rodando Ipomoea_purpurea VERSUS alpha-humulene...\n",
      "Rodando Ipomoea_purpurea VERSUS strigol...\n",
      "Rodando Ipomoea_purpurea VERSUS beta-phellandrene...\n",
      "Rodando Ipomoea_purpurea VERSUS gamma-terpinene...\n",
      "Rodando Ipomoea_purpurea VERSUS beta-bisabolene...\n",
      "Rodando Ipomoea_purpurea VERSUS alpha-pinene...\n",
      "Rodando Ipomoea_purpurea VERSUS 1-8-cineole...\n",
      "Rodando Ipomoea_purpurea VERSUS terpinolene...\n",
      "Rodando Ipomoea_purpurea VERSUS dimboa...\n",
      "Rodando Ipomoea_purpurea VERSUS 8-cadinene...\n",
      "Rodando Ipomoea_purpurea VERSUS myrcene...\n",
      "Rodando Ipomoea_purpurea VERSUS luteolin...\n",
      "Rodando Ipomoea_purpurea VERSUS methyl_jasmonate...\n",
      "Rodando Ipomoea_purpurea VERSUS hexenal...\n",
      "Rodando Ipomoea_purpurea VERSUS beta-caryophyllene...\n",
      "Rodando Ipomoea_purpurea VERSUS tricine...\n",
      "Rodando Ipomoea_purpurea VERSUS jasmonic_acid...\n",
      "Rodando Ipomoea_purpurea VERSUS indole...\n",
      "Rodando Ipomoea_purpurea VERSUS alpha-terpinene...\n",
      "Rodando Ipomoea_grandifolia VERSUS ethylene...\n",
      "Rodando Ipomoea_grandifolia VERSUS bicylogermacrene...\n",
      "Rodando Ipomoea_grandifolia VERSUS E-beta-ocimene...\n",
      "Rodando Ipomoea_grandifolia VERSUS beta-ocimene...\n",
      "Rodando Ipomoea_grandifolia VERSUS eugenol...\n",
      "Rodando Ipomoea_grandifolia VERSUS alpha-humulene...\n",
      "Rodando Ipomoea_grandifolia VERSUS strigol...\n",
      "Rodando Ipomoea_grandifolia VERSUS beta-phellandrene...\n",
      "Rodando Ipomoea_grandifolia VERSUS gamma-terpinene...\n",
      "Rodando Ipomoea_grandifolia VERSUS beta-bisabolene...\n",
      "Rodando Ipomoea_grandifolia VERSUS alpha-pinene...\n",
      "Rodando Ipomoea_grandifolia VERSUS 1-8-cineole...\n",
      "Rodando Ipomoea_grandifolia VERSUS terpinolene...\n",
      "Rodando Ipomoea_grandifolia VERSUS dimboa...\n",
      "Rodando Ipomoea_grandifolia VERSUS 8-cadinene...\n",
      "Rodando Ipomoea_grandifolia VERSUS myrcene...\n",
      "Rodando Ipomoea_grandifolia VERSUS luteolin...\n",
      "Rodando Ipomoea_grandifolia VERSUS methyl_jasmonate...\n",
      "Rodando Ipomoea_grandifolia VERSUS hexenal...\n",
      "Rodando Ipomoea_grandifolia VERSUS beta-caryophyllene...\n",
      "Rodando Ipomoea_grandifolia VERSUS tricine...\n",
      "Rodando Ipomoea_grandifolia VERSUS jasmonic_acid...\n",
      "Rodando Ipomoea_grandifolia VERSUS indole...\n",
      "Rodando Ipomoea_grandifolia VERSUS alpha-terpinene...\n",
      "Rodando Coronopus_didymus VERSUS ethylene...\n",
      "Rodando Coronopus_didymus VERSUS bicylogermacrene...\n",
      "Rodando Coronopus_didymus VERSUS E-beta-ocimene...\n",
      "Rodando Coronopus_didymus VERSUS beta-ocimene...\n",
      "Rodando Coronopus_didymus VERSUS eugenol...\n",
      "Rodando Coronopus_didymus VERSUS alpha-humulene...\n",
      "Rodando Coronopus_didymus VERSUS strigol...\n",
      "Rodando Coronopus_didymus VERSUS beta-phellandrene...\n",
      "Rodando Coronopus_didymus VERSUS gamma-terpinene...\n",
      "Rodando Coronopus_didymus VERSUS beta-bisabolene...\n",
      "Rodando Coronopus_didymus VERSUS alpha-pinene...\n",
      "Rodando Coronopus_didymus VERSUS 1-8-cineole...\n",
      "Rodando Coronopus_didymus VERSUS terpinolene...\n",
      "Rodando Coronopus_didymus VERSUS dimboa...\n",
      "Rodando Coronopus_didymus VERSUS 8-cadinene...\n",
      "Rodando Coronopus_didymus VERSUS myrcene...\n",
      "Rodando Coronopus_didymus VERSUS luteolin...\n",
      "Rodando Coronopus_didymus VERSUS methyl_jasmonate...\n",
      "Rodando Coronopus_didymus VERSUS hexenal...\n",
      "Rodando Coronopus_didymus VERSUS beta-caryophyllene...\n",
      "Rodando Coronopus_didymus VERSUS tricine...\n",
      "Rodando Coronopus_didymus VERSUS jasmonic_acid...\n",
      "Rodando Coronopus_didymus VERSUS indole...\n",
      "Rodando Coronopus_didymus VERSUS alpha-terpinene...\n",
      "Rodando Sorghum_halepense VERSUS ethylene...\n",
      "Rodando Sorghum_halepense VERSUS bicylogermacrene...\n",
      "Rodando Sorghum_halepense VERSUS E-beta-ocimene...\n",
      "Rodando Sorghum_halepense VERSUS beta-ocimene...\n",
      "Rodando Sorghum_halepense VERSUS eugenol...\n",
      "Rodando Sorghum_halepense VERSUS alpha-humulene...\n",
      "Rodando Sorghum_halepense VERSUS strigol...\n"
     ]
    },
    {
     "name": "stdout",
     "output_type": "stream",
     "text": [
      "Rodando Sorghum_halepense VERSUS beta-phellandrene...\n",
      "Rodando Sorghum_halepense VERSUS gamma-terpinene...\n",
      "Rodando Sorghum_halepense VERSUS beta-bisabolene...\n",
      "Rodando Sorghum_halepense VERSUS alpha-pinene...\n",
      "Rodando Sorghum_halepense VERSUS 1-8-cineole...\n",
      "Rodando Sorghum_halepense VERSUS terpinolene...\n",
      "Rodando Sorghum_halepense VERSUS dimboa...\n",
      "Rodando Sorghum_halepense VERSUS 8-cadinene...\n",
      "Rodando Sorghum_halepense VERSUS myrcene...\n",
      "Rodando Sorghum_halepense VERSUS luteolin...\n",
      "Rodando Sorghum_halepense VERSUS methyl_jasmonate...\n",
      "Rodando Sorghum_halepense VERSUS hexenal...\n",
      "Rodando Sorghum_halepense VERSUS beta-caryophyllene...\n",
      "Rodando Sorghum_halepense VERSUS tricine...\n",
      "Rodando Sorghum_halepense VERSUS jasmonic_acid...\n",
      "Rodando Sorghum_halepense VERSUS indole...\n",
      "Rodando Sorghum_halepense VERSUS alpha-terpinene...\n",
      "Rodando Phyllanthus_tenellus VERSUS ethylene...\n",
      "Rodando Phyllanthus_tenellus VERSUS bicylogermacrene...\n",
      "Rodando Phyllanthus_tenellus VERSUS E-beta-ocimene...\n",
      "Rodando Phyllanthus_tenellus VERSUS beta-ocimene...\n",
      "Rodando Phyllanthus_tenellus VERSUS eugenol...\n",
      "Rodando Phyllanthus_tenellus VERSUS alpha-humulene...\n",
      "Rodando Phyllanthus_tenellus VERSUS strigol...\n",
      "Rodando Phyllanthus_tenellus VERSUS beta-phellandrene...\n",
      "Rodando Phyllanthus_tenellus VERSUS gamma-terpinene...\n",
      "Rodando Phyllanthus_tenellus VERSUS beta-bisabolene...\n",
      "Rodando Phyllanthus_tenellus VERSUS alpha-pinene...\n",
      "Rodando Phyllanthus_tenellus VERSUS 1-8-cineole...\n",
      "Rodando Phyllanthus_tenellus VERSUS terpinolene...\n",
      "Rodando Phyllanthus_tenellus VERSUS dimboa...\n",
      "Rodando Phyllanthus_tenellus VERSUS 8-cadinene...\n",
      "Rodando Phyllanthus_tenellus VERSUS myrcene...\n",
      "Rodando Phyllanthus_tenellus VERSUS luteolin...\n",
      "Rodando Phyllanthus_tenellus VERSUS methyl_jasmonate...\n",
      "Rodando Phyllanthus_tenellus VERSUS hexenal...\n",
      "Rodando Phyllanthus_tenellus VERSUS beta-caryophyllene...\n",
      "Rodando Phyllanthus_tenellus VERSUS tricine...\n",
      "Rodando Phyllanthus_tenellus VERSUS jasmonic_acid...\n",
      "Rodando Phyllanthus_tenellus VERSUS indole...\n",
      "Rodando Phyllanthus_tenellus VERSUS alpha-terpinene...\n",
      "Rodando Digitaria_insularis VERSUS ethylene...\n",
      "Rodando Digitaria_insularis VERSUS bicylogermacrene...\n",
      "Rodando Digitaria_insularis VERSUS E-beta-ocimene...\n",
      "Rodando Digitaria_insularis VERSUS beta-ocimene...\n",
      "Rodando Digitaria_insularis VERSUS eugenol...\n",
      "Rodando Digitaria_insularis VERSUS alpha-humulene...\n",
      "Rodando Digitaria_insularis VERSUS strigol...\n",
      "Rodando Digitaria_insularis VERSUS beta-phellandrene...\n",
      "Rodando Digitaria_insularis VERSUS gamma-terpinene...\n",
      "Rodando Digitaria_insularis VERSUS beta-bisabolene...\n",
      "Rodando Digitaria_insularis VERSUS alpha-pinene...\n",
      "Rodando Digitaria_insularis VERSUS 1-8-cineole...\n",
      "Rodando Digitaria_insularis VERSUS terpinolene...\n",
      "Rodando Digitaria_insularis VERSUS dimboa...\n",
      "Rodando Digitaria_insularis VERSUS 8-cadinene...\n",
      "Rodando Digitaria_insularis VERSUS myrcene...\n",
      "Rodando Digitaria_insularis VERSUS luteolin...\n",
      "Rodando Digitaria_insularis VERSUS methyl_jasmonate...\n",
      "Rodando Digitaria_insularis VERSUS hexenal...\n",
      "Rodando Digitaria_insularis VERSUS beta-caryophyllene...\n",
      "Rodando Digitaria_insularis VERSUS tricine...\n",
      "Rodando Digitaria_insularis VERSUS jasmonic_acid...\n",
      "Rodando Digitaria_insularis VERSUS indole...\n",
      "Rodando Digitaria_insularis VERSUS alpha-terpinene...\n",
      "Rodando Setaria_geniculata VERSUS ethylene...\n",
      "Rodando Setaria_geniculata VERSUS bicylogermacrene...\n",
      "Rodando Setaria_geniculata VERSUS E-beta-ocimene...\n",
      "Rodando Setaria_geniculata VERSUS beta-ocimene...\n",
      "Rodando Setaria_geniculata VERSUS eugenol...\n",
      "Rodando Setaria_geniculata VERSUS alpha-humulene...\n",
      "Rodando Setaria_geniculata VERSUS strigol...\n",
      "Rodando Setaria_geniculata VERSUS beta-phellandrene...\n",
      "Rodando Setaria_geniculata VERSUS gamma-terpinene...\n",
      "Rodando Setaria_geniculata VERSUS beta-bisabolene...\n",
      "Rodando Setaria_geniculata VERSUS alpha-pinene...\n",
      "Rodando Setaria_geniculata VERSUS 1-8-cineole...\n",
      "Rodando Setaria_geniculata VERSUS terpinolene...\n",
      "Rodando Setaria_geniculata VERSUS dimboa...\n",
      "Rodando Setaria_geniculata VERSUS 8-cadinene...\n",
      "Rodando Setaria_geniculata VERSUS myrcene...\n",
      "Rodando Setaria_geniculata VERSUS luteolin...\n",
      "Rodando Setaria_geniculata VERSUS methyl_jasmonate...\n",
      "Rodando Setaria_geniculata VERSUS hexenal...\n",
      "Rodando Setaria_geniculata VERSUS beta-caryophyllene...\n",
      "Rodando Setaria_geniculata VERSUS tricine...\n",
      "Rodando Setaria_geniculata VERSUS jasmonic_acid...\n",
      "Rodando Setaria_geniculata VERSUS indole...\n",
      "Rodando Setaria_geniculata VERSUS alpha-terpinene...\n"
     ]
    }
   ],
   "source": [
    "runBlast(\"proteinas_plantas_daninhas\", \"blastdb\")"
   ]
  },
  {
   "cell_type": "code",
   "execution_count": 80,
   "id": "02297ee3",
   "metadata": {},
   "outputs": [],
   "source": [
    "def checkResultFiles(folder):\n",
    "    '''\n",
    "    Função que remove os arquivos sem resultados\n",
    "    '''\n",
    "    files = pathlib.Path(folder).glob(\"*.tab\") # lista arquivos .fasta da pasta\n",
    "    for file in files:\n",
    "        if os.path.getsize(str(file)) == 0:# Arquivo vazio?\n",
    "            os.remove(str(file)) # remove"
   ]
  },
  {
   "cell_type": "code",
   "execution_count": 81,
   "id": "6bb4a51e",
   "metadata": {},
   "outputs": [],
   "source": [
    "# Removendo arquivos com resultado vazio ou sem resultados\n",
    "checkResultFiles(\"blast_results\")"
   ]
  },
  {
   "cell_type": "code",
   "execution_count": 85,
   "id": "341e137a",
   "metadata": {},
   "outputs": [
    {
     "data": {
      "text/html": [
       "<div>\n",
       "<style scoped>\n",
       "    .dataframe tbody tr th:only-of-type {\n",
       "        vertical-align: middle;\n",
       "    }\n",
       "\n",
       "    .dataframe tbody tr th {\n",
       "        vertical-align: top;\n",
       "    }\n",
       "\n",
       "    .dataframe thead th {\n",
       "        text-align: right;\n",
       "    }\n",
       "</style>\n",
       "<table border=\"1\" class=\"dataframe\">\n",
       "  <thead>\n",
       "    <tr style=\"text-align: right;\">\n",
       "      <th></th>\n",
       "      <th>id_proteina_planta</th>\n",
       "      <th>id_enzima</th>\n",
       "      <th>porcent_identidade</th>\n",
       "      <th>tamanho</th>\n",
       "      <th>mismatch</th>\n",
       "      <th>gapopen</th>\n",
       "      <th>qstart</th>\n",
       "      <th>qend</th>\n",
       "      <th>sstart</th>\n",
       "      <th>send</th>\n",
       "      <th>evalue</th>\n",
       "      <th>bitscore</th>\n",
       "    </tr>\n",
       "  </thead>\n",
       "  <tbody>\n",
       "    <tr>\n",
       "      <th>0</th>\n",
       "      <td>XP_019175963.1</td>\n",
       "      <td>sp|P0DI77|CIN2_ARATH</td>\n",
       "      <td>45.199</td>\n",
       "      <td>604</td>\n",
       "      <td>309</td>\n",
       "      <td>12</td>\n",
       "      <td>9474993</td>\n",
       "      <td>9475584</td>\n",
       "      <td>1</td>\n",
       "      <td>594</td>\n",
       "      <td>4.720000e-165</td>\n",
       "      <td>525</td>\n",
       "    </tr>\n",
       "    <tr>\n",
       "      <th>1</th>\n",
       "      <td>XP_019175963.1</td>\n",
       "      <td>sp|P0DI76|CIN1_ARATH</td>\n",
       "      <td>45.199</td>\n",
       "      <td>604</td>\n",
       "      <td>309</td>\n",
       "      <td>12</td>\n",
       "      <td>9474993</td>\n",
       "      <td>9475584</td>\n",
       "      <td>1</td>\n",
       "      <td>594</td>\n",
       "      <td>4.720000e-165</td>\n",
       "      <td>525</td>\n",
       "    </tr>\n",
       "    <tr>\n",
       "      <th>2</th>\n",
       "      <td>XP_019175963.1</td>\n",
       "      <td>tr|A0A221I0G1|A0A221I0G1_9LAMI</td>\n",
       "      <td>44.821</td>\n",
       "      <td>560</td>\n",
       "      <td>293</td>\n",
       "      <td>7</td>\n",
       "      <td>7532349</td>\n",
       "      <td>7532906</td>\n",
       "      <td>5</td>\n",
       "      <td>550</td>\n",
       "      <td>9.010000e-152</td>\n",
       "      <td>486</td>\n",
       "    </tr>\n",
       "    <tr>\n",
       "      <th>3</th>\n",
       "      <td>XP_019175963.1</td>\n",
       "      <td>sp|O81191|SCS_SALOF</td>\n",
       "      <td>45.324</td>\n",
       "      <td>556</td>\n",
       "      <td>279</td>\n",
       "      <td>11</td>\n",
       "      <td>7532350</td>\n",
       "      <td>7532902</td>\n",
       "      <td>55</td>\n",
       "      <td>588</td>\n",
       "      <td>1.070000e-149</td>\n",
       "      <td>480</td>\n",
       "    </tr>\n",
       "    <tr>\n",
       "      <th>4</th>\n",
       "      <td>XP_019175963.1</td>\n",
       "      <td>tr|A0A2G9HPL7|A0A2G9HPL7_9LAMI</td>\n",
       "      <td>48.424</td>\n",
       "      <td>349</td>\n",
       "      <td>171</td>\n",
       "      <td>6</td>\n",
       "      <td>9473336</td>\n",
       "      <td>9473681</td>\n",
       "      <td>4</td>\n",
       "      <td>346</td>\n",
       "      <td>1.820000e-105</td>\n",
       "      <td>343</td>\n",
       "    </tr>\n",
       "    <tr>\n",
       "      <th>5</th>\n",
       "      <td>XP_019175963.1</td>\n",
       "      <td>tr|A0A2G9HSG6|A0A2G9HSG6_9LAMI</td>\n",
       "      <td>48.837</td>\n",
       "      <td>172</td>\n",
       "      <td>84</td>\n",
       "      <td>3</td>\n",
       "      <td>7532734</td>\n",
       "      <td>7532904</td>\n",
       "      <td>11</td>\n",
       "      <td>179</td>\n",
       "      <td>9.780000e-47</td>\n",
       "      <td>167</td>\n",
       "    </tr>\n",
       "  </tbody>\n",
       "</table>\n",
       "</div>"
      ],
      "text/plain": [
       "  id_proteina_planta                       id_enzima  porcent_identidade  \\\n",
       "0     XP_019175963.1            sp|P0DI77|CIN2_ARATH              45.199   \n",
       "1     XP_019175963.1            sp|P0DI76|CIN1_ARATH              45.199   \n",
       "2     XP_019175963.1  tr|A0A221I0G1|A0A221I0G1_9LAMI              44.821   \n",
       "3     XP_019175963.1             sp|O81191|SCS_SALOF              45.324   \n",
       "4     XP_019175963.1  tr|A0A2G9HPL7|A0A2G9HPL7_9LAMI              48.424   \n",
       "5     XP_019175963.1  tr|A0A2G9HSG6|A0A2G9HSG6_9LAMI              48.837   \n",
       "\n",
       "   tamanho  mismatch  gapopen   qstart     qend  sstart  send         evalue  \\\n",
       "0      604       309       12  9474993  9475584       1   594  4.720000e-165   \n",
       "1      604       309       12  9474993  9475584       1   594  4.720000e-165   \n",
       "2      560       293        7  7532349  7532906       5   550  9.010000e-152   \n",
       "3      556       279       11  7532350  7532902      55   588  1.070000e-149   \n",
       "4      349       171        6  9473336  9473681       4   346  1.820000e-105   \n",
       "5      172        84        3  7532734  7532904      11   179   9.780000e-47   \n",
       "\n",
       "   bitscore  \n",
       "0       525  \n",
       "1       525  \n",
       "2       486  \n",
       "3       480  \n",
       "4       343  \n",
       "5       167  "
      ]
     },
     "execution_count": 85,
     "metadata": {},
     "output_type": "execute_result"
    }
   ],
   "source": [
    "filename = \"blast_results/Ipomoea_nil_VERSUS_1-8-cineole.blast.tab\"\n",
    "df = pd.read_csv(\n",
    "    filename, \n",
    "    header = None, \n",
    "    sep='\\t', \n",
    "    names=[\"id_proteina_planta\", \"id_enzima\", \"porcent_identidade\", \"tamanho\", \"mismatch\", \"gapopen\", \"qstart\", \"qend\", \"sstart\", \"send\", \"evalue\", \"bitscore\"]\n",
    ")\n",
    "df"
   ]
  },
  {
   "cell_type": "markdown",
   "id": "2681e4c9",
   "metadata": {},
   "source": [
    "## Gerando arquivo para grafico"
   ]
  },
  {
   "cell_type": "code",
   "execution_count": 18,
   "id": "89b2b7fe",
   "metadata": {},
   "outputs": [],
   "source": [
    "files = pathlib.Path(\"blast_results\").glob(\"*.tab\") # lista arquivos .fasta da pasta\n",
    "result = []\n",
    "for file in files:\n",
    "    rs = str(file).split(\"/\")[1][:-10].split(\"_VERSUS_\")\n",
    "    result.append( (rs[0].replace(\"_\",\" \"), rs[1]) )"
   ]
  },
  {
   "cell_type": "code",
   "execution_count": 32,
   "id": "8bd8f3e3",
   "metadata": {},
   "outputs": [],
   "source": [
    "with open('planta_versus_metabolito.csv', 'w') as planta_versus_metabolito:\n",
    "    planta_versus_metabolito.write(f\"Planta,Metabólito\\n\")\n",
    "    for tupla in result:\n",
    "        planta = tupla[0]\n",
    "        metabolito = str(tupla[1]).replace(\"_\",\" \")\n",
    "        planta_versus_metabolito.write(f\"{planta},{metabolito}\\n\")"
   ]
  },
  {
   "cell_type": "markdown",
   "id": "9e2b4075",
   "metadata": {},
   "source": [
    "## Gerando o gráfico planta versus metabolito"
   ]
  },
  {
   "cell_type": "code",
   "execution_count": 81,
   "id": "67ee6004",
   "metadata": {},
   "outputs": [
    {
     "data": {
      "text/html": [
       "<div>\n",
       "<style scoped>\n",
       "    .dataframe tbody tr th:only-of-type {\n",
       "        vertical-align: middle;\n",
       "    }\n",
       "\n",
       "    .dataframe tbody tr th {\n",
       "        vertical-align: top;\n",
       "    }\n",
       "\n",
       "    .dataframe thead th {\n",
       "        text-align: right;\n",
       "    }\n",
       "</style>\n",
       "<table border=\"1\" class=\"dataframe\">\n",
       "  <thead>\n",
       "    <tr style=\"text-align: right;\">\n",
       "      <th></th>\n",
       "      <th>Planta</th>\n",
       "      <th>Metabólito</th>\n",
       "    </tr>\n",
       "  </thead>\n",
       "  <tbody>\n",
       "    <tr>\n",
       "      <th>0</th>\n",
       "      <td>Eleusine indica</td>\n",
       "      <td>strigol</td>\n",
       "    </tr>\n",
       "    <tr>\n",
       "      <th>1</th>\n",
       "      <td>Brachiaria brizantha</td>\n",
       "      <td>alpha-pinene</td>\n",
       "    </tr>\n",
       "    <tr>\n",
       "      <th>2</th>\n",
       "      <td>Amaranthus hybridus</td>\n",
       "      <td>hexenal</td>\n",
       "    </tr>\n",
       "    <tr>\n",
       "      <th>3</th>\n",
       "      <td>Eleusine indica</td>\n",
       "      <td>alpha-terpinene</td>\n",
       "    </tr>\n",
       "    <tr>\n",
       "      <th>4</th>\n",
       "      <td>Emilia sonchifolia</td>\n",
       "      <td>indole</td>\n",
       "    </tr>\n",
       "    <tr>\n",
       "      <th>...</th>\n",
       "      <td>...</td>\n",
       "      <td>...</td>\n",
       "    </tr>\n",
       "    <tr>\n",
       "      <th>169</th>\n",
       "      <td>Ipomoea nil</td>\n",
       "      <td>hexenal</td>\n",
       "    </tr>\n",
       "    <tr>\n",
       "      <th>170</th>\n",
       "      <td>Eleusine indica</td>\n",
       "      <td>alpha-pinene</td>\n",
       "    </tr>\n",
       "    <tr>\n",
       "      <th>171</th>\n",
       "      <td>Nicandra physaloides</td>\n",
       "      <td>indole</td>\n",
       "    </tr>\n",
       "    <tr>\n",
       "      <th>172</th>\n",
       "      <td>Eleusine indica</td>\n",
       "      <td>8-cadinene</td>\n",
       "    </tr>\n",
       "    <tr>\n",
       "      <th>173</th>\n",
       "      <td>Pogostemon patchouli</td>\n",
       "      <td>alpha-humulene</td>\n",
       "    </tr>\n",
       "  </tbody>\n",
       "</table>\n",
       "<p>174 rows × 2 columns</p>\n",
       "</div>"
      ],
      "text/plain": [
       "                   Planta       Metabólito\n",
       "0         Eleusine indica          strigol\n",
       "1    Brachiaria brizantha     alpha-pinene\n",
       "2     Amaranthus hybridus          hexenal\n",
       "3         Eleusine indica  alpha-terpinene\n",
       "4      Emilia sonchifolia           indole\n",
       "..                    ...              ...\n",
       "169           Ipomoea nil          hexenal\n",
       "170       Eleusine indica     alpha-pinene\n",
       "171  Nicandra physaloides           indole\n",
       "172       Eleusine indica       8-cadinene\n",
       "173  Pogostemon patchouli   alpha-humulene\n",
       "\n",
       "[174 rows x 2 columns]"
      ]
     },
     "execution_count": 81,
     "metadata": {},
     "output_type": "execute_result"
    }
   ],
   "source": [
    "df = pd.read_csv('planta_versus_metabolito.csv')  \n",
    "df"
   ]
  },
  {
   "cell_type": "code",
   "execution_count": 92,
   "id": "28e8af66",
   "metadata": {},
   "outputs": [
    {
     "data": {
      "application/vnd.plotly.v1+json": {
       "config": {
        "plotlyServerURL": "https://plot.ly"
       },
       "data": [
        {
         "legendgroup": "strigol",
         "marker": {
          "color": "#636efa",
          "symbol": "circle"
         },
         "mode": "markers",
         "name": "strigol",
         "orientation": "v",
         "showlegend": true,
         "type": "scatter",
         "x": [
          "strigol",
          "strigol",
          "strigol",
          "strigol",
          "strigol",
          "strigol",
          "strigol",
          "strigol",
          "strigol",
          "strigol",
          "strigol",
          "strigol",
          "strigol",
          "strigol",
          "strigol",
          "strigol",
          "strigol",
          "strigol",
          "strigol",
          "strigol",
          "strigol",
          "strigol",
          "strigol",
          "strigol",
          "strigol",
          "strigol",
          "strigol",
          "strigol",
          "strigol"
         ],
         "xaxis": "x",
         "y": [
          "Eleusine indica",
          "Ipomoea nil",
          "Panicum maximum",
          "Galinsoga parviflora",
          "Sonchus oleraceus",
          "Parthenium hysterophorus",
          "Raphanus raphanistrum",
          "Avena fatua",
          "Echinochloa colonum",
          "Amaranthus spinosus",
          "Amaranthus hybridus",
          "Brachiaria brizantha",
          "Sorghum halepense",
          "Nicandra physaloides",
          "Siegesbeckia orientalis",
          "Senna obtusifolia",
          "Brachiaria decumbens",
          "Ipomoea purpurea",
          "Amaranthus deflexus",
          "Alternanthera tenella",
          "Amaranthus viridis",
          "Leonotis nepetifolia",
          "Ageratum conyzoides",
          "Lolium multiflorum",
          "Pogostemon patchouli",
          "Cenchrus echinatus",
          "Portulaca oleracea",
          "Amaranthus palmeri",
          "cyperus rotundus"
         ],
         "yaxis": "y"
        },
        {
         "legendgroup": "alpha-pinene",
         "marker": {
          "color": "#EF553B",
          "symbol": "circle"
         },
         "mode": "markers",
         "name": "alpha-pinene",
         "orientation": "v",
         "showlegend": true,
         "type": "scatter",
         "x": [
          "alpha-pinene",
          "alpha-pinene",
          "alpha-pinene",
          "alpha-pinene",
          "alpha-pinene",
          "alpha-pinene",
          "alpha-pinene",
          "alpha-pinene",
          "alpha-pinene",
          "alpha-pinene",
          "alpha-pinene",
          "alpha-pinene",
          "alpha-pinene",
          "alpha-pinene",
          "alpha-pinene",
          "alpha-pinene",
          "alpha-pinene",
          "alpha-pinene",
          "alpha-pinene",
          "alpha-pinene",
          "alpha-pinene",
          "alpha-pinene",
          "alpha-pinene",
          "alpha-pinene",
          "alpha-pinene",
          "alpha-pinene",
          "alpha-pinene",
          "alpha-pinene",
          "alpha-pinene",
          "alpha-pinene",
          "alpha-pinene",
          "alpha-pinene"
         ],
         "xaxis": "x",
         "y": [
          "Brachiaria brizantha",
          "Sorghum halepense",
          "Ageratum conyzoides",
          "Nicandra physaloides",
          "Senna obtusifolia",
          "Avena fatua",
          "Cenchrus echinatus",
          "Lolium multiflorum",
          "Galinsoga parviflora",
          "Rhynchelytrum repens",
          "Amaranthus deflexus",
          "Brachiaria decumbens",
          "Ipomoea purpurea",
          "cyperus rotundus",
          "Raphanus raphanistrum",
          "Amaranthus palmeri",
          "Amaranthus hybridus",
          "Pogostemon patchouli",
          "Amaranthus viridis",
          "Emilia sonchifolia",
          "Amaranthus spinosus",
          "Ipomoea nil",
          "Alternanthera tenella",
          "Parthenium hysterophorus",
          "Siegesbeckia orientalis",
          "Portulaca oleracea",
          "Panicum maximum",
          "Echinochloa colonum",
          "Solanum americanum",
          "Sonchus oleraceus",
          "Leonotis nepetifolia",
          "Eleusine indica"
         ],
         "yaxis": "y"
        },
        {
         "legendgroup": "hexenal",
         "marker": {
          "color": "#00cc96",
          "symbol": "circle"
         },
         "mode": "markers",
         "name": "hexenal",
         "orientation": "v",
         "showlegend": true,
         "type": "scatter",
         "x": [
          "hexenal",
          "hexenal",
          "hexenal",
          "hexenal",
          "hexenal",
          "hexenal"
         ],
         "xaxis": "x",
         "y": [
          "Amaranthus hybridus",
          "Amaranthus palmeri",
          "Amaranthus spinosus",
          "Pogostemon patchouli",
          "Amaranthus viridis",
          "Ipomoea nil"
         ],
         "yaxis": "y"
        },
        {
         "legendgroup": "alpha-terpinene",
         "marker": {
          "color": "#ab63fa",
          "symbol": "circle"
         },
         "mode": "markers",
         "name": "alpha-terpinene",
         "orientation": "v",
         "showlegend": true,
         "type": "scatter",
         "x": [
          "alpha-terpinene",
          "alpha-terpinene",
          "alpha-terpinene",
          "alpha-terpinene"
         ],
         "xaxis": "x",
         "y": [
          "Eleusine indica",
          "Ipomoea nil",
          "Pogostemon patchouli",
          "Hyptys suaveolens"
         ],
         "yaxis": "y"
        },
        {
         "legendgroup": "indole",
         "marker": {
          "color": "#FFA15A",
          "symbol": "circle"
         },
         "mode": "markers",
         "name": "indole",
         "orientation": "v",
         "showlegend": true,
         "type": "scatter",
         "x": [
          "indole",
          "indole",
          "indole",
          "indole",
          "indole",
          "indole",
          "indole",
          "indole",
          "indole",
          "indole",
          "indole",
          "indole",
          "indole",
          "indole",
          "indole",
          "indole",
          "indole",
          "indole",
          "indole",
          "indole",
          "indole",
          "indole",
          "indole",
          "indole",
          "indole",
          "indole",
          "indole",
          "indole",
          "indole",
          "indole",
          "indole",
          "indole"
         ],
         "xaxis": "x",
         "y": [
          "Emilia sonchifolia",
          "Echinochloa colonum",
          "Cenchrus echinatus",
          "Leonotis nepetifolia",
          "Senna obtusifolia",
          "Ipomoea nil",
          "Sonchus oleraceus",
          "Alternanthera tenella",
          "Ageratum conyzoides",
          "Brachiaria brizantha",
          "Digitaria insularis",
          "Amaranthus spinosus",
          "Sorghum halepense",
          "Coronopus didymus",
          "Siegesbeckia orientalis",
          "Avena fatua",
          "Lolium multiflorum",
          "Galinsoga parviflora",
          "Raphanus raphanistrum",
          "Ipomoea purpurea",
          "Panicum maximum",
          "Brachiaria decumbens",
          "Amaranthus viridis",
          "Amaranthus hybridus",
          "Hyptys suaveolens",
          "Eleusine indica",
          "Portulaca oleracea",
          "Solanum americanum",
          "cyperus rotundus",
          "Amaranthus palmeri",
          "Parthenium hysterophorus",
          "Nicandra physaloides"
         ],
         "yaxis": "y"
        },
        {
         "legendgroup": "luteolin",
         "marker": {
          "color": "#19d3f3",
          "symbol": "circle"
         },
         "mode": "markers",
         "name": "luteolin",
         "orientation": "v",
         "showlegend": true,
         "type": "scatter",
         "x": [
          "luteolin",
          "luteolin",
          "luteolin",
          "luteolin",
          "luteolin",
          "luteolin",
          "luteolin",
          "luteolin"
         ],
         "xaxis": "x",
         "y": [
          "Portulaca oleracea",
          "Lolium multiflorum",
          "Ipomoea nil",
          "Alternanthera tenella",
          "Ipomoea purpurea",
          "Amaranthus viridis",
          "Pogostemon patchouli",
          "Amaranthus hybridus"
         ],
         "yaxis": "y"
        },
        {
         "legendgroup": "E-beta-ocimene",
         "marker": {
          "color": "#FF6692",
          "symbol": "circle"
         },
         "mode": "markers",
         "name": "E-beta-ocimene",
         "orientation": "v",
         "showlegend": true,
         "type": "scatter",
         "x": [
          "E-beta-ocimene",
          "E-beta-ocimene",
          "E-beta-ocimene"
         ],
         "xaxis": "x",
         "y": [
          "Ipomoea nil",
          "Hyptys suaveolens",
          "Pogostemon patchouli"
         ],
         "yaxis": "y"
        },
        {
         "legendgroup": "beta-phellandrene",
         "marker": {
          "color": "#B6E880",
          "symbol": "circle"
         },
         "mode": "markers",
         "name": "beta-phellandrene",
         "orientation": "v",
         "showlegend": true,
         "type": "scatter",
         "x": [
          "beta-phellandrene",
          "beta-phellandrene",
          "beta-phellandrene",
          "beta-phellandrene"
         ],
         "xaxis": "x",
         "y": [
          "Ipomoea nil",
          "Hyptys suaveolens",
          "Pogostemon patchouli",
          "Eleusine indica"
         ],
         "yaxis": "y"
        },
        {
         "legendgroup": "ethylene",
         "marker": {
          "color": "#FF97FF",
          "symbol": "circle"
         },
         "mode": "markers",
         "name": "ethylene",
         "orientation": "v",
         "showlegend": true,
         "type": "scatter",
         "x": [
          "ethylene",
          "ethylene",
          "ethylene",
          "ethylene"
         ],
         "xaxis": "x",
         "y": [
          "Ipomoea purpurea",
          "Avena fatua",
          "Ipomoea nil",
          "Raphanus raphanistrum"
         ],
         "yaxis": "y"
        },
        {
         "legendgroup": "dimboa",
         "marker": {
          "color": "#FECB52",
          "symbol": "circle"
         },
         "mode": "markers",
         "name": "dimboa",
         "orientation": "v",
         "showlegend": true,
         "type": "scatter",
         "x": [
          "dimboa",
          "dimboa",
          "dimboa"
         ],
         "xaxis": "x",
         "y": [
          "Ipomoea nil",
          "Amaranthus viridis",
          "Ipomoea purpurea"
         ],
         "yaxis": "y"
        },
        {
         "legendgroup": "terpinolene",
         "marker": {
          "color": "#636efa",
          "symbol": "circle"
         },
         "mode": "markers",
         "name": "terpinolene",
         "orientation": "v",
         "showlegend": true,
         "type": "scatter",
         "x": [
          "terpinolene",
          "terpinolene",
          "terpinolene",
          "terpinolene"
         ],
         "xaxis": "x",
         "y": [
          "Pogostemon patchouli",
          "Ipomoea nil",
          "Hyptys suaveolens",
          "Eleusine indica"
         ],
         "yaxis": "y"
        },
        {
         "legendgroup": "1-8-cineole",
         "marker": {
          "color": "#EF553B",
          "symbol": "circle"
         },
         "mode": "markers",
         "name": "1-8-cineole",
         "orientation": "v",
         "showlegend": true,
         "type": "scatter",
         "x": [
          "1-8-cineole",
          "1-8-cineole",
          "1-8-cineole",
          "1-8-cineole"
         ],
         "xaxis": "x",
         "y": [
          "Ipomoea nil",
          "Eleusine indica",
          "Hyptys suaveolens",
          "Pogostemon patchouli"
         ],
         "yaxis": "y"
        },
        {
         "legendgroup": "tricine",
         "marker": {
          "color": "#00cc96",
          "symbol": "circle"
         },
         "mode": "markers",
         "name": "tricine",
         "orientation": "v",
         "showlegend": true,
         "type": "scatter",
         "x": [
          "tricine",
          "tricine"
         ],
         "xaxis": "x",
         "y": [
          "Lolium multiflorum",
          "Ipomoea nil"
         ],
         "yaxis": "y"
        },
        {
         "legendgroup": "eugenol",
         "marker": {
          "color": "#ab63fa",
          "symbol": "circle"
         },
         "mode": "markers",
         "name": "eugenol",
         "orientation": "v",
         "showlegend": true,
         "type": "scatter",
         "x": [
          "eugenol",
          "eugenol"
         ],
         "xaxis": "x",
         "y": [
          "Ipomoea nil",
          "Lolium multiflorum"
         ],
         "yaxis": "y"
        },
        {
         "legendgroup": "8-cadinene",
         "marker": {
          "color": "#FFA15A",
          "symbol": "circle"
         },
         "mode": "markers",
         "name": "8-cadinene",
         "orientation": "v",
         "showlegend": true,
         "type": "scatter",
         "x": [
          "8-cadinene",
          "8-cadinene",
          "8-cadinene",
          "8-cadinene",
          "8-cadinene"
         ],
         "xaxis": "x",
         "y": [
          "Amaranthus palmeri",
          "Pogostemon patchouli",
          "Ipomoea nil",
          "Hyptys suaveolens",
          "Eleusine indica"
         ],
         "yaxis": "y"
        },
        {
         "legendgroup": "bicylogermacrene",
         "marker": {
          "color": "#19d3f3",
          "symbol": "circle"
         },
         "mode": "markers",
         "name": "bicylogermacrene",
         "orientation": "v",
         "showlegend": true,
         "type": "scatter",
         "x": [
          "bicylogermacrene",
          "bicylogermacrene",
          "bicylogermacrene"
         ],
         "xaxis": "x",
         "y": [
          "Pogostemon patchouli",
          "Ipomoea nil",
          "Hyptys suaveolens"
         ],
         "yaxis": "y"
        },
        {
         "legendgroup": "beta-ocimene",
         "marker": {
          "color": "#FF6692",
          "symbol": "circle"
         },
         "mode": "markers",
         "name": "beta-ocimene",
         "orientation": "v",
         "showlegend": true,
         "type": "scatter",
         "x": [
          "beta-ocimene",
          "beta-ocimene",
          "beta-ocimene",
          "beta-ocimene"
         ],
         "xaxis": "x",
         "y": [
          "Eleusine indica",
          "Hyptys suaveolens",
          "Pogostemon patchouli",
          "Ipomoea nil"
         ],
         "yaxis": "y"
        },
        {
         "legendgroup": "myrcene",
         "marker": {
          "color": "#B6E880",
          "symbol": "circle"
         },
         "mode": "markers",
         "name": "myrcene",
         "orientation": "v",
         "showlegend": true,
         "type": "scatter",
         "x": [
          "myrcene",
          "myrcene",
          "myrcene",
          "myrcene"
         ],
         "xaxis": "x",
         "y": [
          "Hyptys suaveolens",
          "Ipomoea nil",
          "Pogostemon patchouli",
          "Eleusine indica"
         ],
         "yaxis": "y"
        },
        {
         "legendgroup": "beta-caryophyllene",
         "marker": {
          "color": "#FF97FF",
          "symbol": "circle"
         },
         "mode": "markers",
         "name": "beta-caryophyllene",
         "orientation": "v",
         "showlegend": true,
         "type": "scatter",
         "x": [
          "beta-caryophyllene",
          "beta-caryophyllene",
          "beta-caryophyllene"
         ],
         "xaxis": "x",
         "y": [
          "Hyptys suaveolens",
          "Pogostemon patchouli",
          "Ipomoea nil"
         ],
         "yaxis": "y"
        },
        {
         "legendgroup": "alpha-humulene",
         "marker": {
          "color": "#FECB52",
          "symbol": "circle"
         },
         "mode": "markers",
         "name": "alpha-humulene",
         "orientation": "v",
         "showlegend": true,
         "type": "scatter",
         "x": [
          "alpha-humulene",
          "alpha-humulene",
          "alpha-humulene",
          "alpha-humulene",
          "alpha-humulene",
          "alpha-humulene",
          "alpha-humulene",
          "alpha-humulene"
         ],
         "xaxis": "x",
         "y": [
          "Ipomoea nil",
          "Portulaca oleracea",
          "Alternanthera tenella",
          "Amaranthus hybridus",
          "Amaranthus viridis",
          "Hyptys suaveolens",
          "Ipomoea purpurea",
          "Pogostemon patchouli"
         ],
         "yaxis": "y"
        },
        {
         "legendgroup": "beta-bisabolene",
         "marker": {
          "color": "#636efa",
          "symbol": "circle"
         },
         "mode": "markers",
         "name": "beta-bisabolene",
         "orientation": "v",
         "showlegend": true,
         "type": "scatter",
         "x": [
          "beta-bisabolene",
          "beta-bisabolene",
          "beta-bisabolene"
         ],
         "xaxis": "x",
         "y": [
          "Ipomoea nil",
          "Hyptys suaveolens",
          "Pogostemon patchouli"
         ],
         "yaxis": "y"
        },
        {
         "legendgroup": "gamma-terpinene",
         "marker": {
          "color": "#EF553B",
          "symbol": "circle"
         },
         "mode": "markers",
         "name": "gamma-terpinene",
         "orientation": "v",
         "showlegend": true,
         "type": "scatter",
         "x": [
          "gamma-terpinene",
          "gamma-terpinene",
          "gamma-terpinene"
         ],
         "xaxis": "x",
         "y": [
          "Hyptys suaveolens",
          "Pogostemon patchouli",
          "Ipomoea nil"
         ],
         "yaxis": "y"
        },
        {
         "legendgroup": "methyl jasmonate",
         "marker": {
          "color": "#00cc96",
          "symbol": "circle"
         },
         "mode": "markers",
         "name": "methyl jasmonate",
         "orientation": "v",
         "showlegend": true,
         "type": "scatter",
         "x": [
          "methyl jasmonate",
          "methyl jasmonate"
         ],
         "xaxis": "x",
         "y": [
          "Nicandra physaloides",
          "Ipomoea nil"
         ],
         "yaxis": "y"
        },
        {
         "legendgroup": "jasmonic acid",
         "marker": {
          "color": "#ab63fa",
          "symbol": "circle"
         },
         "mode": "markers",
         "name": "jasmonic acid",
         "orientation": "v",
         "showlegend": true,
         "type": "scatter",
         "x": [
          "jasmonic acid",
          "jasmonic acid"
         ],
         "xaxis": "x",
         "y": [
          "Ipomoea nil",
          "Nicandra physaloides"
         ],
         "yaxis": "y"
        }
       ],
       "layout": {
        "autosize": false,
        "height": 800,
        "hovermode": "x",
        "legend": {
         "title": {
          "text": "Metabólito"
         },
         "tracegroupgap": 0
        },
        "margin": {
         "t": 60
        },
        "showlegend": false,
        "template": {
         "data": {
          "bar": [
           {
            "error_x": {
             "color": "#2a3f5f"
            },
            "error_y": {
             "color": "#2a3f5f"
            },
            "marker": {
             "line": {
              "color": "#E5ECF6",
              "width": 0.5
             },
             "pattern": {
              "fillmode": "overlay",
              "size": 10,
              "solidity": 0.2
             }
            },
            "type": "bar"
           }
          ],
          "barpolar": [
           {
            "marker": {
             "line": {
              "color": "#E5ECF6",
              "width": 0.5
             },
             "pattern": {
              "fillmode": "overlay",
              "size": 10,
              "solidity": 0.2
             }
            },
            "type": "barpolar"
           }
          ],
          "carpet": [
           {
            "aaxis": {
             "endlinecolor": "#2a3f5f",
             "gridcolor": "white",
             "linecolor": "white",
             "minorgridcolor": "white",
             "startlinecolor": "#2a3f5f"
            },
            "baxis": {
             "endlinecolor": "#2a3f5f",
             "gridcolor": "white",
             "linecolor": "white",
             "minorgridcolor": "white",
             "startlinecolor": "#2a3f5f"
            },
            "type": "carpet"
           }
          ],
          "choropleth": [
           {
            "colorbar": {
             "outlinewidth": 0,
             "ticks": ""
            },
            "type": "choropleth"
           }
          ],
          "contour": [
           {
            "colorbar": {
             "outlinewidth": 0,
             "ticks": ""
            },
            "colorscale": [
             [
              0,
              "#0d0887"
             ],
             [
              0.1111111111111111,
              "#46039f"
             ],
             [
              0.2222222222222222,
              "#7201a8"
             ],
             [
              0.3333333333333333,
              "#9c179e"
             ],
             [
              0.4444444444444444,
              "#bd3786"
             ],
             [
              0.5555555555555556,
              "#d8576b"
             ],
             [
              0.6666666666666666,
              "#ed7953"
             ],
             [
              0.7777777777777778,
              "#fb9f3a"
             ],
             [
              0.8888888888888888,
              "#fdca26"
             ],
             [
              1,
              "#f0f921"
             ]
            ],
            "type": "contour"
           }
          ],
          "contourcarpet": [
           {
            "colorbar": {
             "outlinewidth": 0,
             "ticks": ""
            },
            "type": "contourcarpet"
           }
          ],
          "heatmap": [
           {
            "colorbar": {
             "outlinewidth": 0,
             "ticks": ""
            },
            "colorscale": [
             [
              0,
              "#0d0887"
             ],
             [
              0.1111111111111111,
              "#46039f"
             ],
             [
              0.2222222222222222,
              "#7201a8"
             ],
             [
              0.3333333333333333,
              "#9c179e"
             ],
             [
              0.4444444444444444,
              "#bd3786"
             ],
             [
              0.5555555555555556,
              "#d8576b"
             ],
             [
              0.6666666666666666,
              "#ed7953"
             ],
             [
              0.7777777777777778,
              "#fb9f3a"
             ],
             [
              0.8888888888888888,
              "#fdca26"
             ],
             [
              1,
              "#f0f921"
             ]
            ],
            "type": "heatmap"
           }
          ],
          "heatmapgl": [
           {
            "colorbar": {
             "outlinewidth": 0,
             "ticks": ""
            },
            "colorscale": [
             [
              0,
              "#0d0887"
             ],
             [
              0.1111111111111111,
              "#46039f"
             ],
             [
              0.2222222222222222,
              "#7201a8"
             ],
             [
              0.3333333333333333,
              "#9c179e"
             ],
             [
              0.4444444444444444,
              "#bd3786"
             ],
             [
              0.5555555555555556,
              "#d8576b"
             ],
             [
              0.6666666666666666,
              "#ed7953"
             ],
             [
              0.7777777777777778,
              "#fb9f3a"
             ],
             [
              0.8888888888888888,
              "#fdca26"
             ],
             [
              1,
              "#f0f921"
             ]
            ],
            "type": "heatmapgl"
           }
          ],
          "histogram": [
           {
            "marker": {
             "pattern": {
              "fillmode": "overlay",
              "size": 10,
              "solidity": 0.2
             }
            },
            "type": "histogram"
           }
          ],
          "histogram2d": [
           {
            "colorbar": {
             "outlinewidth": 0,
             "ticks": ""
            },
            "colorscale": [
             [
              0,
              "#0d0887"
             ],
             [
              0.1111111111111111,
              "#46039f"
             ],
             [
              0.2222222222222222,
              "#7201a8"
             ],
             [
              0.3333333333333333,
              "#9c179e"
             ],
             [
              0.4444444444444444,
              "#bd3786"
             ],
             [
              0.5555555555555556,
              "#d8576b"
             ],
             [
              0.6666666666666666,
              "#ed7953"
             ],
             [
              0.7777777777777778,
              "#fb9f3a"
             ],
             [
              0.8888888888888888,
              "#fdca26"
             ],
             [
              1,
              "#f0f921"
             ]
            ],
            "type": "histogram2d"
           }
          ],
          "histogram2dcontour": [
           {
            "colorbar": {
             "outlinewidth": 0,
             "ticks": ""
            },
            "colorscale": [
             [
              0,
              "#0d0887"
             ],
             [
              0.1111111111111111,
              "#46039f"
             ],
             [
              0.2222222222222222,
              "#7201a8"
             ],
             [
              0.3333333333333333,
              "#9c179e"
             ],
             [
              0.4444444444444444,
              "#bd3786"
             ],
             [
              0.5555555555555556,
              "#d8576b"
             ],
             [
              0.6666666666666666,
              "#ed7953"
             ],
             [
              0.7777777777777778,
              "#fb9f3a"
             ],
             [
              0.8888888888888888,
              "#fdca26"
             ],
             [
              1,
              "#f0f921"
             ]
            ],
            "type": "histogram2dcontour"
           }
          ],
          "mesh3d": [
           {
            "colorbar": {
             "outlinewidth": 0,
             "ticks": ""
            },
            "type": "mesh3d"
           }
          ],
          "parcoords": [
           {
            "line": {
             "colorbar": {
              "outlinewidth": 0,
              "ticks": ""
             }
            },
            "type": "parcoords"
           }
          ],
          "pie": [
           {
            "automargin": true,
            "type": "pie"
           }
          ],
          "scatter": [
           {
            "marker": {
             "colorbar": {
              "outlinewidth": 0,
              "ticks": ""
             }
            },
            "type": "scatter"
           }
          ],
          "scatter3d": [
           {
            "line": {
             "colorbar": {
              "outlinewidth": 0,
              "ticks": ""
             }
            },
            "marker": {
             "colorbar": {
              "outlinewidth": 0,
              "ticks": ""
             }
            },
            "type": "scatter3d"
           }
          ],
          "scattercarpet": [
           {
            "marker": {
             "colorbar": {
              "outlinewidth": 0,
              "ticks": ""
             }
            },
            "type": "scattercarpet"
           }
          ],
          "scattergeo": [
           {
            "marker": {
             "colorbar": {
              "outlinewidth": 0,
              "ticks": ""
             }
            },
            "type": "scattergeo"
           }
          ],
          "scattergl": [
           {
            "marker": {
             "colorbar": {
              "outlinewidth": 0,
              "ticks": ""
             }
            },
            "type": "scattergl"
           }
          ],
          "scattermapbox": [
           {
            "marker": {
             "colorbar": {
              "outlinewidth": 0,
              "ticks": ""
             }
            },
            "type": "scattermapbox"
           }
          ],
          "scatterpolar": [
           {
            "marker": {
             "colorbar": {
              "outlinewidth": 0,
              "ticks": ""
             }
            },
            "type": "scatterpolar"
           }
          ],
          "scatterpolargl": [
           {
            "marker": {
             "colorbar": {
              "outlinewidth": 0,
              "ticks": ""
             }
            },
            "type": "scatterpolargl"
           }
          ],
          "scatterternary": [
           {
            "marker": {
             "colorbar": {
              "outlinewidth": 0,
              "ticks": ""
             }
            },
            "type": "scatterternary"
           }
          ],
          "surface": [
           {
            "colorbar": {
             "outlinewidth": 0,
             "ticks": ""
            },
            "colorscale": [
             [
              0,
              "#0d0887"
             ],
             [
              0.1111111111111111,
              "#46039f"
             ],
             [
              0.2222222222222222,
              "#7201a8"
             ],
             [
              0.3333333333333333,
              "#9c179e"
             ],
             [
              0.4444444444444444,
              "#bd3786"
             ],
             [
              0.5555555555555556,
              "#d8576b"
             ],
             [
              0.6666666666666666,
              "#ed7953"
             ],
             [
              0.7777777777777778,
              "#fb9f3a"
             ],
             [
              0.8888888888888888,
              "#fdca26"
             ],
             [
              1,
              "#f0f921"
             ]
            ],
            "type": "surface"
           }
          ],
          "table": [
           {
            "cells": {
             "fill": {
              "color": "#EBF0F8"
             },
             "line": {
              "color": "white"
             }
            },
            "header": {
             "fill": {
              "color": "#C8D4E3"
             },
             "line": {
              "color": "white"
             }
            },
            "type": "table"
           }
          ]
         },
         "layout": {
          "annotationdefaults": {
           "arrowcolor": "#2a3f5f",
           "arrowhead": 0,
           "arrowwidth": 1
          },
          "autotypenumbers": "strict",
          "coloraxis": {
           "colorbar": {
            "outlinewidth": 0,
            "ticks": ""
           }
          },
          "colorscale": {
           "diverging": [
            [
             0,
             "#8e0152"
            ],
            [
             0.1,
             "#c51b7d"
            ],
            [
             0.2,
             "#de77ae"
            ],
            [
             0.3,
             "#f1b6da"
            ],
            [
             0.4,
             "#fde0ef"
            ],
            [
             0.5,
             "#f7f7f7"
            ],
            [
             0.6,
             "#e6f5d0"
            ],
            [
             0.7,
             "#b8e186"
            ],
            [
             0.8,
             "#7fbc41"
            ],
            [
             0.9,
             "#4d9221"
            ],
            [
             1,
             "#276419"
            ]
           ],
           "sequential": [
            [
             0,
             "#0d0887"
            ],
            [
             0.1111111111111111,
             "#46039f"
            ],
            [
             0.2222222222222222,
             "#7201a8"
            ],
            [
             0.3333333333333333,
             "#9c179e"
            ],
            [
             0.4444444444444444,
             "#bd3786"
            ],
            [
             0.5555555555555556,
             "#d8576b"
            ],
            [
             0.6666666666666666,
             "#ed7953"
            ],
            [
             0.7777777777777778,
             "#fb9f3a"
            ],
            [
             0.8888888888888888,
             "#fdca26"
            ],
            [
             1,
             "#f0f921"
            ]
           ],
           "sequentialminus": [
            [
             0,
             "#0d0887"
            ],
            [
             0.1111111111111111,
             "#46039f"
            ],
            [
             0.2222222222222222,
             "#7201a8"
            ],
            [
             0.3333333333333333,
             "#9c179e"
            ],
            [
             0.4444444444444444,
             "#bd3786"
            ],
            [
             0.5555555555555556,
             "#d8576b"
            ],
            [
             0.6666666666666666,
             "#ed7953"
            ],
            [
             0.7777777777777778,
             "#fb9f3a"
            ],
            [
             0.8888888888888888,
             "#fdca26"
            ],
            [
             1,
             "#f0f921"
            ]
           ]
          },
          "colorway": [
           "#636efa",
           "#EF553B",
           "#00cc96",
           "#ab63fa",
           "#FFA15A",
           "#19d3f3",
           "#FF6692",
           "#B6E880",
           "#FF97FF",
           "#FECB52"
          ],
          "font": {
           "color": "#2a3f5f"
          },
          "geo": {
           "bgcolor": "white",
           "lakecolor": "white",
           "landcolor": "#E5ECF6",
           "showlakes": true,
           "showland": true,
           "subunitcolor": "white"
          },
          "hoverlabel": {
           "align": "left"
          },
          "hovermode": "closest",
          "mapbox": {
           "style": "light"
          },
          "paper_bgcolor": "white",
          "plot_bgcolor": "#E5ECF6",
          "polar": {
           "angularaxis": {
            "gridcolor": "white",
            "linecolor": "white",
            "ticks": ""
           },
           "bgcolor": "#E5ECF6",
           "radialaxis": {
            "gridcolor": "white",
            "linecolor": "white",
            "ticks": ""
           }
          },
          "scene": {
           "xaxis": {
            "backgroundcolor": "#E5ECF6",
            "gridcolor": "white",
            "gridwidth": 2,
            "linecolor": "white",
            "showbackground": true,
            "ticks": "",
            "zerolinecolor": "white"
           },
           "yaxis": {
            "backgroundcolor": "#E5ECF6",
            "gridcolor": "white",
            "gridwidth": 2,
            "linecolor": "white",
            "showbackground": true,
            "ticks": "",
            "zerolinecolor": "white"
           },
           "zaxis": {
            "backgroundcolor": "#E5ECF6",
            "gridcolor": "white",
            "gridwidth": 2,
            "linecolor": "white",
            "showbackground": true,
            "ticks": "",
            "zerolinecolor": "white"
           }
          },
          "shapedefaults": {
           "line": {
            "color": "#2a3f5f"
           }
          },
          "ternary": {
           "aaxis": {
            "gridcolor": "white",
            "linecolor": "white",
            "ticks": ""
           },
           "baxis": {
            "gridcolor": "white",
            "linecolor": "white",
            "ticks": ""
           },
           "bgcolor": "#E5ECF6",
           "caxis": {
            "gridcolor": "white",
            "linecolor": "white",
            "ticks": ""
           }
          },
          "title": {
           "x": 0.05
          },
          "xaxis": {
           "automargin": true,
           "gridcolor": "white",
           "linecolor": "white",
           "ticks": "",
           "title": {
            "standoff": 15
           },
           "zerolinecolor": "white",
           "zerolinewidth": 2
          },
          "yaxis": {
           "automargin": true,
           "gridcolor": "white",
           "linecolor": "white",
           "ticks": "",
           "title": {
            "standoff": 15
           },
           "zerolinecolor": "white",
           "zerolinewidth": 2
          }
         }
        },
        "width": 960,
        "xaxis": {
         "anchor": "y",
         "categoryarray": [
          "strigol",
          "alpha-pinene",
          "hexenal",
          "alpha-terpinene",
          "indole",
          "luteolin",
          "E-beta-ocimene",
          "beta-phellandrene",
          "ethylene",
          "dimboa",
          "terpinolene",
          "1-8-cineole",
          "tricine",
          "eugenol",
          "8-cadinene",
          "bicylogermacrene",
          "beta-ocimene",
          "myrcene",
          "beta-caryophyllene",
          "alpha-humulene",
          "beta-bisabolene",
          "gamma-terpinene",
          "methyl jasmonate",
          "jasmonic acid"
         ],
         "categoryorder": "array",
         "domain": [
          0,
          1
         ],
         "title": {
          "text": "Metabólito"
         }
        },
        "yaxis": {
         "anchor": "x",
         "domain": [
          0,
          1
         ],
         "title": {
          "text": "Planta"
         }
        }
       }
      },
      "text/html": [
       "<div>                            <div id=\"e92fc5b8-45e7-45f6-8453-0677970e580f\" class=\"plotly-graph-div\" style=\"height:800px; width:960px;\"></div>            <script type=\"text/javascript\">                require([\"plotly\"], function(Plotly) {                    window.PLOTLYENV=window.PLOTLYENV || {};                                    if (document.getElementById(\"e92fc5b8-45e7-45f6-8453-0677970e580f\")) {                    Plotly.newPlot(                        \"e92fc5b8-45e7-45f6-8453-0677970e580f\",                        [{\"legendgroup\":\"strigol\",\"marker\":{\"color\":\"#636efa\",\"symbol\":\"circle\"},\"mode\":\"markers\",\"name\":\"strigol\",\"orientation\":\"v\",\"showlegend\":true,\"type\":\"scatter\",\"x\":[\"strigol\",\"strigol\",\"strigol\",\"strigol\",\"strigol\",\"strigol\",\"strigol\",\"strigol\",\"strigol\",\"strigol\",\"strigol\",\"strigol\",\"strigol\",\"strigol\",\"strigol\",\"strigol\",\"strigol\",\"strigol\",\"strigol\",\"strigol\",\"strigol\",\"strigol\",\"strigol\",\"strigol\",\"strigol\",\"strigol\",\"strigol\",\"strigol\",\"strigol\"],\"xaxis\":\"x\",\"y\":[\"Eleusine indica\",\"Ipomoea nil\",\"Panicum maximum\",\"Galinsoga parviflora\",\"Sonchus oleraceus\",\"Parthenium hysterophorus\",\"Raphanus raphanistrum\",\"Avena fatua\",\"Echinochloa colonum\",\"Amaranthus spinosus\",\"Amaranthus hybridus\",\"Brachiaria brizantha\",\"Sorghum halepense\",\"Nicandra physaloides\",\"Siegesbeckia orientalis\",\"Senna obtusifolia\",\"Brachiaria decumbens\",\"Ipomoea purpurea\",\"Amaranthus deflexus\",\"Alternanthera tenella\",\"Amaranthus viridis\",\"Leonotis nepetifolia\",\"Ageratum conyzoides\",\"Lolium multiflorum\",\"Pogostemon patchouli\",\"Cenchrus echinatus\",\"Portulaca oleracea\",\"Amaranthus palmeri\",\"cyperus rotundus\"],\"yaxis\":\"y\"},{\"legendgroup\":\"alpha-pinene\",\"marker\":{\"color\":\"#EF553B\",\"symbol\":\"circle\"},\"mode\":\"markers\",\"name\":\"alpha-pinene\",\"orientation\":\"v\",\"showlegend\":true,\"type\":\"scatter\",\"x\":[\"alpha-pinene\",\"alpha-pinene\",\"alpha-pinene\",\"alpha-pinene\",\"alpha-pinene\",\"alpha-pinene\",\"alpha-pinene\",\"alpha-pinene\",\"alpha-pinene\",\"alpha-pinene\",\"alpha-pinene\",\"alpha-pinene\",\"alpha-pinene\",\"alpha-pinene\",\"alpha-pinene\",\"alpha-pinene\",\"alpha-pinene\",\"alpha-pinene\",\"alpha-pinene\",\"alpha-pinene\",\"alpha-pinene\",\"alpha-pinene\",\"alpha-pinene\",\"alpha-pinene\",\"alpha-pinene\",\"alpha-pinene\",\"alpha-pinene\",\"alpha-pinene\",\"alpha-pinene\",\"alpha-pinene\",\"alpha-pinene\",\"alpha-pinene\"],\"xaxis\":\"x\",\"y\":[\"Brachiaria brizantha\",\"Sorghum halepense\",\"Ageratum conyzoides\",\"Nicandra physaloides\",\"Senna obtusifolia\",\"Avena fatua\",\"Cenchrus echinatus\",\"Lolium multiflorum\",\"Galinsoga parviflora\",\"Rhynchelytrum repens\",\"Amaranthus deflexus\",\"Brachiaria decumbens\",\"Ipomoea purpurea\",\"cyperus rotundus\",\"Raphanus raphanistrum\",\"Amaranthus palmeri\",\"Amaranthus hybridus\",\"Pogostemon patchouli\",\"Amaranthus viridis\",\"Emilia sonchifolia\",\"Amaranthus spinosus\",\"Ipomoea nil\",\"Alternanthera tenella\",\"Parthenium hysterophorus\",\"Siegesbeckia orientalis\",\"Portulaca oleracea\",\"Panicum maximum\",\"Echinochloa colonum\",\"Solanum americanum\",\"Sonchus oleraceus\",\"Leonotis nepetifolia\",\"Eleusine indica\"],\"yaxis\":\"y\"},{\"legendgroup\":\"hexenal\",\"marker\":{\"color\":\"#00cc96\",\"symbol\":\"circle\"},\"mode\":\"markers\",\"name\":\"hexenal\",\"orientation\":\"v\",\"showlegend\":true,\"type\":\"scatter\",\"x\":[\"hexenal\",\"hexenal\",\"hexenal\",\"hexenal\",\"hexenal\",\"hexenal\"],\"xaxis\":\"x\",\"y\":[\"Amaranthus hybridus\",\"Amaranthus palmeri\",\"Amaranthus spinosus\",\"Pogostemon patchouli\",\"Amaranthus viridis\",\"Ipomoea nil\"],\"yaxis\":\"y\"},{\"legendgroup\":\"alpha-terpinene\",\"marker\":{\"color\":\"#ab63fa\",\"symbol\":\"circle\"},\"mode\":\"markers\",\"name\":\"alpha-terpinene\",\"orientation\":\"v\",\"showlegend\":true,\"type\":\"scatter\",\"x\":[\"alpha-terpinene\",\"alpha-terpinene\",\"alpha-terpinene\",\"alpha-terpinene\"],\"xaxis\":\"x\",\"y\":[\"Eleusine indica\",\"Ipomoea nil\",\"Pogostemon patchouli\",\"Hyptys suaveolens\"],\"yaxis\":\"y\"},{\"legendgroup\":\"indole\",\"marker\":{\"color\":\"#FFA15A\",\"symbol\":\"circle\"},\"mode\":\"markers\",\"name\":\"indole\",\"orientation\":\"v\",\"showlegend\":true,\"type\":\"scatter\",\"x\":[\"indole\",\"indole\",\"indole\",\"indole\",\"indole\",\"indole\",\"indole\",\"indole\",\"indole\",\"indole\",\"indole\",\"indole\",\"indole\",\"indole\",\"indole\",\"indole\",\"indole\",\"indole\",\"indole\",\"indole\",\"indole\",\"indole\",\"indole\",\"indole\",\"indole\",\"indole\",\"indole\",\"indole\",\"indole\",\"indole\",\"indole\",\"indole\"],\"xaxis\":\"x\",\"y\":[\"Emilia sonchifolia\",\"Echinochloa colonum\",\"Cenchrus echinatus\",\"Leonotis nepetifolia\",\"Senna obtusifolia\",\"Ipomoea nil\",\"Sonchus oleraceus\",\"Alternanthera tenella\",\"Ageratum conyzoides\",\"Brachiaria brizantha\",\"Digitaria insularis\",\"Amaranthus spinosus\",\"Sorghum halepense\",\"Coronopus didymus\",\"Siegesbeckia orientalis\",\"Avena fatua\",\"Lolium multiflorum\",\"Galinsoga parviflora\",\"Raphanus raphanistrum\",\"Ipomoea purpurea\",\"Panicum maximum\",\"Brachiaria decumbens\",\"Amaranthus viridis\",\"Amaranthus hybridus\",\"Hyptys suaveolens\",\"Eleusine indica\",\"Portulaca oleracea\",\"Solanum americanum\",\"cyperus rotundus\",\"Amaranthus palmeri\",\"Parthenium hysterophorus\",\"Nicandra physaloides\"],\"yaxis\":\"y\"},{\"legendgroup\":\"luteolin\",\"marker\":{\"color\":\"#19d3f3\",\"symbol\":\"circle\"},\"mode\":\"markers\",\"name\":\"luteolin\",\"orientation\":\"v\",\"showlegend\":true,\"type\":\"scatter\",\"x\":[\"luteolin\",\"luteolin\",\"luteolin\",\"luteolin\",\"luteolin\",\"luteolin\",\"luteolin\",\"luteolin\"],\"xaxis\":\"x\",\"y\":[\"Portulaca oleracea\",\"Lolium multiflorum\",\"Ipomoea nil\",\"Alternanthera tenella\",\"Ipomoea purpurea\",\"Amaranthus viridis\",\"Pogostemon patchouli\",\"Amaranthus hybridus\"],\"yaxis\":\"y\"},{\"legendgroup\":\"E-beta-ocimene\",\"marker\":{\"color\":\"#FF6692\",\"symbol\":\"circle\"},\"mode\":\"markers\",\"name\":\"E-beta-ocimene\",\"orientation\":\"v\",\"showlegend\":true,\"type\":\"scatter\",\"x\":[\"E-beta-ocimene\",\"E-beta-ocimene\",\"E-beta-ocimene\"],\"xaxis\":\"x\",\"y\":[\"Ipomoea nil\",\"Hyptys suaveolens\",\"Pogostemon patchouli\"],\"yaxis\":\"y\"},{\"legendgroup\":\"beta-phellandrene\",\"marker\":{\"color\":\"#B6E880\",\"symbol\":\"circle\"},\"mode\":\"markers\",\"name\":\"beta-phellandrene\",\"orientation\":\"v\",\"showlegend\":true,\"type\":\"scatter\",\"x\":[\"beta-phellandrene\",\"beta-phellandrene\",\"beta-phellandrene\",\"beta-phellandrene\"],\"xaxis\":\"x\",\"y\":[\"Ipomoea nil\",\"Hyptys suaveolens\",\"Pogostemon patchouli\",\"Eleusine indica\"],\"yaxis\":\"y\"},{\"legendgroup\":\"ethylene\",\"marker\":{\"color\":\"#FF97FF\",\"symbol\":\"circle\"},\"mode\":\"markers\",\"name\":\"ethylene\",\"orientation\":\"v\",\"showlegend\":true,\"type\":\"scatter\",\"x\":[\"ethylene\",\"ethylene\",\"ethylene\",\"ethylene\"],\"xaxis\":\"x\",\"y\":[\"Ipomoea purpurea\",\"Avena fatua\",\"Ipomoea nil\",\"Raphanus raphanistrum\"],\"yaxis\":\"y\"},{\"legendgroup\":\"dimboa\",\"marker\":{\"color\":\"#FECB52\",\"symbol\":\"circle\"},\"mode\":\"markers\",\"name\":\"dimboa\",\"orientation\":\"v\",\"showlegend\":true,\"type\":\"scatter\",\"x\":[\"dimboa\",\"dimboa\",\"dimboa\"],\"xaxis\":\"x\",\"y\":[\"Ipomoea nil\",\"Amaranthus viridis\",\"Ipomoea purpurea\"],\"yaxis\":\"y\"},{\"legendgroup\":\"terpinolene\",\"marker\":{\"color\":\"#636efa\",\"symbol\":\"circle\"},\"mode\":\"markers\",\"name\":\"terpinolene\",\"orientation\":\"v\",\"showlegend\":true,\"type\":\"scatter\",\"x\":[\"terpinolene\",\"terpinolene\",\"terpinolene\",\"terpinolene\"],\"xaxis\":\"x\",\"y\":[\"Pogostemon patchouli\",\"Ipomoea nil\",\"Hyptys suaveolens\",\"Eleusine indica\"],\"yaxis\":\"y\"},{\"legendgroup\":\"1-8-cineole\",\"marker\":{\"color\":\"#EF553B\",\"symbol\":\"circle\"},\"mode\":\"markers\",\"name\":\"1-8-cineole\",\"orientation\":\"v\",\"showlegend\":true,\"type\":\"scatter\",\"x\":[\"1-8-cineole\",\"1-8-cineole\",\"1-8-cineole\",\"1-8-cineole\"],\"xaxis\":\"x\",\"y\":[\"Ipomoea nil\",\"Eleusine indica\",\"Hyptys suaveolens\",\"Pogostemon patchouli\"],\"yaxis\":\"y\"},{\"legendgroup\":\"tricine\",\"marker\":{\"color\":\"#00cc96\",\"symbol\":\"circle\"},\"mode\":\"markers\",\"name\":\"tricine\",\"orientation\":\"v\",\"showlegend\":true,\"type\":\"scatter\",\"x\":[\"tricine\",\"tricine\"],\"xaxis\":\"x\",\"y\":[\"Lolium multiflorum\",\"Ipomoea nil\"],\"yaxis\":\"y\"},{\"legendgroup\":\"eugenol\",\"marker\":{\"color\":\"#ab63fa\",\"symbol\":\"circle\"},\"mode\":\"markers\",\"name\":\"eugenol\",\"orientation\":\"v\",\"showlegend\":true,\"type\":\"scatter\",\"x\":[\"eugenol\",\"eugenol\"],\"xaxis\":\"x\",\"y\":[\"Ipomoea nil\",\"Lolium multiflorum\"],\"yaxis\":\"y\"},{\"legendgroup\":\"8-cadinene\",\"marker\":{\"color\":\"#FFA15A\",\"symbol\":\"circle\"},\"mode\":\"markers\",\"name\":\"8-cadinene\",\"orientation\":\"v\",\"showlegend\":true,\"type\":\"scatter\",\"x\":[\"8-cadinene\",\"8-cadinene\",\"8-cadinene\",\"8-cadinene\",\"8-cadinene\"],\"xaxis\":\"x\",\"y\":[\"Amaranthus palmeri\",\"Pogostemon patchouli\",\"Ipomoea nil\",\"Hyptys suaveolens\",\"Eleusine indica\"],\"yaxis\":\"y\"},{\"legendgroup\":\"bicylogermacrene\",\"marker\":{\"color\":\"#19d3f3\",\"symbol\":\"circle\"},\"mode\":\"markers\",\"name\":\"bicylogermacrene\",\"orientation\":\"v\",\"showlegend\":true,\"type\":\"scatter\",\"x\":[\"bicylogermacrene\",\"bicylogermacrene\",\"bicylogermacrene\"],\"xaxis\":\"x\",\"y\":[\"Pogostemon patchouli\",\"Ipomoea nil\",\"Hyptys suaveolens\"],\"yaxis\":\"y\"},{\"legendgroup\":\"beta-ocimene\",\"marker\":{\"color\":\"#FF6692\",\"symbol\":\"circle\"},\"mode\":\"markers\",\"name\":\"beta-ocimene\",\"orientation\":\"v\",\"showlegend\":true,\"type\":\"scatter\",\"x\":[\"beta-ocimene\",\"beta-ocimene\",\"beta-ocimene\",\"beta-ocimene\"],\"xaxis\":\"x\",\"y\":[\"Eleusine indica\",\"Hyptys suaveolens\",\"Pogostemon patchouli\",\"Ipomoea nil\"],\"yaxis\":\"y\"},{\"legendgroup\":\"myrcene\",\"marker\":{\"color\":\"#B6E880\",\"symbol\":\"circle\"},\"mode\":\"markers\",\"name\":\"myrcene\",\"orientation\":\"v\",\"showlegend\":true,\"type\":\"scatter\",\"x\":[\"myrcene\",\"myrcene\",\"myrcene\",\"myrcene\"],\"xaxis\":\"x\",\"y\":[\"Hyptys suaveolens\",\"Ipomoea nil\",\"Pogostemon patchouli\",\"Eleusine indica\"],\"yaxis\":\"y\"},{\"legendgroup\":\"beta-caryophyllene\",\"marker\":{\"color\":\"#FF97FF\",\"symbol\":\"circle\"},\"mode\":\"markers\",\"name\":\"beta-caryophyllene\",\"orientation\":\"v\",\"showlegend\":true,\"type\":\"scatter\",\"x\":[\"beta-caryophyllene\",\"beta-caryophyllene\",\"beta-caryophyllene\"],\"xaxis\":\"x\",\"y\":[\"Hyptys suaveolens\",\"Pogostemon patchouli\",\"Ipomoea nil\"],\"yaxis\":\"y\"},{\"legendgroup\":\"alpha-humulene\",\"marker\":{\"color\":\"#FECB52\",\"symbol\":\"circle\"},\"mode\":\"markers\",\"name\":\"alpha-humulene\",\"orientation\":\"v\",\"showlegend\":true,\"type\":\"scatter\",\"x\":[\"alpha-humulene\",\"alpha-humulene\",\"alpha-humulene\",\"alpha-humulene\",\"alpha-humulene\",\"alpha-humulene\",\"alpha-humulene\",\"alpha-humulene\"],\"xaxis\":\"x\",\"y\":[\"Ipomoea nil\",\"Portulaca oleracea\",\"Alternanthera tenella\",\"Amaranthus hybridus\",\"Amaranthus viridis\",\"Hyptys suaveolens\",\"Ipomoea purpurea\",\"Pogostemon patchouli\"],\"yaxis\":\"y\"},{\"legendgroup\":\"beta-bisabolene\",\"marker\":{\"color\":\"#636efa\",\"symbol\":\"circle\"},\"mode\":\"markers\",\"name\":\"beta-bisabolene\",\"orientation\":\"v\",\"showlegend\":true,\"type\":\"scatter\",\"x\":[\"beta-bisabolene\",\"beta-bisabolene\",\"beta-bisabolene\"],\"xaxis\":\"x\",\"y\":[\"Ipomoea nil\",\"Hyptys suaveolens\",\"Pogostemon patchouli\"],\"yaxis\":\"y\"},{\"legendgroup\":\"gamma-terpinene\",\"marker\":{\"color\":\"#EF553B\",\"symbol\":\"circle\"},\"mode\":\"markers\",\"name\":\"gamma-terpinene\",\"orientation\":\"v\",\"showlegend\":true,\"type\":\"scatter\",\"x\":[\"gamma-terpinene\",\"gamma-terpinene\",\"gamma-terpinene\"],\"xaxis\":\"x\",\"y\":[\"Hyptys suaveolens\",\"Pogostemon patchouli\",\"Ipomoea nil\"],\"yaxis\":\"y\"},{\"legendgroup\":\"methyl jasmonate\",\"marker\":{\"color\":\"#00cc96\",\"symbol\":\"circle\"},\"mode\":\"markers\",\"name\":\"methyl jasmonate\",\"orientation\":\"v\",\"showlegend\":true,\"type\":\"scatter\",\"x\":[\"methyl jasmonate\",\"methyl jasmonate\"],\"xaxis\":\"x\",\"y\":[\"Nicandra physaloides\",\"Ipomoea nil\"],\"yaxis\":\"y\"},{\"legendgroup\":\"jasmonic acid\",\"marker\":{\"color\":\"#ab63fa\",\"symbol\":\"circle\"},\"mode\":\"markers\",\"name\":\"jasmonic acid\",\"orientation\":\"v\",\"showlegend\":true,\"type\":\"scatter\",\"x\":[\"jasmonic acid\",\"jasmonic acid\"],\"xaxis\":\"x\",\"y\":[\"Ipomoea nil\",\"Nicandra physaloides\"],\"yaxis\":\"y\"}],                        {\"autosize\":false,\"height\":800,\"hovermode\":\"x\",\"legend\":{\"title\":{\"text\":\"Metab\\u00f3lito\"},\"tracegroupgap\":0},\"margin\":{\"t\":60},\"showlegend\":false,\"template\":{\"data\":{\"bar\":[{\"error_x\":{\"color\":\"#2a3f5f\"},\"error_y\":{\"color\":\"#2a3f5f\"},\"marker\":{\"line\":{\"color\":\"#E5ECF6\",\"width\":0.5},\"pattern\":{\"fillmode\":\"overlay\",\"size\":10,\"solidity\":0.2}},\"type\":\"bar\"}],\"barpolar\":[{\"marker\":{\"line\":{\"color\":\"#E5ECF6\",\"width\":0.5},\"pattern\":{\"fillmode\":\"overlay\",\"size\":10,\"solidity\":0.2}},\"type\":\"barpolar\"}],\"carpet\":[{\"aaxis\":{\"endlinecolor\":\"#2a3f5f\",\"gridcolor\":\"white\",\"linecolor\":\"white\",\"minorgridcolor\":\"white\",\"startlinecolor\":\"#2a3f5f\"},\"baxis\":{\"endlinecolor\":\"#2a3f5f\",\"gridcolor\":\"white\",\"linecolor\":\"white\",\"minorgridcolor\":\"white\",\"startlinecolor\":\"#2a3f5f\"},\"type\":\"carpet\"}],\"choropleth\":[{\"colorbar\":{\"outlinewidth\":0,\"ticks\":\"\"},\"type\":\"choropleth\"}],\"contour\":[{\"colorbar\":{\"outlinewidth\":0,\"ticks\":\"\"},\"colorscale\":[[0.0,\"#0d0887\"],[0.1111111111111111,\"#46039f\"],[0.2222222222222222,\"#7201a8\"],[0.3333333333333333,\"#9c179e\"],[0.4444444444444444,\"#bd3786\"],[0.5555555555555556,\"#d8576b\"],[0.6666666666666666,\"#ed7953\"],[0.7777777777777778,\"#fb9f3a\"],[0.8888888888888888,\"#fdca26\"],[1.0,\"#f0f921\"]],\"type\":\"contour\"}],\"contourcarpet\":[{\"colorbar\":{\"outlinewidth\":0,\"ticks\":\"\"},\"type\":\"contourcarpet\"}],\"heatmap\":[{\"colorbar\":{\"outlinewidth\":0,\"ticks\":\"\"},\"colorscale\":[[0.0,\"#0d0887\"],[0.1111111111111111,\"#46039f\"],[0.2222222222222222,\"#7201a8\"],[0.3333333333333333,\"#9c179e\"],[0.4444444444444444,\"#bd3786\"],[0.5555555555555556,\"#d8576b\"],[0.6666666666666666,\"#ed7953\"],[0.7777777777777778,\"#fb9f3a\"],[0.8888888888888888,\"#fdca26\"],[1.0,\"#f0f921\"]],\"type\":\"heatmap\"}],\"heatmapgl\":[{\"colorbar\":{\"outlinewidth\":0,\"ticks\":\"\"},\"colorscale\":[[0.0,\"#0d0887\"],[0.1111111111111111,\"#46039f\"],[0.2222222222222222,\"#7201a8\"],[0.3333333333333333,\"#9c179e\"],[0.4444444444444444,\"#bd3786\"],[0.5555555555555556,\"#d8576b\"],[0.6666666666666666,\"#ed7953\"],[0.7777777777777778,\"#fb9f3a\"],[0.8888888888888888,\"#fdca26\"],[1.0,\"#f0f921\"]],\"type\":\"heatmapgl\"}],\"histogram\":[{\"marker\":{\"pattern\":{\"fillmode\":\"overlay\",\"size\":10,\"solidity\":0.2}},\"type\":\"histogram\"}],\"histogram2d\":[{\"colorbar\":{\"outlinewidth\":0,\"ticks\":\"\"},\"colorscale\":[[0.0,\"#0d0887\"],[0.1111111111111111,\"#46039f\"],[0.2222222222222222,\"#7201a8\"],[0.3333333333333333,\"#9c179e\"],[0.4444444444444444,\"#bd3786\"],[0.5555555555555556,\"#d8576b\"],[0.6666666666666666,\"#ed7953\"],[0.7777777777777778,\"#fb9f3a\"],[0.8888888888888888,\"#fdca26\"],[1.0,\"#f0f921\"]],\"type\":\"histogram2d\"}],\"histogram2dcontour\":[{\"colorbar\":{\"outlinewidth\":0,\"ticks\":\"\"},\"colorscale\":[[0.0,\"#0d0887\"],[0.1111111111111111,\"#46039f\"],[0.2222222222222222,\"#7201a8\"],[0.3333333333333333,\"#9c179e\"],[0.4444444444444444,\"#bd3786\"],[0.5555555555555556,\"#d8576b\"],[0.6666666666666666,\"#ed7953\"],[0.7777777777777778,\"#fb9f3a\"],[0.8888888888888888,\"#fdca26\"],[1.0,\"#f0f921\"]],\"type\":\"histogram2dcontour\"}],\"mesh3d\":[{\"colorbar\":{\"outlinewidth\":0,\"ticks\":\"\"},\"type\":\"mesh3d\"}],\"parcoords\":[{\"line\":{\"colorbar\":{\"outlinewidth\":0,\"ticks\":\"\"}},\"type\":\"parcoords\"}],\"pie\":[{\"automargin\":true,\"type\":\"pie\"}],\"scatter\":[{\"marker\":{\"colorbar\":{\"outlinewidth\":0,\"ticks\":\"\"}},\"type\":\"scatter\"}],\"scatter3d\":[{\"line\":{\"colorbar\":{\"outlinewidth\":0,\"ticks\":\"\"}},\"marker\":{\"colorbar\":{\"outlinewidth\":0,\"ticks\":\"\"}},\"type\":\"scatter3d\"}],\"scattercarpet\":[{\"marker\":{\"colorbar\":{\"outlinewidth\":0,\"ticks\":\"\"}},\"type\":\"scattercarpet\"}],\"scattergeo\":[{\"marker\":{\"colorbar\":{\"outlinewidth\":0,\"ticks\":\"\"}},\"type\":\"scattergeo\"}],\"scattergl\":[{\"marker\":{\"colorbar\":{\"outlinewidth\":0,\"ticks\":\"\"}},\"type\":\"scattergl\"}],\"scattermapbox\":[{\"marker\":{\"colorbar\":{\"outlinewidth\":0,\"ticks\":\"\"}},\"type\":\"scattermapbox\"}],\"scatterpolar\":[{\"marker\":{\"colorbar\":{\"outlinewidth\":0,\"ticks\":\"\"}},\"type\":\"scatterpolar\"}],\"scatterpolargl\":[{\"marker\":{\"colorbar\":{\"outlinewidth\":0,\"ticks\":\"\"}},\"type\":\"scatterpolargl\"}],\"scatterternary\":[{\"marker\":{\"colorbar\":{\"outlinewidth\":0,\"ticks\":\"\"}},\"type\":\"scatterternary\"}],\"surface\":[{\"colorbar\":{\"outlinewidth\":0,\"ticks\":\"\"},\"colorscale\":[[0.0,\"#0d0887\"],[0.1111111111111111,\"#46039f\"],[0.2222222222222222,\"#7201a8\"],[0.3333333333333333,\"#9c179e\"],[0.4444444444444444,\"#bd3786\"],[0.5555555555555556,\"#d8576b\"],[0.6666666666666666,\"#ed7953\"],[0.7777777777777778,\"#fb9f3a\"],[0.8888888888888888,\"#fdca26\"],[1.0,\"#f0f921\"]],\"type\":\"surface\"}],\"table\":[{\"cells\":{\"fill\":{\"color\":\"#EBF0F8\"},\"line\":{\"color\":\"white\"}},\"header\":{\"fill\":{\"color\":\"#C8D4E3\"},\"line\":{\"color\":\"white\"}},\"type\":\"table\"}]},\"layout\":{\"annotationdefaults\":{\"arrowcolor\":\"#2a3f5f\",\"arrowhead\":0,\"arrowwidth\":1},\"autotypenumbers\":\"strict\",\"coloraxis\":{\"colorbar\":{\"outlinewidth\":0,\"ticks\":\"\"}},\"colorscale\":{\"diverging\":[[0,\"#8e0152\"],[0.1,\"#c51b7d\"],[0.2,\"#de77ae\"],[0.3,\"#f1b6da\"],[0.4,\"#fde0ef\"],[0.5,\"#f7f7f7\"],[0.6,\"#e6f5d0\"],[0.7,\"#b8e186\"],[0.8,\"#7fbc41\"],[0.9,\"#4d9221\"],[1,\"#276419\"]],\"sequential\":[[0.0,\"#0d0887\"],[0.1111111111111111,\"#46039f\"],[0.2222222222222222,\"#7201a8\"],[0.3333333333333333,\"#9c179e\"],[0.4444444444444444,\"#bd3786\"],[0.5555555555555556,\"#d8576b\"],[0.6666666666666666,\"#ed7953\"],[0.7777777777777778,\"#fb9f3a\"],[0.8888888888888888,\"#fdca26\"],[1.0,\"#f0f921\"]],\"sequentialminus\":[[0.0,\"#0d0887\"],[0.1111111111111111,\"#46039f\"],[0.2222222222222222,\"#7201a8\"],[0.3333333333333333,\"#9c179e\"],[0.4444444444444444,\"#bd3786\"],[0.5555555555555556,\"#d8576b\"],[0.6666666666666666,\"#ed7953\"],[0.7777777777777778,\"#fb9f3a\"],[0.8888888888888888,\"#fdca26\"],[1.0,\"#f0f921\"]]},\"colorway\":[\"#636efa\",\"#EF553B\",\"#00cc96\",\"#ab63fa\",\"#FFA15A\",\"#19d3f3\",\"#FF6692\",\"#B6E880\",\"#FF97FF\",\"#FECB52\"],\"font\":{\"color\":\"#2a3f5f\"},\"geo\":{\"bgcolor\":\"white\",\"lakecolor\":\"white\",\"landcolor\":\"#E5ECF6\",\"showlakes\":true,\"showland\":true,\"subunitcolor\":\"white\"},\"hoverlabel\":{\"align\":\"left\"},\"hovermode\":\"closest\",\"mapbox\":{\"style\":\"light\"},\"paper_bgcolor\":\"white\",\"plot_bgcolor\":\"#E5ECF6\",\"polar\":{\"angularaxis\":{\"gridcolor\":\"white\",\"linecolor\":\"white\",\"ticks\":\"\"},\"bgcolor\":\"#E5ECF6\",\"radialaxis\":{\"gridcolor\":\"white\",\"linecolor\":\"white\",\"ticks\":\"\"}},\"scene\":{\"xaxis\":{\"backgroundcolor\":\"#E5ECF6\",\"gridcolor\":\"white\",\"gridwidth\":2,\"linecolor\":\"white\",\"showbackground\":true,\"ticks\":\"\",\"zerolinecolor\":\"white\"},\"yaxis\":{\"backgroundcolor\":\"#E5ECF6\",\"gridcolor\":\"white\",\"gridwidth\":2,\"linecolor\":\"white\",\"showbackground\":true,\"ticks\":\"\",\"zerolinecolor\":\"white\"},\"zaxis\":{\"backgroundcolor\":\"#E5ECF6\",\"gridcolor\":\"white\",\"gridwidth\":2,\"linecolor\":\"white\",\"showbackground\":true,\"ticks\":\"\",\"zerolinecolor\":\"white\"}},\"shapedefaults\":{\"line\":{\"color\":\"#2a3f5f\"}},\"ternary\":{\"aaxis\":{\"gridcolor\":\"white\",\"linecolor\":\"white\",\"ticks\":\"\"},\"baxis\":{\"gridcolor\":\"white\",\"linecolor\":\"white\",\"ticks\":\"\"},\"bgcolor\":\"#E5ECF6\",\"caxis\":{\"gridcolor\":\"white\",\"linecolor\":\"white\",\"ticks\":\"\"}},\"title\":{\"x\":0.05},\"xaxis\":{\"automargin\":true,\"gridcolor\":\"white\",\"linecolor\":\"white\",\"ticks\":\"\",\"title\":{\"standoff\":15},\"zerolinecolor\":\"white\",\"zerolinewidth\":2},\"yaxis\":{\"automargin\":true,\"gridcolor\":\"white\",\"linecolor\":\"white\",\"ticks\":\"\",\"title\":{\"standoff\":15},\"zerolinecolor\":\"white\",\"zerolinewidth\":2}}},\"width\":960,\"xaxis\":{\"anchor\":\"y\",\"categoryarray\":[\"strigol\",\"alpha-pinene\",\"hexenal\",\"alpha-terpinene\",\"indole\",\"luteolin\",\"E-beta-ocimene\",\"beta-phellandrene\",\"ethylene\",\"dimboa\",\"terpinolene\",\"1-8-cineole\",\"tricine\",\"eugenol\",\"8-cadinene\",\"bicylogermacrene\",\"beta-ocimene\",\"myrcene\",\"beta-caryophyllene\",\"alpha-humulene\",\"beta-bisabolene\",\"gamma-terpinene\",\"methyl jasmonate\",\"jasmonic acid\"],\"categoryorder\":\"array\",\"domain\":[0.0,1.0],\"title\":{\"text\":\"Metab\\u00f3lito\"}},\"yaxis\":{\"anchor\":\"x\",\"domain\":[0.0,1.0],\"title\":{\"text\":\"Planta\"}}},                        {\"responsive\": true}                    ).then(function(){\n",
       "                            \n",
       "var gd = document.getElementById('e92fc5b8-45e7-45f6-8453-0677970e580f');\n",
       "var x = new MutationObserver(function (mutations, observer) {{\n",
       "        var display = window.getComputedStyle(gd).display;\n",
       "        if (!display || display === 'none') {{\n",
       "            console.log([gd, 'removed!']);\n",
       "            Plotly.purge(gd);\n",
       "            observer.disconnect();\n",
       "        }}\n",
       "}});\n",
       "\n",
       "// Listen for the removal of the full notebook cells\n",
       "var notebookContainer = gd.closest('#notebook-container');\n",
       "if (notebookContainer) {{\n",
       "    x.observe(notebookContainer, {childList: true});\n",
       "}}\n",
       "\n",
       "// Listen for the clearing of the current output cell\n",
       "var outputEl = gd.closest('.output');\n",
       "if (outputEl) {{\n",
       "    x.observe(outputEl, {childList: true});\n",
       "}}\n",
       "\n",
       "                        })                };                });            </script>        </div>"
      ]
     },
     "metadata": {},
     "output_type": "display_data"
    }
   ],
   "source": [
    "fig = px.scatter(\n",
    "    df, \n",
    "    x = \"Metabólito\", \n",
    "    y = \"Planta\", \n",
    "    color=\"Metabólito\"\n",
    ")\n",
    "fig.update_traces(mode=\"markers\", hovertemplate = None)\n",
    "fig.update_layout(\n",
    "    showlegend=False, \n",
    "    hovermode=\"x\",\n",
    "    autosize=False,\n",
    "    width = 960,\n",
    "    height = 800)\n",
    "fig.show()"
   ]
  }
 ],
 "metadata": {
  "kernelspec": {
   "display_name": "Python 3",
   "language": "python",
   "name": "python3"
  },
  "language_info": {
   "codemirror_mode": {
    "name": "ipython",
    "version": 3
   },
   "file_extension": ".py",
   "mimetype": "text/x-python",
   "name": "python",
   "nbconvert_exporter": "python",
   "pygments_lexer": "ipython3",
   "version": "3.6.13"
  }
 },
 "nbformat": 4,
 "nbformat_minor": 5
}
